{
  "nbformat": 4,
  "nbformat_minor": 0,
  "metadata": {
    "colab": {
      "name": "xgboost_best.ipynb",
      "provenance": []
    },
    "kernelspec": {
      "name": "python3",
      "display_name": "Python 3"
    }
  },
  "cells": [
    {
      "cell_type": "code",
      "metadata": {
        "id": "IO_VZh_7TOXK",
        "colab_type": "code",
        "colab": {
          "base_uri": "https://localhost:8080/",
          "height": 124
        },
        "outputId": "b7f1f11e-3490-4753-ed67-fbfa379aae72"
      },
      "source": [
        "from pathlib import Path\n",
        "\n",
        "import numpy as np\n",
        "import pandas as pd\n",
        "\n",
        "\n",
        "pd.set_option(\"display.max_columns\", 100)\n",
        "\n",
        "from google.colab import drive\n",
        "drive.mount('/content/gdrive')\n",
        "DATA_PATH = \"/content/gdrive/My Drive/MLdata/\"\n",
        "\n",
        "train_df = pd.read_csv(\n",
        "    DATA_PATH + \"train.csv\", \n",
        "    index_col=\"tripid\"\n",
        ")\n",
        "test_df = pd.read_csv(\n",
        "    DATA_PATH + \"test.csv\", \n",
        "    index_col=\"tripid\"\n",
        ")\n"
      ],
      "execution_count": 1,
      "outputs": [
        {
          "output_type": "stream",
          "text": [
            "Go to this URL in a browser: https://accounts.google.com/o/oauth2/auth?client_id=947318989803-6bn6qk8qdgf4n4g3pfee6491hc0brc4i.apps.googleusercontent.com&redirect_uri=urn%3aietf%3awg%3aoauth%3a2.0%3aoob&response_type=code&scope=email%20https%3a%2f%2fwww.googleapis.com%2fauth%2fdocs.test%20https%3a%2f%2fwww.googleapis.com%2fauth%2fdrive%20https%3a%2f%2fwww.googleapis.com%2fauth%2fdrive.photos.readonly%20https%3a%2f%2fwww.googleapis.com%2fauth%2fpeopleapi.readonly\n",
            "\n",
            "Enter your authorization code:\n",
            "··········\n",
            "Mounted at /content/gdrive\n"
          ],
          "name": "stdout"
        }
      ]
    },
    {
      "cell_type": "code",
      "metadata": {
        "id": "_RrGmPdST1aA",
        "colab_type": "code",
        "colab": {}
      },
      "source": [
        "train_df[\"label\"] = train_df[\"label\"].map({\"incorrect\": 0, \"correct\":1})"
      ],
      "execution_count": 2,
      "outputs": []
    },
    {
      "cell_type": "code",
      "metadata": {
        "id": "8wfBFMh4T7sx",
        "colab_type": "code",
        "colab": {
          "base_uri": "https://localhost:8080/",
          "height": 416
        },
        "outputId": "d2c862da-b9e5-44bc-b6d2-34e7e1ba1365"
      },
      "source": [
        "train_df[\"pickup\"] = pd.to_datetime(train_df[\"pickup_time\"])\n",
        "train_df[\"drop\"] = pd.to_datetime(train_df[\"drop_time\"])\n",
        "train_df ['difference'] = train_df[\"drop\"] - train_df[\"pickup\"]\n",
        "train_df ['difference'] = train_df ['difference']/np.timedelta64(1,'s')\n",
        "train_df['duration'] = train_df['duration'].fillna(train_df ['difference'])\n",
        "train_df.info()"
      ],
      "execution_count": 3,
      "outputs": [
        {
          "output_type": "stream",
          "text": [
            "<class 'pandas.core.frame.DataFrame'>\n",
            "Int64Index: 17176 entries, 189123628 to 213817296\n",
            "Data columns (total 16 columns):\n",
            " #   Column                     Non-Null Count  Dtype         \n",
            "---  ------                     --------------  -----         \n",
            " 0   additional_fare            16974 non-null  float64       \n",
            " 1   duration                   17176 non-null  float64       \n",
            " 2   meter_waiting              16974 non-null  float64       \n",
            " 3   meter_waiting_fare         16974 non-null  float64       \n",
            " 4   meter_waiting_till_pickup  16974 non-null  float64       \n",
            " 5   pickup_time                17176 non-null  object        \n",
            " 6   drop_time                  17176 non-null  object        \n",
            " 7   pick_lat                   17176 non-null  float64       \n",
            " 8   pick_lon                   17176 non-null  float64       \n",
            " 9   drop_lat                   17176 non-null  float64       \n",
            " 10  drop_lon                   17176 non-null  float64       \n",
            " 11  fare                       17039 non-null  float64       \n",
            " 12  label                      17176 non-null  int64         \n",
            " 13  pickup                     17176 non-null  datetime64[ns]\n",
            " 14  drop                       17176 non-null  datetime64[ns]\n",
            " 15  difference                 17176 non-null  float64       \n",
            "dtypes: datetime64[ns](2), float64(11), int64(1), object(2)\n",
            "memory usage: 2.2+ MB\n"
          ],
          "name": "stdout"
        }
      ]
    },
    {
      "cell_type": "code",
      "metadata": {
        "id": "I83gTiITUVvm",
        "colab_type": "code",
        "colab": {
          "base_uri": "https://localhost:8080/",
          "height": 426
        },
        "outputId": "d5f5180f-5865-4e55-ca5c-b548e9157dda"
      },
      "source": [
        "train_df.head()\n",
        "\n",
        "# new_df = train_df[\"pickup_time\"]-train_df[\"drop_time\"]\n",
        "# train_df.info()\n",
        "# train_df.head()\n",
        "train_df.isnull().sum()\n",
        "train_df.head()"
      ],
      "execution_count": 4,
      "outputs": [
        {
          "output_type": "execute_result",
          "data": {
            "text/html": [
              "<div>\n",
              "<style scoped>\n",
              "    .dataframe tbody tr th:only-of-type {\n",
              "        vertical-align: middle;\n",
              "    }\n",
              "\n",
              "    .dataframe tbody tr th {\n",
              "        vertical-align: top;\n",
              "    }\n",
              "\n",
              "    .dataframe thead th {\n",
              "        text-align: right;\n",
              "    }\n",
              "</style>\n",
              "<table border=\"1\" class=\"dataframe\">\n",
              "  <thead>\n",
              "    <tr style=\"text-align: right;\">\n",
              "      <th></th>\n",
              "      <th>additional_fare</th>\n",
              "      <th>duration</th>\n",
              "      <th>meter_waiting</th>\n",
              "      <th>meter_waiting_fare</th>\n",
              "      <th>meter_waiting_till_pickup</th>\n",
              "      <th>pickup_time</th>\n",
              "      <th>drop_time</th>\n",
              "      <th>pick_lat</th>\n",
              "      <th>pick_lon</th>\n",
              "      <th>drop_lat</th>\n",
              "      <th>drop_lon</th>\n",
              "      <th>fare</th>\n",
              "      <th>label</th>\n",
              "      <th>pickup</th>\n",
              "      <th>drop</th>\n",
              "      <th>difference</th>\n",
              "    </tr>\n",
              "    <tr>\n",
              "      <th>tripid</th>\n",
              "      <th></th>\n",
              "      <th></th>\n",
              "      <th></th>\n",
              "      <th></th>\n",
              "      <th></th>\n",
              "      <th></th>\n",
              "      <th></th>\n",
              "      <th></th>\n",
              "      <th></th>\n",
              "      <th></th>\n",
              "      <th></th>\n",
              "      <th></th>\n",
              "      <th></th>\n",
              "      <th></th>\n",
              "      <th></th>\n",
              "      <th></th>\n",
              "    </tr>\n",
              "  </thead>\n",
              "  <tbody>\n",
              "    <tr>\n",
              "      <th>189123628</th>\n",
              "      <td>10.5</td>\n",
              "      <td>834.0</td>\n",
              "      <td>56.0</td>\n",
              "      <td>0.0000</td>\n",
              "      <td>64.0</td>\n",
              "      <td>11/1/2019 0:20</td>\n",
              "      <td>11/1/2019 0:34</td>\n",
              "      <td>6.86252</td>\n",
              "      <td>79.8993</td>\n",
              "      <td>6.90330</td>\n",
              "      <td>79.8783</td>\n",
              "      <td>270.32</td>\n",
              "      <td>1</td>\n",
              "      <td>2019-11-01 00:20:00</td>\n",
              "      <td>2019-11-01 00:34:00</td>\n",
              "      <td>840.0</td>\n",
              "    </tr>\n",
              "    <tr>\n",
              "      <th>189125358</th>\n",
              "      <td>10.5</td>\n",
              "      <td>791.0</td>\n",
              "      <td>47.0</td>\n",
              "      <td>0.0000</td>\n",
              "      <td>134.0</td>\n",
              "      <td>11/1/2019 0:56</td>\n",
              "      <td>11/1/2019 1:09</td>\n",
              "      <td>6.88589</td>\n",
              "      <td>79.8984</td>\n",
              "      <td>6.91373</td>\n",
              "      <td>79.8923</td>\n",
              "      <td>197.85</td>\n",
              "      <td>1</td>\n",
              "      <td>2019-11-01 00:56:00</td>\n",
              "      <td>2019-11-01 01:09:00</td>\n",
              "      <td>780.0</td>\n",
              "    </tr>\n",
              "    <tr>\n",
              "      <th>189125719</th>\n",
              "      <td>10.5</td>\n",
              "      <td>1087.0</td>\n",
              "      <td>80.0</td>\n",
              "      <td>0.0000</td>\n",
              "      <td>61.0</td>\n",
              "      <td>11/1/2019 1:08</td>\n",
              "      <td>11/1/2019 1:26</td>\n",
              "      <td>6.90839</td>\n",
              "      <td>79.8651</td>\n",
              "      <td>6.93669</td>\n",
              "      <td>79.9146</td>\n",
              "      <td>301.64</td>\n",
              "      <td>1</td>\n",
              "      <td>2019-11-01 01:08:00</td>\n",
              "      <td>2019-11-01 01:26:00</td>\n",
              "      <td>1080.0</td>\n",
              "    </tr>\n",
              "    <tr>\n",
              "      <th>189127273</th>\n",
              "      <td>10.5</td>\n",
              "      <td>598.0</td>\n",
              "      <td>271.0</td>\n",
              "      <td>15.6638</td>\n",
              "      <td>68.0</td>\n",
              "      <td>11/1/2019 2:27</td>\n",
              "      <td>11/1/2019 2:37</td>\n",
              "      <td>6.92570</td>\n",
              "      <td>79.8895</td>\n",
              "      <td>6.92748</td>\n",
              "      <td>79.8971</td>\n",
              "      <td>82.30</td>\n",
              "      <td>1</td>\n",
              "      <td>2019-11-01 02:27:00</td>\n",
              "      <td>2019-11-01 02:37:00</td>\n",
              "      <td>600.0</td>\n",
              "    </tr>\n",
              "    <tr>\n",
              "      <th>189128020</th>\n",
              "      <td>NaN</td>\n",
              "      <td>1020.0</td>\n",
              "      <td>NaN</td>\n",
              "      <td>NaN</td>\n",
              "      <td>NaN</td>\n",
              "      <td>11/1/2019 3:34</td>\n",
              "      <td>11/1/2019 3:51</td>\n",
              "      <td>6.87441</td>\n",
              "      <td>79.8615</td>\n",
              "      <td>6.84478</td>\n",
              "      <td>79.9290</td>\n",
              "      <td>358.39</td>\n",
              "      <td>1</td>\n",
              "      <td>2019-11-01 03:34:00</td>\n",
              "      <td>2019-11-01 03:51:00</td>\n",
              "      <td>1020.0</td>\n",
              "    </tr>\n",
              "  </tbody>\n",
              "</table>\n",
              "</div>"
            ],
            "text/plain": [
              "           additional_fare  duration  meter_waiting  meter_waiting_fare  \\\n",
              "tripid                                                                    \n",
              "189123628             10.5     834.0           56.0              0.0000   \n",
              "189125358             10.5     791.0           47.0              0.0000   \n",
              "189125719             10.5    1087.0           80.0              0.0000   \n",
              "189127273             10.5     598.0          271.0             15.6638   \n",
              "189128020              NaN    1020.0            NaN                 NaN   \n",
              "\n",
              "           meter_waiting_till_pickup     pickup_time       drop_time  \\\n",
              "tripid                                                                 \n",
              "189123628                       64.0  11/1/2019 0:20  11/1/2019 0:34   \n",
              "189125358                      134.0  11/1/2019 0:56  11/1/2019 1:09   \n",
              "189125719                       61.0  11/1/2019 1:08  11/1/2019 1:26   \n",
              "189127273                       68.0  11/1/2019 2:27  11/1/2019 2:37   \n",
              "189128020                        NaN  11/1/2019 3:34  11/1/2019 3:51   \n",
              "\n",
              "           pick_lat  pick_lon  drop_lat  drop_lon    fare  label  \\\n",
              "tripid                                                             \n",
              "189123628   6.86252   79.8993   6.90330   79.8783  270.32      1   \n",
              "189125358   6.88589   79.8984   6.91373   79.8923  197.85      1   \n",
              "189125719   6.90839   79.8651   6.93669   79.9146  301.64      1   \n",
              "189127273   6.92570   79.8895   6.92748   79.8971   82.30      1   \n",
              "189128020   6.87441   79.8615   6.84478   79.9290  358.39      1   \n",
              "\n",
              "                       pickup                drop  difference  \n",
              "tripid                                                         \n",
              "189123628 2019-11-01 00:20:00 2019-11-01 00:34:00       840.0  \n",
              "189125358 2019-11-01 00:56:00 2019-11-01 01:09:00       780.0  \n",
              "189125719 2019-11-01 01:08:00 2019-11-01 01:26:00      1080.0  \n",
              "189127273 2019-11-01 02:27:00 2019-11-01 02:37:00       600.0  \n",
              "189128020 2019-11-01 03:34:00 2019-11-01 03:51:00      1020.0  "
            ]
          },
          "metadata": {
            "tags": []
          },
          "execution_count": 4
        }
      ]
    },
    {
      "cell_type": "code",
      "metadata": {
        "id": "L7W3KdRcUZkm",
        "colab_type": "code",
        "colab": {
          "base_uri": "https://localhost:8080/",
          "height": 225
        },
        "outputId": "3c7d76ad-0716-4a04-cdb2-88b424141c7e"
      },
      "source": [
        "train_df2 = train_df.drop(['pickup_time','drop_time','pickup','drop','difference'],axis='columns')\n",
        "train_df2.isnull().sum()"
      ],
      "execution_count": 5,
      "outputs": [
        {
          "output_type": "execute_result",
          "data": {
            "text/plain": [
              "additional_fare              202\n",
              "duration                       0\n",
              "meter_waiting                202\n",
              "meter_waiting_fare           202\n",
              "meter_waiting_till_pickup    202\n",
              "pick_lat                       0\n",
              "pick_lon                       0\n",
              "drop_lat                       0\n",
              "drop_lon                       0\n",
              "fare                         137\n",
              "label                          0\n",
              "dtype: int64"
            ]
          },
          "metadata": {
            "tags": []
          },
          "execution_count": 5
        }
      ]
    },
    {
      "cell_type": "code",
      "metadata": {
        "id": "bxQp9zzwlWRT",
        "colab_type": "code",
        "colab": {
          "base_uri": "https://localhost:8080/",
          "height": 225
        },
        "outputId": "1cbf989a-00a3-46c6-a393-6009c244b481"
      },
      "source": [
        "#train_df2['fare'] = train_df2['fare'] .fillna(train_df2.fare.mean())\n",
        "train_df2['additional_fare'] = train_df2['additional_fare'].fillna(train_df2.additional_fare.mean())\n",
        "train_df2['meter_waiting'] = train_df2['meter_waiting'].fillna(train_df2.meter_waiting.mean())\n",
        "train_df2['meter_waiting_fare'] = train_df2['meter_waiting_fare'].fillna(train_df2.meter_waiting_fare.mean())\n",
        "train_df2['meter_waiting_till_pickup'] = train_df2['meter_waiting_till_pickup'].fillna(train_df2.meter_waiting_till_pickup.mean())\n",
        "train_df2.isnull().sum()\n"
      ],
      "execution_count": 6,
      "outputs": [
        {
          "output_type": "execute_result",
          "data": {
            "text/plain": [
              "additional_fare                0\n",
              "duration                       0\n",
              "meter_waiting                  0\n",
              "meter_waiting_fare             0\n",
              "meter_waiting_till_pickup      0\n",
              "pick_lat                       0\n",
              "pick_lon                       0\n",
              "drop_lat                       0\n",
              "drop_lon                       0\n",
              "fare                         137\n",
              "label                          0\n",
              "dtype: int64"
            ]
          },
          "metadata": {
            "tags": []
          },
          "execution_count": 6
        }
      ]
    },
    {
      "cell_type": "code",
      "metadata": {
        "id": "RfbFI92Clopd",
        "colab_type": "code",
        "colab": {}
      },
      "source": [
        "from math import radians, cos, sin, asin, sqrt\n",
        "import numpy as np\n",
        "\n",
        "def haversine_np(lon1, lat1, lon2, lat2):\n",
        "    \"\"\"\n",
        "    Calculate the great circle distance between two points\n",
        "    on the earth (specified in decimal degrees)\n",
        "\n",
        "    All args must be of equal length.    \n",
        "\n",
        "    \"\"\"\n",
        "    lon1, lat1, lon2, lat2 = map(np.radians, [lon1, lat1, lon2, lat2])\n",
        "\n",
        "    dlon = lon2 - lon1\n",
        "    dlat = lat2 - lat1\n",
        "\n",
        "    a = np.sin(dlat/2.0)**2 + np.cos(lat1) * np.cos(lat2) * np.sin(dlon/2.0)**2\n",
        "\n",
        "    c = 2 * np.arcsin(np.sqrt(a))\n",
        "    km = 6371 * c  # 6371 is Radius of earth in kilometers. Use 3956 for miles\n",
        "    return km\n",
        "\n",
        "train_df2['distance'] = haversine_np(train_df2['pick_lat'], train_df2['pick_lon'], train_df2['drop_lat'] , train_df2['drop_lon'])"
      ],
      "execution_count": 8,
      "outputs": []
    },
    {
      "cell_type": "code",
      "metadata": {
        "id": "C-S_18culrLI",
        "colab_type": "code",
        "colab": {}
      },
      "source": [
        "clean_df = train_df2.drop(['pick_lat','pick_lon','drop_lat','drop_lon'],axis='columns')"
      ],
      "execution_count": 9,
      "outputs": []
    },
    {
      "cell_type": "code",
      "metadata": {
        "id": "ULhHb3FSuKaE",
        "colab_type": "code",
        "colab": {
          "base_uri": "https://localhost:8080/",
          "height": 656
        },
        "outputId": "b7d3ca7f-6bc3-4cc0-d804-9e8735934677"
      },
      "source": [
        "import matplotlib.pyplot as plt\n",
        "import seaborn as sns\n",
        "corr = clean_df.iloc[:,1:].corr()\n",
        "colormap = sns.diverging_palette(220, 10, as_cmap = True)\n",
        "plt.figure(figsize=(9,9))\n",
        "sns.heatmap(corr, cbar = True,  square = True, annot=True, fmt= '.2f',annot_kws={'size': 8},\n",
        "            cmap = colormap, linewidths=0.1, linecolor='white')\n",
        "plt.title('Correlation of Features', y=1.05, size=15)"
      ],
      "execution_count": 15,
      "outputs": [
        {
          "output_type": "stream",
          "text": [
            "/usr/local/lib/python3.6/dist-packages/statsmodels/tools/_testing.py:19: FutureWarning: pandas.util.testing is deprecated. Use the functions in the public API at pandas.testing instead.\n",
            "  import pandas.util.testing as tm\n"
          ],
          "name": "stderr"
        },
        {
          "output_type": "execute_result",
          "data": {
            "text/plain": [
              "Text(0.5, 1.05, 'Correlation of Features')"
            ]
          },
          "metadata": {
            "tags": []
          },
          "execution_count": 15
        },
        {
          "output_type": "display_data",
          "data": {
            "image/png": "[encoded data removed]",
            "text/plain": [
              "<Figure size 648x648 with 2 Axes>"
            ]
          },
          "metadata": {
            "tags": [],
            "needs_background": "light"
          }
        }
      ]
    },
    {
      "cell_type": "code",
      "metadata": {
        "id": "dVmKN3jcltZM",
        "colab_type": "code",
        "colab": {
          "base_uri": "https://localhost:8080/",
          "height": 277
        },
        "outputId": "d74bbcc6-f513-42a2-b85d-49f3205ec28d"
      },
      "source": [
        "\n",
        "clean_df.info()"
      ],
      "execution_count": 10,
      "outputs": [
        {
          "output_type": "stream",
          "text": [
            "<class 'pandas.core.frame.DataFrame'>\n",
            "Int64Index: 17039 entries, 189123628 to 213817296\n",
            "Data columns (total 8 columns):\n",
            " #   Column                     Non-Null Count  Dtype  \n",
            "---  ------                     --------------  -----  \n",
            " 0   additional_fare            17039 non-null  float64\n",
            " 1   duration                   17039 non-null  float64\n",
            " 2   meter_waiting              17039 non-null  float64\n",
            " 3   meter_waiting_fare         17039 non-null  float64\n",
            " 4   meter_waiting_till_pickup  17039 non-null  float64\n",
            " 5   fare                       17039 non-null  float64\n",
            " 6   label                      17039 non-null  int64  \n",
            " 7   distance                   17039 non-null  float64\n",
            "dtypes: float64(7), int64(1)\n",
            "memory usage: 1.2 MB\n"
          ],
          "name": "stdout"
        }
      ]
    },
    {
      "cell_type": "code",
      "metadata": {
        "id": "4XoPrOtzlyBM",
        "colab_type": "code",
        "colab": {
          "base_uri": "https://localhost:8080/",
          "height": 233
        },
        "outputId": "0371ac59-e443-432d-b36a-754e59e6c74d"
      },
      "source": [
        "clean_df.head()"
      ],
      "execution_count": 11,
      "outputs": [
        {
          "output_type": "execute_result",
          "data": {
            "text/html": [
              "<div>\n",
              "<style scoped>\n",
              "    .dataframe tbody tr th:only-of-type {\n",
              "        vertical-align: middle;\n",
              "    }\n",
              "\n",
              "    .dataframe tbody tr th {\n",
              "        vertical-align: top;\n",
              "    }\n",
              "\n",
              "    .dataframe thead th {\n",
              "        text-align: right;\n",
              "    }\n",
              "</style>\n",
              "<table border=\"1\" class=\"dataframe\">\n",
              "  <thead>\n",
              "    <tr style=\"text-align: right;\">\n",
              "      <th></th>\n",
              "      <th>additional_fare</th>\n",
              "      <th>duration</th>\n",
              "      <th>meter_waiting</th>\n",
              "      <th>meter_waiting_fare</th>\n",
              "      <th>meter_waiting_till_pickup</th>\n",
              "      <th>fare</th>\n",
              "      <th>label</th>\n",
              "      <th>distance</th>\n",
              "    </tr>\n",
              "    <tr>\n",
              "      <th>tripid</th>\n",
              "      <th></th>\n",
              "      <th></th>\n",
              "      <th></th>\n",
              "      <th></th>\n",
              "      <th></th>\n",
              "      <th></th>\n",
              "      <th></th>\n",
              "      <th></th>\n",
              "    </tr>\n",
              "  </thead>\n",
              "  <tbody>\n",
              "    <tr>\n",
              "      <th>189123628</th>\n",
              "      <td>10.500000</td>\n",
              "      <td>834.0</td>\n",
              "      <td>56.000000</td>\n",
              "      <td>0.000000</td>\n",
              "      <td>64.000000</td>\n",
              "      <td>270.32</td>\n",
              "      <td>1</td>\n",
              "      <td>2.467063</td>\n",
              "    </tr>\n",
              "    <tr>\n",
              "      <th>189125358</th>\n",
              "      <td>10.500000</td>\n",
              "      <td>791.0</td>\n",
              "      <td>47.000000</td>\n",
              "      <td>0.000000</td>\n",
              "      <td>134.000000</td>\n",
              "      <td>197.85</td>\n",
              "      <td>1</td>\n",
              "      <td>0.868942</td>\n",
              "    </tr>\n",
              "    <tr>\n",
              "      <th>189125719</th>\n",
              "      <td>10.500000</td>\n",
              "      <td>1087.0</td>\n",
              "      <td>80.000000</td>\n",
              "      <td>0.000000</td>\n",
              "      <td>61.000000</td>\n",
              "      <td>301.64</td>\n",
              "      <td>1</td>\n",
              "      <td>5.531798</td>\n",
              "    </tr>\n",
              "    <tr>\n",
              "      <th>189127273</th>\n",
              "      <td>10.500000</td>\n",
              "      <td>598.0</td>\n",
              "      <td>271.000000</td>\n",
              "      <td>15.663800</td>\n",
              "      <td>68.000000</td>\n",
              "      <td>82.30</td>\n",
              "      <td>1</td>\n",
              "      <td>0.845795</td>\n",
              "    </tr>\n",
              "    <tr>\n",
              "      <th>189128020</th>\n",
              "      <td>13.719651</td>\n",
              "      <td>1020.0</td>\n",
              "      <td>629.074231</td>\n",
              "      <td>32.057666</td>\n",
              "      <td>112.466832</td>\n",
              "      <td>358.39</td>\n",
              "      <td>1</td>\n",
              "      <td>7.527884</td>\n",
              "    </tr>\n",
              "  </tbody>\n",
              "</table>\n",
              "</div>"
            ],
            "text/plain": [
              "           additional_fare  duration  meter_waiting  meter_waiting_fare  \\\n",
              "tripid                                                                    \n",
              "189123628        10.500000     834.0      56.000000            0.000000   \n",
              "189125358        10.500000     791.0      47.000000            0.000000   \n",
              "189125719        10.500000    1087.0      80.000000            0.000000   \n",
              "189127273        10.500000     598.0     271.000000           15.663800   \n",
              "189128020        13.719651    1020.0     629.074231           32.057666   \n",
              "\n",
              "           meter_waiting_till_pickup    fare  label  distance  \n",
              "tripid                                                         \n",
              "189123628                  64.000000  270.32      1  2.467063  \n",
              "189125358                 134.000000  197.85      1  0.868942  \n",
              "189125719                  61.000000  301.64      1  5.531798  \n",
              "189127273                  68.000000   82.30      1  0.845795  \n",
              "189128020                 112.466832  358.39      1  7.527884  "
            ]
          },
          "metadata": {
            "tags": []
          },
          "execution_count": 11
        }
      ]
    },
    {
      "cell_type": "code",
      "metadata": {
        "id": "gVg7wmtyl1JT",
        "colab_type": "code",
        "colab": {
          "base_uri": "https://localhost:8080/",
          "height": 173
        },
        "outputId": "6e9bf898-b450-4aa4-8025-7e3a38c9da88"
      },
      "source": [
        "\n",
        "clean_df.isnull().sum()"
      ],
      "execution_count": 12,
      "outputs": [
        {
          "output_type": "execute_result",
          "data": {
            "text/plain": [
              "additional_fare              0\n",
              "duration                     0\n",
              "meter_waiting                0\n",
              "meter_waiting_fare           0\n",
              "meter_waiting_till_pickup    0\n",
              "fare                         0\n",
              "label                        0\n",
              "distance                     0\n",
              "dtype: int64"
            ]
          },
          "metadata": {
            "tags": []
          },
          "execution_count": 12
        }
      ]
    },
    {
      "cell_type": "code",
      "metadata": {
        "id": "ufiW_wSml3-4",
        "colab_type": "code",
        "colab": {}
      },
      "source": [
        "clean_df = clean_df.drop(['meter_waiting_till_pickup'],axis='columns')"
      ],
      "execution_count": 13,
      "outputs": []
    },
    {
      "cell_type": "markdown",
      "metadata": {
        "id": "Zlo2gRoCl67i",
        "colab_type": "text"
      },
      "source": [
        "**Training**"
      ]
    },
    {
      "cell_type": "code",
      "metadata": {
        "id": "pkOqECQEl6IQ",
        "colab_type": "code",
        "colab": {
          "base_uri": "https://localhost:8080/",
          "height": 139
        },
        "outputId": "ec1f8f37-2cde-454e-f02f-ea9513e60023"
      },
      "source": [
        "\n",
        "X_train = clean_df.drop(['label'],axis='columns')\n",
        "Y_train = clean_df['label']\n",
        "Y_train.head()"
      ],
      "execution_count": 17,
      "outputs": [
        {
          "output_type": "execute_result",
          "data": {
            "text/plain": [
              "tripid\n",
              "189123628    1\n",
              "189125358    1\n",
              "189125719    1\n",
              "189127273    1\n",
              "189128020    1\n",
              "Name: label, dtype: int64"
            ]
          },
          "metadata": {
            "tags": []
          },
          "execution_count": 17
        }
      ]
    },
    {
      "cell_type": "code",
      "metadata": {
        "id": "ckDqSpErWZzF",
        "colab_type": "code",
        "colab": {}
      },
      "source": [
        "classifiers = []\n",
        "model =  XGBClassifier(learning_rate =0.1, n_estimators=570, max_depth=4,\n",
        " min_child_weight=6, gamma=0.2, subsample=0.9, colsample_bytree=0.8,\n",
        " objective= 'binary:logistic', nthread=4, scale_pos_weight=1,seed=27,reg_alpha=0.08)\n",
        "classifiers.append(model)\n",
        "\n",
        "\n",
        "c_results = []\n",
        "c_roc=[]\n",
        "for classifier in classifiers : \n",
        "    c_results.append(cross_val_score(classifier,X_train, y = Y_train, scoring = 'f1', cv = kfold, n_jobs=4)) \n",
        "   \n",
        "    \n",
        "c_means = []\n",
        "c_std = []\n",
        "for c_result in c_results:\n",
        "    c_means.append(c_result.mean())\n",
        "    c_std.append(c_result.std())\n",
        "    \n",
        "c_res = pd.DataFrame({\"CrossValMeans\":c_means,\"CrossValerrors\": c_std,\"Algorithm\":[\"xgcboot\"]}) \n",
        "c_res"
      ],
      "execution_count": null,
      "outputs": []
    },
    {
      "cell_type": "code",
      "metadata": {
        "id": "vlh025XTmA63",
        "colab_type": "code",
        "colab": {}
      },
      "source": [
        "from sklearn.pipeline import Pipeline\n",
        "from sklearn.impute import SimpleImputer\n",
        "from sklearn.preprocessing import StandardScaler, OneHotEncoder\n",
        "numeric_transformer = Pipeline(steps=[\n",
        "    ('imputer', SimpleImputer(strategy='mean')),\n",
        "    ('scaler', StandardScaler())])\n",
        "categorical_transformer = Pipeline(steps=[\n",
        "    ('imputer', SimpleImputer(strategy='constant', fill_value='missing')),\n",
        "    ('onehot', OneHotEncoder(handle_unknown='ignore'))])\n",
        "numeric_features = clean_df.select_dtypes(include=['int64', 'float64']).drop(['label'], axis=1).columns\n",
        "categorical_features = clean_df.select_dtypes(include=['object']).columns\n",
        "from sklearn.compose import ColumnTransformer\n",
        "preprocessor = ColumnTransformer(\n",
        "    transformers=[\n",
        "        ('num', numeric_transformer, numeric_features),\n",
        "        ('cat', categorical_transformer, categorical_features)])\n",
        "from sklearn.ensemble import RandomForestClassifier\n",
        "from xgboost import XGBClassifier\n",
        "classifier= XGBClassifier( learning_rate =0.1, n_estimators=570, max_depth=4,\n",
        " min_child_weight=6, gamma=0.2, subsample=0.9, colsample_bytree=0.8,\n",
        " objective= 'binary:logistic', nthread=4, scale_pos_weight=1,seed=27,reg_alpha=0.08,)\n",
        "\n",
        "#classifier=RandomForestClassifier(n_estimators=500,min_samples_split= 3,bootstrap=True)\n",
        "from sklearn.ensemble import RandomForestClassifier\n",
        "rf = Pipeline(steps=[('preprocessor', preprocessor),\n",
        "                      ('classifier', classifier)])"
      ],
      "execution_count": null,
      "outputs": []
    },
    {
      "cell_type": "code",
      "metadata": {
        "id": "6w5UtU2emVwp",
        "colab_type": "code",
        "colab": {}
      },
      "source": [
        "from sklearn.model_selection import train_test_split\n",
        "x_train, x_test, y_train, y_test = train_test_split(X_train, Y_train, test_size=0.25)"
      ],
      "execution_count": null,
      "outputs": []
    },
    {
      "cell_type": "code",
      "metadata": {
        "id": "Dii02Sbbo7wp",
        "colab_type": "code",
        "colab": {
          "base_uri": "https://localhost:8080/",
          "height": 35
        },
        "outputId": "0f6ee945-e3c8-4cba-ad0f-9c90198faccd"
      },
      "source": [
        "\n",
        "rf.fit(x_train, y_train)\n",
        "y_pred = rf.predict(x_test)\n",
        "\n",
        "from sklearn.metrics import roc_curve, auc\n",
        "false_positive_rate, true_positive_rate, thresholds = roc_curve(y_test, y_pred)\n",
        "roc_auc = auc(false_positive_rate, true_positive_rate)\n",
        "roc_auc"
      ],
      "execution_count": null,
      "outputs": [
        {
          "output_type": "execute_result",
          "data": {
            "text/plain": [
              "0.766858552631579"
            ]
          },
          "metadata": {
            "tags": []
          },
          "execution_count": 20
        }
      ]
    },
    {
      "cell_type": "code",
      "metadata": {
        "id": "riS75k1Do8Tu",
        "colab_type": "code",
        "colab": {
          "base_uri": "https://localhost:8080/",
          "height": 69
        },
        "outputId": "1443406c-f472-4459-b714-dc63bb48f5dc"
      },
      "source": [
        "from sklearn.metrics import mean_squared_error\n",
        "from math import sqrt\n",
        "\n",
        "y_pred=np.round(rf.predict(x_test),2)\n",
        "lm_rmse=np.sqrt(mean_squared_error(y_pred, y_test))\n",
        "lm_train_rmse=np.sqrt(mean_squared_error(rf.predict(x_train), y_train))\n",
        "lm_variance=abs(lm_train_rmse - lm_rmse)\n",
        "print(\"Test RMSE for Linear Regression is \",lm_rmse)\n",
        "print(\"Train RMSE for Linear Regression is \",lm_train_rmse)\n",
        "print(\"Variance for Linear Regression is \",lm_variance)"
      ],
      "execution_count": null,
      "outputs": [
        {
          "output_type": "stream",
          "text": [
            "Test RMSE for Linear Regression is  0.23487085653359868\n",
            "Train RMSE for Linear Regression is  0.20422794597356625\n",
            "Variance for Linear Regression is  0.030642910560032433\n"
          ],
          "name": "stdout"
        }
      ]
    },
    {
      "cell_type": "code",
      "metadata": {
        "id": "-jf2UgGdpA2E",
        "colab_type": "code",
        "colab": {
          "base_uri": "https://localhost:8080/",
          "height": 35
        },
        "outputId": "3711cd59-53bf-4098-ecdb-83068dccf185"
      },
      "source": [
        "from sklearn.metrics import f1_score\n",
        "f1_score(y_test, y_pred,average='weighted')"
      ],
      "execution_count": null,
      "outputs": [
        {
          "output_type": "execute_result",
          "data": {
            "text/plain": [
              "0.9425595433063497"
            ]
          },
          "metadata": {
            "tags": []
          },
          "execution_count": 21
        }
      ]
    },
    {
      "cell_type": "code",
      "metadata": {
        "id": "x8r5e4XRpD25",
        "colab_type": "code",
        "colab": {
          "base_uri": "https://localhost:8080/",
          "height": 503
        },
        "outputId": "7c12db64-d512-4096-be28-4bde92dd68aa"
      },
      "source": [
        "rf.fit(X_train,Y_train)"
      ],
      "execution_count": null,
      "outputs": [
        {
          "output_type": "execute_result",
          "data": {
            "text/plain": [
              "Pipeline(memory=None,\n",
              "         steps=[('preprocessor',\n",
              "                 ColumnTransformer(n_jobs=None, remainder='drop',\n",
              "                                   sparse_threshold=0.3,\n",
              "                                   transformer_weights=None,\n",
              "                                   transformers=[('num',\n",
              "                                                  Pipeline(memory=None,\n",
              "                                                           steps=[('imputer',\n",
              "                                                                   SimpleImputer(add_indicator=False,\n",
              "                                                                                 copy=True,\n",
              "                                                                                 fill_value=None,\n",
              "                                                                                 missing_values=nan,\n",
              "                                                                                 strategy='mean',\n",
              "                                                                                 verbose=0)),\n",
              "                                                                  ('scaler',\n",
              "                                                                   StandardScaler(copy=True,\n",
              "                                                                                  with_mean=T...\n",
              "                 XGBClassifier(base_score=0.5, booster='gbtree',\n",
              "                               colsample_bylevel=1, colsample_bynode=1,\n",
              "                               colsample_bytree=0.8, gamma=0.2,\n",
              "                               learning_rate=0.1, max_delta_step=0, max_depth=4,\n",
              "                               min_child_weight=6, missing=None,\n",
              "                               n_estimators=570, n_jobs=1, nthread=4,\n",
              "                               objective='binary:logistic', random_state=0,\n",
              "                               reg_alpha=0.08, reg_lambda=1, scale_pos_weight=1,\n",
              "                               seed=27, silent=None, subsample=0.9,\n",
              "                               verbosity=1))],\n",
              "         verbose=False)"
            ]
          },
          "metadata": {
            "tags": []
          },
          "execution_count": 39
        }
      ]
    },
    {
      "cell_type": "markdown",
      "metadata": {
        "id": "fltOEYKAqTeX",
        "colab_type": "text"
      },
      "source": [
        "**Predicting**"
      ]
    },
    {
      "cell_type": "code",
      "metadata": {
        "id": "OIFoSR4iqaCn",
        "colab_type": "code",
        "colab": {
          "base_uri": "https://localhost:8080/",
          "height": 260
        },
        "outputId": "c4eef75c-a875-4ae2-cb66-67c2cb385a04"
      },
      "source": [
        "test_df.isnull().sum()"
      ],
      "execution_count": null,
      "outputs": [
        {
          "output_type": "execute_result",
          "data": {
            "text/plain": [
              "additional_fare              0\n",
              "duration                     0\n",
              "meter_waiting                0\n",
              "meter_waiting_fare           0\n",
              "meter_waiting_till_pickup    0\n",
              "pickup_time                  0\n",
              "drop_time                    0\n",
              "pick_lat                     0\n",
              "pick_lon                     0\n",
              "drop_lat                     0\n",
              "drop_lon                     0\n",
              "fare                         0\n",
              "distance                     0\n",
              "dtype: int64"
            ]
          },
          "metadata": {
            "tags": []
          },
          "execution_count": 40
        }
      ]
    },
    {
      "cell_type": "code",
      "metadata": {
        "id": "AJAMZNomqdaO",
        "colab_type": "code",
        "colab": {
          "base_uri": "https://localhost:8080/",
          "height": 686
        },
        "outputId": "6a694ece-4865-445c-e2ca-e0efe93ce32b"
      },
      "source": [
        "test_df.info()\n",
        "test_df.head()\n",
        "test_df.isnull().sum()\n",
        "test_df.head()"
      ],
      "execution_count": null,
      "outputs": [
        {
          "output_type": "stream",
          "text": [
            "<class 'pandas.core.frame.DataFrame'>\n",
            "Int64Index: 8576 entries, 213284604 to 222860703\n",
            "Data columns (total 13 columns):\n",
            " #   Column                     Non-Null Count  Dtype  \n",
            "---  ------                     --------------  -----  \n",
            " 0   additional_fare            8576 non-null   float64\n",
            " 1   duration                   8576 non-null   int64  \n",
            " 2   meter_waiting              8576 non-null   int64  \n",
            " 3   meter_waiting_fare         8576 non-null   float64\n",
            " 4   meter_waiting_till_pickup  8576 non-null   int64  \n",
            " 5   pickup_time                8576 non-null   object \n",
            " 6   drop_time                  8576 non-null   object \n",
            " 7   pick_lat                   8576 non-null   float64\n",
            " 8   pick_lon                   8576 non-null   float64\n",
            " 9   drop_lat                   8576 non-null   float64\n",
            " 10  drop_lon                   8576 non-null   float64\n",
            " 11  fare                       8576 non-null   float64\n",
            " 12  distance                   8576 non-null   float64\n",
            "dtypes: float64(8), int64(3), object(2)\n",
            "memory usage: 938.0+ KB\n"
          ],
          "name": "stdout"
        },
        {
          "output_type": "execute_result",
          "data": {
            "text/html": [
              "<div>\n",
              "<style scoped>\n",
              "    .dataframe tbody tr th:only-of-type {\n",
              "        vertical-align: middle;\n",
              "    }\n",
              "\n",
              "    .dataframe tbody tr th {\n",
              "        vertical-align: top;\n",
              "    }\n",
              "\n",
              "    .dataframe thead th {\n",
              "        text-align: right;\n",
              "    }\n",
              "</style>\n",
              "<table border=\"1\" class=\"dataframe\">\n",
              "  <thead>\n",
              "    <tr style=\"text-align: right;\">\n",
              "      <th></th>\n",
              "      <th>additional_fare</th>\n",
              "      <th>duration</th>\n",
              "      <th>meter_waiting</th>\n",
              "      <th>meter_waiting_fare</th>\n",
              "      <th>meter_waiting_till_pickup</th>\n",
              "      <th>pickup_time</th>\n",
              "      <th>drop_time</th>\n",
              "      <th>pick_lat</th>\n",
              "      <th>pick_lon</th>\n",
              "      <th>drop_lat</th>\n",
              "      <th>drop_lon</th>\n",
              "      <th>fare</th>\n",
              "      <th>distance</th>\n",
              "    </tr>\n",
              "    <tr>\n",
              "      <th>tripid</th>\n",
              "      <th></th>\n",
              "      <th></th>\n",
              "      <th></th>\n",
              "      <th></th>\n",
              "      <th></th>\n",
              "      <th></th>\n",
              "      <th></th>\n",
              "      <th></th>\n",
              "      <th></th>\n",
              "      <th></th>\n",
              "      <th></th>\n",
              "      <th></th>\n",
              "      <th></th>\n",
              "    </tr>\n",
              "  </thead>\n",
              "  <tbody>\n",
              "    <tr>\n",
              "      <th>213284604</th>\n",
              "      <td>10.5</td>\n",
              "      <td>924</td>\n",
              "      <td>42</td>\n",
              "      <td>2.4486</td>\n",
              "      <td>148</td>\n",
              "      <td>2/1/2020 0:38</td>\n",
              "      <td>2/1/2020 0:53</td>\n",
              "      <td>6.83454</td>\n",
              "      <td>79.8750</td>\n",
              "      <td>6.77490</td>\n",
              "      <td>79.8840</td>\n",
              "      <td>289.27</td>\n",
              "      <td>1.536052</td>\n",
              "    </tr>\n",
              "    <tr>\n",
              "      <th>213286352</th>\n",
              "      <td>10.5</td>\n",
              "      <td>4249</td>\n",
              "      <td>20</td>\n",
              "      <td>0.0000</td>\n",
              "      <td>91</td>\n",
              "      <td>2/1/2020 1:02</td>\n",
              "      <td>2/1/2020 2:13</td>\n",
              "      <td>6.91168</td>\n",
              "      <td>79.8723</td>\n",
              "      <td>6.55091</td>\n",
              "      <td>79.9706</td>\n",
              "      <td>1912.70</td>\n",
              "      <td>12.990640</td>\n",
              "    </tr>\n",
              "    <tr>\n",
              "      <th>213293973</th>\n",
              "      <td>10.5</td>\n",
              "      <td>1552</td>\n",
              "      <td>255</td>\n",
              "      <td>2.6588</td>\n",
              "      <td>23</td>\n",
              "      <td>2/1/2020 5:02</td>\n",
              "      <td>2/1/2020 5:28</td>\n",
              "      <td>6.92145</td>\n",
              "      <td>79.8478</td>\n",
              "      <td>6.90539</td>\n",
              "      <td>79.8989</td>\n",
              "      <td>394.00</td>\n",
              "      <td>5.690729</td>\n",
              "    </tr>\n",
              "    <tr>\n",
              "      <th>213294622</th>\n",
              "      <td>10.5</td>\n",
              "      <td>462</td>\n",
              "      <td>16</td>\n",
              "      <td>0.0000</td>\n",
              "      <td>198</td>\n",
              "      <td>2/1/2020 5:30</td>\n",
              "      <td>2/1/2020 5:38</td>\n",
              "      <td>6.77433</td>\n",
              "      <td>79.9416</td>\n",
              "      <td>6.80401</td>\n",
              "      <td>79.9407</td>\n",
              "      <td>154.32</td>\n",
              "      <td>0.585046</td>\n",
              "    </tr>\n",
              "    <tr>\n",
              "      <th>213298687</th>\n",
              "      <td>10.5</td>\n",
              "      <td>814</td>\n",
              "      <td>392</td>\n",
              "      <td>12.3692</td>\n",
              "      <td>69</td>\n",
              "      <td>2/1/2020 7:00</td>\n",
              "      <td>2/1/2020 7:14</td>\n",
              "      <td>6.97968</td>\n",
              "      <td>79.9130</td>\n",
              "      <td>6.98875</td>\n",
              "      <td>79.8914</td>\n",
              "      <td>147.47</td>\n",
              "      <td>2.408311</td>\n",
              "    </tr>\n",
              "  </tbody>\n",
              "</table>\n",
              "</div>"
            ],
            "text/plain": [
              "           additional_fare  duration  meter_waiting  meter_waiting_fare  \\\n",
              "tripid                                                                    \n",
              "213284604             10.5       924             42              2.4486   \n",
              "213286352             10.5      4249             20              0.0000   \n",
              "213293973             10.5      1552            255              2.6588   \n",
              "213294622             10.5       462             16              0.0000   \n",
              "213298687             10.5       814            392             12.3692   \n",
              "\n",
              "           meter_waiting_till_pickup    pickup_time      drop_time  pick_lat  \\\n",
              "tripid                                                                         \n",
              "213284604                        148  2/1/2020 0:38  2/1/2020 0:53   6.83454   \n",
              "213286352                         91  2/1/2020 1:02  2/1/2020 2:13   6.91168   \n",
              "213293973                         23  2/1/2020 5:02  2/1/2020 5:28   6.92145   \n",
              "213294622                        198  2/1/2020 5:30  2/1/2020 5:38   6.77433   \n",
              "213298687                         69  2/1/2020 7:00  2/1/2020 7:14   6.97968   \n",
              "\n",
              "           pick_lon  drop_lat  drop_lon     fare   distance  \n",
              "tripid                                                       \n",
              "213284604   79.8750   6.77490   79.8840   289.27   1.536052  \n",
              "213286352   79.8723   6.55091   79.9706  1912.70  12.990640  \n",
              "213293973   79.8478   6.90539   79.8989   394.00   5.690729  \n",
              "213294622   79.9416   6.80401   79.9407   154.32   0.585046  \n",
              "213298687   79.9130   6.98875   79.8914   147.47   2.408311  "
            ]
          },
          "metadata": {
            "tags": []
          },
          "execution_count": 41
        }
      ]
    },
    {
      "cell_type": "code",
      "metadata": {
        "id": "zHEu2vtXqd4b",
        "colab_type": "code",
        "colab": {}
      },
      "source": [
        "test_df['distance'] = haversine_np(test_df['pick_lat'], test_df['pick_lon'], test_df['drop_lat'] , test_df['drop_lon'])"
      ],
      "execution_count": null,
      "outputs": []
    },
    {
      "cell_type": "code",
      "metadata": {
        "id": "9v66LG9Oqin5",
        "colab_type": "code",
        "colab": {
          "base_uri": "https://localhost:8080/",
          "height": 156
        },
        "outputId": "aaf03f39-fad6-4c5b-c611-cffef2f80fc2"
      },
      "source": [
        "test_df2 = test_df.drop(['pickup_time','drop_time','pick_lat','pick_lon','drop_lat','drop_lon'],axis='columns')\n",
        "\n",
        "test_df2.isnull().sum()"
      ],
      "execution_count": null,
      "outputs": [
        {
          "output_type": "execute_result",
          "data": {
            "text/plain": [
              "additional_fare              0\n",
              "duration                     0\n",
              "meter_waiting                0\n",
              "meter_waiting_fare           0\n",
              "meter_waiting_till_pickup    0\n",
              "fare                         0\n",
              "distance                     0\n",
              "dtype: int64"
            ]
          },
          "metadata": {
            "tags": []
          },
          "execution_count": 43
        }
      ]
    },
    {
      "cell_type": "code",
      "metadata": {
        "id": "g6_9aBpxqlOS",
        "colab_type": "code",
        "colab": {}
      },
      "source": [
        "test_df2 = test_df2.drop(['meter_waiting_till_pickup'],axis='columns')"
      ],
      "execution_count": null,
      "outputs": []
    },
    {
      "cell_type": "code",
      "metadata": {
        "id": "VtFUG1q-qlzf",
        "colab_type": "code",
        "colab": {}
      },
      "source": [
        "result = rf.predict(test_df2)\n",
        "test_df2['prediction'] = result"
      ],
      "execution_count": null,
      "outputs": []
    },
    {
      "cell_type": "code",
      "metadata": {
        "id": "pcqg2rrYWahm",
        "colab_type": "code",
        "colab": {
          "base_uri": "https://localhost:8080/",
          "height": 35
        },
        "outputId": "e3e83da6-4520-4b86-9725-e33a9b7c40f1"
      },
      "source": [
        "result"
      ],
      "execution_count": null,
      "outputs": [
        {
          "output_type": "execute_result",
          "data": {
            "text/plain": [
              "array([1, 1, 1, ..., 1, 1, 1])"
            ]
          },
          "metadata": {
            "tags": []
          },
          "execution_count": 45
        }
      ]
    },
    {
      "cell_type": "code",
      "metadata": {
        "id": "sXCRsKGaqqAE",
        "colab_type": "code",
        "colab": {
          "base_uri": "https://localhost:8080/",
          "height": 156
        },
        "outputId": "c4db95bf-0226-43f1-ab66-41db8b2e3ade"
      },
      "source": [
        "final_df = test_df2.drop(['additional_fare','meter_waiting_till_pickup','distance','duration','fare','meter_waiting','meter_waiting_fare'],axis='columns')\n",
        "\n",
        "final_df.head()\n",
        "final_df.info()"
      ],
      "execution_count": null,
      "outputs": [
        {
          "output_type": "stream",
          "text": [
            "<class 'pandas.core.frame.DataFrame'>\n",
            "Int64Index: 8576 entries, 213284604 to 222860703\n",
            "Data columns (total 1 columns):\n",
            " #   Column      Non-Null Count  Dtype\n",
            "---  ------      --------------  -----\n",
            " 0   prediction  8576 non-null   int64\n",
            "dtypes: int64(1)\n",
            "memory usage: 134.0 KB\n"
          ],
          "name": "stdout"
        }
      ]
    },
    {
      "cell_type": "code",
      "metadata": {
        "id": "xds3euJbXD2m",
        "colab_type": "code",
        "colab": {
          "base_uri": "https://localhost:8080/",
          "height": 446
        },
        "outputId": "cd46c4f5-6465-4038-d9e7-af60dc063408"
      },
      "source": [
        "final_df"
      ],
      "execution_count": null,
      "outputs": [
        {
          "output_type": "execute_result",
          "data": {
            "text/html": [
              "<div>\n",
              "<style scoped>\n",
              "    .dataframe tbody tr th:only-of-type {\n",
              "        vertical-align: middle;\n",
              "    }\n",
              "\n",
              "    .dataframe tbody tr th {\n",
              "        vertical-align: top;\n",
              "    }\n",
              "\n",
              "    .dataframe thead th {\n",
              "        text-align: right;\n",
              "    }\n",
              "</style>\n",
              "<table border=\"1\" class=\"dataframe\">\n",
              "  <thead>\n",
              "    <tr style=\"text-align: right;\">\n",
              "      <th></th>\n",
              "      <th>prediction</th>\n",
              "    </tr>\n",
              "    <tr>\n",
              "      <th>tripid</th>\n",
              "      <th></th>\n",
              "    </tr>\n",
              "  </thead>\n",
              "  <tbody>\n",
              "    <tr>\n",
              "      <th>213284604</th>\n",
              "      <td>1</td>\n",
              "    </tr>\n",
              "    <tr>\n",
              "      <th>213286352</th>\n",
              "      <td>1</td>\n",
              "    </tr>\n",
              "    <tr>\n",
              "      <th>213293973</th>\n",
              "      <td>1</td>\n",
              "    </tr>\n",
              "    <tr>\n",
              "      <th>213294622</th>\n",
              "      <td>1</td>\n",
              "    </tr>\n",
              "    <tr>\n",
              "      <th>213298687</th>\n",
              "      <td>1</td>\n",
              "    </tr>\n",
              "    <tr>\n",
              "      <th>...</th>\n",
              "      <td>...</td>\n",
              "    </tr>\n",
              "    <tr>\n",
              "      <th>222856243</th>\n",
              "      <td>1</td>\n",
              "    </tr>\n",
              "    <tr>\n",
              "      <th>222857785</th>\n",
              "      <td>1</td>\n",
              "    </tr>\n",
              "    <tr>\n",
              "      <th>222858416</th>\n",
              "      <td>1</td>\n",
              "    </tr>\n",
              "    <tr>\n",
              "      <th>222858691</th>\n",
              "      <td>1</td>\n",
              "    </tr>\n",
              "    <tr>\n",
              "      <th>222860703</th>\n",
              "      <td>1</td>\n",
              "    </tr>\n",
              "  </tbody>\n",
              "</table>\n",
              "<p>8576 rows × 1 columns</p>\n",
              "</div>"
            ],
            "text/plain": [
              "           prediction\n",
              "tripid               \n",
              "213284604           1\n",
              "213286352           1\n",
              "213293973           1\n",
              "213294622           1\n",
              "213298687           1\n",
              "...               ...\n",
              "222856243           1\n",
              "222857785           1\n",
              "222858416           1\n",
              "222858691           1\n",
              "222860703           1\n",
              "\n",
              "[8576 rows x 1 columns]"
            ]
          },
          "metadata": {
            "tags": []
          },
          "execution_count": 47
        }
      ]
    },
    {
      "cell_type": "code",
      "metadata": {
        "id": "CwlxXGgZqqnD",
        "colab_type": "code",
        "colab": {}
      },
      "source": [
        "final_df.to_csv(DATA_PATH+'submission_36.csv', index=True)"
      ],
      "execution_count": null,
      "outputs": []
    },
    {
      "cell_type": "markdown",
      "metadata": {
        "id": "tudW3oWevbJr",
        "colab_type": "text"
      },
      "source": [
        "**XGBoost Parameter Tuning**\n"
      ]
    },
    {
      "cell_type": "markdown",
      "metadata": {
        "id": "18hBSxQAEB11",
        "colab_type": "text"
      },
      "source": [
        "Tune n-estimators"
      ]
    },
    {
      "cell_type": "code",
      "metadata": {
        "id": "3Xb2Vifnvb3z",
        "colab_type": "code",
        "colab": {
          "base_uri": "https://localhost:8080/",
          "height": 487
        },
        "outputId": "e9b13a32-6ef4-4cd7-b52a-1fdfbfb5cc45"
      },
      "source": [
        "from xgboost import XGBClassifier\n",
        "from sklearn.model_selection import GridSearchCV\n",
        "from sklearn.model_selection import RandomizedSearchCV\n",
        "model = XGBClassifier(learning_rate =0.1, max_depth=3,\n",
        " min_child_weight=6, gamma=0.2, subsample=0.8, colsample_bytree=0.8,\n",
        " objective= 'binary:logistic', nthread=4, scale_pos_weight=1,seed=27,reg_alpha=1)\n",
        "from sklearn.model_selection import StratifiedKFold\n",
        "n_estimators = range(550, 750, 20)\n",
        "param_grid = dict(n_estimators=n_estimators)\n",
        "kfold = StratifiedKFold(n_splits=10, shuffle=True, random_state=7)\n",
        "grid_search = GridSearchCV(model, param_grid, scoring=\"neg_log_loss\", n_jobs=-1, cv=kfold)\n",
        "grid_result = grid_search.fit(X_train,Y_train)\n",
        "# summarize results\n",
        "print(\"Best: %f using %s\" % (grid_result.best_score_, grid_result.best_params_))\n",
        "means = grid_result.cv_results_['mean_test_score']\n",
        "stds = grid_result.cv_results_['std_test_score']\n",
        "params = grid_result.cv_results_['params']\n",
        "for mean, stdev, param in zip(means, stds, params):\n",
        "\tprint(\"%f (%f) with: %r\" % (mean, stdev, param))\n",
        " \n",
        "# plot\n",
        "plt.errorbar(n_estimators, means, yerr=stds)\n",
        "plt.title(\"XGBoost n_estimators vs Log Loss\")\n",
        "plt.xlabel('n_estimators')\n",
        "plt.ylabel('Log Loss')\n",
        "plt.savefig('n_estimators.png')"
      ],
      "execution_count": 19,
      "outputs": [
        {
          "output_type": "stream",
          "text": [
            "Best: -0.160028 using {'n_estimators': 730}\n",
            "-0.160404 (0.009453) with: {'n_estimators': 550}\n",
            "-0.160198 (0.009548) with: {'n_estimators': 570}\n",
            "-0.160261 (0.009554) with: {'n_estimators': 590}\n",
            "-0.160156 (0.009537) with: {'n_estimators': 610}\n",
            "-0.160305 (0.009668) with: {'n_estimators': 630}\n",
            "-0.160072 (0.009480) with: {'n_estimators': 650}\n",
            "-0.160128 (0.009558) with: {'n_estimators': 670}\n",
            "-0.160165 (0.009447) with: {'n_estimators': 690}\n",
            "-0.160218 (0.009436) with: {'n_estimators': 710}\n",
            "-0.160028 (0.009260) with: {'n_estimators': 730}\n"
          ],
          "name": "stdout"
        },
        {
          "output_type": "display_data",
          "data": {
            "image/png": "[encoded data removed]",
            "text/plain": [
              "<Figure size 432x288 with 1 Axes>"
            ]
          },
          "metadata": {
            "tags": [],
            "needs_background": "light"
          }
        }
      ]
    },
    {
      "cell_type": "markdown",
      "metadata": {
        "id": "r3BhiSAaEHJW",
        "colab_type": "text"
      },
      "source": [
        "Tune max_depth and min_child_weight"
      ]
    },
    {
      "cell_type": "code",
      "metadata": {
        "id": "Zxxt88L3vmMC",
        "colab_type": "code",
        "colab": {
          "base_uri": "https://localhost:8080/",
          "height": 1000
        },
        "outputId": "c77f90bf-1ebc-492e-cf0a-fcb6864c1093"
      },
      "source": [
        "from sklearn.ensemble import RandomForestClassifier\n",
        "from sklearn.model_selection import GridSearchCV\n",
        "from sklearn.model_selection import RandomizedSearchCV\n",
        "param_test1 = {\n",
        " 'max_depth':range(3,10,2),\n",
        " 'min_child_weight':range(1,6,2)\n",
        "}\n",
        "gsearch1 = GridSearchCV(estimator = XGBClassifier( learning_rate =0.1, n_estimators=730, max_depth=5,\n",
        " min_child_weight=1, gamma=0, subsample=0.8, colsample_bytree=0.8,\n",
        " objective= 'binary:logistic', nthread=4, scale_pos_weight=1, seed=27), \n",
        " param_grid = param_test1, scoring='roc_auc',n_jobs=4,iid=False, cv=5)\n",
        "gsearch1.fit(X_train,Y_train)\n",
        "gsearch1.cv_results_, gsearch1.best_params_, gsearch1.best_score_"
      ],
      "execution_count": 21,
      "outputs": [
        {
          "output_type": "stream",
          "text": [
            "/usr/local/lib/python3.6/dist-packages/sklearn/model_selection/_search.py:823: FutureWarning: The parameter 'iid' is deprecated in 0.22 and will be removed in 0.24.\n",
            "  \"removed in 0.24.\", FutureWarning\n"
          ],
          "name": "stderr"
        },
        {
          "output_type": "execute_result",
          "data": {
            "text/plain": [
              "({'mean_fit_time': array([15.69676008, 15.42734332, 15.63981938, 27.29299316, 23.35507011,\n",
              "         22.83033118, 32.23555918, 31.40130482, 30.74664626, 40.07135882,\n",
              "         38.32539339, 33.54224024]),\n",
              "  'mean_score_time': array([0.20694051, 0.18015466, 0.19815989, 0.29735298, 0.28796158,\n",
              "         0.33725939, 0.47614241, 0.50938625, 0.41690454, 0.62775846,\n",
              "         0.55132861, 0.407335  ]),\n",
              "  'mean_test_score': array([0.90509161, 0.90421107, 0.90562284, 0.89925422, 0.90146144,\n",
              "         0.90211746, 0.89953576, 0.89751404, 0.89920449, 0.90154885,\n",
              "         0.898628  , 0.89847138]),\n",
              "  'param_max_depth': masked_array(data=[3, 3, 3, 5, 5, 5, 7, 7, 7, 9, 9, 9],\n",
              "               mask=[False, False, False, False, False, False, False, False,\n",
              "                     False, False, False, False],\n",
              "         fill_value='?',\n",
              "              dtype=object),\n",
              "  'param_min_child_weight': masked_array(data=[1, 3, 5, 1, 3, 5, 1, 3, 5, 1, 3, 5],\n",
              "               mask=[False, False, False, False, False, False, False, False,\n",
              "                     False, False, False, False],\n",
              "         fill_value='?',\n",
              "              dtype=object),\n",
              "  'params': [{'max_depth': 3, 'min_child_weight': 1},\n",
              "   {'max_depth': 3, 'min_child_weight': 3},\n",
              "   {'max_depth': 3, 'min_child_weight': 5},\n",
              "   {'max_depth': 5, 'min_child_weight': 1},\n",
              "   {'max_depth': 5, 'min_child_weight': 3},\n",
              "   {'max_depth': 5, 'min_child_weight': 5},\n",
              "   {'max_depth': 7, 'min_child_weight': 1},\n",
              "   {'max_depth': 7, 'min_child_weight': 3},\n",
              "   {'max_depth': 7, 'min_child_weight': 5},\n",
              "   {'max_depth': 9, 'min_child_weight': 1},\n",
              "   {'max_depth': 9, 'min_child_weight': 3},\n",
              "   {'max_depth': 9, 'min_child_weight': 5}],\n",
              "  'rank_test_score': array([ 2,  3,  1,  8,  6,  4,  7, 12,  9,  5, 10, 11], dtype=int32),\n",
              "  'split0_test_score': array([0.9214884 , 0.92069683, 0.92584934, 0.91719012, 0.91967239,\n",
              "         0.9207715 , 0.91516002, 0.91525871, 0.91360247, 0.91613539,\n",
              "         0.91318319, 0.91665387]),\n",
              "  'split1_test_score': array([0.89711839, 0.89797053, 0.89811987, 0.8932963 , 0.8970761 ,\n",
              "         0.89718888, 0.89820654, 0.89622657, 0.9003536 , 0.89930513,\n",
              "         0.89592895, 0.89852348]),\n",
              "  'split2_test_score': array([0.90929844, 0.90763489, 0.90922795, 0.90345774, 0.90590137,\n",
              "         0.90696863, 0.9044117 , 0.90156288, 0.90433285, 0.90094362,\n",
              "         0.90061415, 0.89971867]),\n",
              "  'split3_test_score': array([0.89712727, 0.89417246, 0.89418029, 0.89019425, 0.89007102,\n",
              "         0.88752818, 0.88905963, 0.88509499, 0.88788846, 0.89629184,\n",
              "         0.89105213, 0.88748067]),\n",
              "  'split4_test_score': array([0.90042557, 0.90058062, 0.90073673, 0.89213267, 0.89458633,\n",
              "         0.8981301 , 0.89084089, 0.88942705, 0.88984507, 0.89506827,\n",
              "         0.89236159, 0.88998022]),\n",
              "  'std_fit_time': array([0.25968311, 0.31378726, 0.19140962, 1.77756946, 0.27895655,\n",
              "         0.4667989 , 1.00450592, 0.24856656, 0.5013827 , 0.69712387,\n",
              "         0.68881959, 4.80284306]),\n",
              "  'std_score_time': array([0.01938744, 0.02448598, 0.02578641, 0.0406551 , 0.06091104,\n",
              "         0.05014957, 0.07562949, 0.06778772, 0.07769026, 0.01276266,\n",
              "         0.04789143, 0.18517853]),\n",
              "  'std_test_score': array([0.00933088, 0.00934239, 0.01125352, 0.01007633, 0.0104651 ,\n",
              "         0.01117626, 0.00953949, 0.01051243, 0.00949288, 0.00758685,\n",
              "         0.00799681, 0.01024751])},\n",
              " {'max_depth': 3, 'min_child_weight': 5},\n",
              " 0.9056228354520632)"
            ]
          },
          "metadata": {
            "tags": []
          },
          "execution_count": 21
        }
      ]
    },
    {
      "cell_type": "code",
      "metadata": {
        "id": "MtIX8Z1EwRX5",
        "colab_type": "code",
        "colab": {}
      },
      "source": [
        "param_test2 = {\n",
        " 'max_depth':[6,7,8],\n",
        " 'min_child_weight':[2,3,4]\n",
        "}\n",
        "gsearch2 = GridSearchCV(estimator = XGBClassifier( learning_rate=0.1, n_estimators=650, max_depth=5,\n",
        " min_child_weight=2, gamma=0.2, subsample=0.8, colsample_bytree=0.8,\n",
        " objective= 'binary:logistic', nthread=4, scale_pos_weight=1,seed=27), \n",
        " param_grid = param_test2, scoring='roc_auc',n_jobs=4,iid=False, cv=5)\n",
        "gsearch2.fit(X_train,Y_train)\n",
        "gsearch2.cv_results_, gsearch2.best_params_, gsearch2.best_score_"
      ],
      "execution_count": null,
      "outputs": []
    },
    {
      "cell_type": "markdown",
      "metadata": {
        "id": "wUUO3CV8EVL1",
        "colab_type": "text"
      },
      "source": [
        "Tune gamma"
      ]
    },
    {
      "cell_type": "code",
      "metadata": {
        "id": "_nU-aD75wZtq",
        "colab_type": "code",
        "colab": {
          "base_uri": "https://localhost:8080/",
          "height": 471
        },
        "outputId": "6a1ffdad-f0c4-46dc-8645-499bd543e83c"
      },
      "source": [
        "param_test3 = {\n",
        " 'gamma':[i/10.0 for i in range(0,5)]\n",
        "}\n",
        "gsearch3 = GridSearchCV(estimator = XGBClassifier( learning_rate =0.1, n_estimators=730, max_depth=3,\n",
        " min_child_weight=5, gamma=0.2, subsample=0.8, colsample_bytree=0.8,\n",
        " objective= 'binary:logistic', nthread=4, scale_pos_weight=1,seed=27), \n",
        " param_grid = param_test3, scoring='roc_auc',n_jobs=4,iid=False, cv=5)\n",
        "gsearch3.fit(X_train,Y_train)\n",
        "gsearch3.cv_results_, gsearch3.best_params_, gsearch3.best_score_"
      ],
      "execution_count": 23,
      "outputs": [
        {
          "output_type": "stream",
          "text": [
            "/usr/local/lib/python3.6/dist-packages/sklearn/model_selection/_search.py:823: FutureWarning: The parameter 'iid' is deprecated in 0.22 and will be removed in 0.24.\n",
            "  \"removed in 0.24.\", FutureWarning\n"
          ],
          "name": "stderr"
        },
        {
          "output_type": "execute_result",
          "data": {
            "text/plain": [
              "({'mean_fit_time': array([15.46846118, 15.56514482, 15.42488065, 15.47284613, 13.35744076]),\n",
              "  'mean_score_time': array([0.20203552, 0.21752992, 0.17206745, 0.20744143, 0.13725777]),\n",
              "  'mean_test_score': array([0.90562284, 0.90406912, 0.90603811, 0.90588716, 0.90597819]),\n",
              "  'param_gamma': masked_array(data=[0.0, 0.1, 0.2, 0.3, 0.4],\n",
              "               mask=[False, False, False, False, False],\n",
              "         fill_value='?',\n",
              "              dtype=object),\n",
              "  'params': [{'gamma': 0.0},\n",
              "   {'gamma': 0.1},\n",
              "   {'gamma': 0.2},\n",
              "   {'gamma': 0.3},\n",
              "   {'gamma': 0.4}],\n",
              "  'rank_test_score': array([4, 5, 1, 3, 2], dtype=int32),\n",
              "  'split0_test_score': array([0.92584934, 0.92106077, 0.92361875, 0.92284075, 0.92382134]),\n",
              "  'split1_test_score': array([0.89811987, 0.89888428, 0.90182447, 0.89940591, 0.90080421]),\n",
              "  'split2_test_score': array([0.90922795, 0.90907705, 0.91079229, 0.910302  , 0.90926293]),\n",
              "  'split3_test_score': array([0.89418029, 0.89223165, 0.89586473, 0.89757788, 0.89657745]),\n",
              "  'split4_test_score': array([0.90073673, 0.89909187, 0.89809029, 0.89930927, 0.89942503]),\n",
              "  'std_fit_time': array([0.16224249, 0.29069773, 0.4881792 , 0.17340732, 3.97175606]),\n",
              "  'std_score_time': array([0.02131246, 0.01803306, 0.03419683, 0.02704676, 0.05714131]),\n",
              "  'std_test_score': array([0.01125352, 0.01005561, 0.01015974, 0.00960453, 0.00987173])},\n",
              " {'gamma': 0.2},\n",
              " 0.906038106418749)"
            ]
          },
          "metadata": {
            "tags": []
          },
          "execution_count": 23
        }
      ]
    },
    {
      "cell_type": "markdown",
      "metadata": {
        "id": "2lURt7I5EYRk",
        "colab_type": "text"
      },
      "source": [
        "Tune alpha"
      ]
    },
    {
      "cell_type": "code",
      "metadata": {
        "id": "XDcpfayZwck1",
        "colab_type": "code",
        "colab": {
          "base_uri": "https://localhost:8080/",
          "height": 696
        },
        "outputId": "4caefbde-7df2-4ce1-ecbf-5e576f3fd04f"
      },
      "source": [
        "param_test6 = {\n",
        " 'reg_alpha':[ 0.05,0.5,0.6,0.7,0.8,0.9,1]\n",
        "}\n",
        "gsearch6 = GridSearchCV(estimator = XGBClassifier( learning_rate =0.1, n_estimators=690, max_depth=3,\n",
        " min_child_weight=6, gamma=0.2, subsample=0.8, colsample_bytree=0.8,\n",
        " objective= 'binary:logistic', nthread=4, scale_pos_weight=1,seed=27), \n",
        " param_grid = param_test6, scoring='roc_auc',n_jobs=4,iid=False, cv=5)\n",
        "gsearch6.fit(X_train,Y_train)\n",
        "gsearch6.cv_results_, gsearch6.best_params_, gsearch6.best_score_"
      ],
      "execution_count": 24,
      "outputs": [
        {
          "output_type": "stream",
          "text": [
            "/usr/local/lib/python3.6/dist-packages/sklearn/model_selection/_search.py:823: FutureWarning: The parameter 'iid' is deprecated in 0.22 and will be removed in 0.24.\n",
            "  \"removed in 0.24.\", FutureWarning\n"
          ],
          "name": "stderr"
        },
        {
          "output_type": "execute_result",
          "data": {
            "text/plain": [
              "({'mean_fit_time': array([14.68280425, 14.67845364, 14.71413984, 14.727178  , 14.80330148,\n",
              "         14.97177653, 12.61565104]),\n",
              "  'mean_score_time': array([0.17933955, 0.19308448, 0.17041941, 0.19725437, 0.1710536 ,\n",
              "         0.17247725, 0.13832798]),\n",
              "  'mean_test_score': array([0.90563801, 0.90665204, 0.90663323, 0.9056914 , 0.90776608,\n",
              "         0.90869759, 0.90667974]),\n",
              "  'param_reg_alpha': masked_array(data=[0.05, 0.5, 0.6, 0.7, 0.8, 0.9, 1],\n",
              "               mask=[False, False, False, False, False, False, False],\n",
              "         fill_value='?',\n",
              "              dtype=object),\n",
              "  'params': [{'reg_alpha': 0.05},\n",
              "   {'reg_alpha': 0.5},\n",
              "   {'reg_alpha': 0.6},\n",
              "   {'reg_alpha': 0.7},\n",
              "   {'reg_alpha': 0.8},\n",
              "   {'reg_alpha': 0.9},\n",
              "   {'reg_alpha': 1}],\n",
              "  'rank_test_score': array([7, 4, 5, 6, 2, 1, 3], dtype=int32),\n",
              "  'split0_test_score': array([0.92099498, 0.92330337, 0.92379001, 0.92286321, 0.92377643,\n",
              "         0.92504733, 0.92255462]),\n",
              "  'split1_test_score': array([0.89757997, 0.9032447 , 0.89973381, 0.89850886, 0.90173205,\n",
              "         0.90169446, 0.9002523 ]),\n",
              "  'split2_test_score': array([0.91263389, 0.91088471, 0.91317901, 0.91271587, 0.91416325,\n",
              "         0.91298477, 0.91179428]),\n",
              "  'split3_test_score': array([0.89781128, 0.89645057, 0.89420849, 0.8927397 , 0.89720559,\n",
              "         0.89857309, 0.89808488]),\n",
              "  'split4_test_score': array([0.89916992, 0.89937684, 0.90225481, 0.90162935, 0.90195308,\n",
              "         0.90518831, 0.90071263]),\n",
              "  'std_fit_time': array([0.29023352, 0.35642789, 0.22719411, 0.25532618, 0.18406116,\n",
              "         0.43054455, 1.55594773]),\n",
              "  'std_score_time': array([0.03311955, 0.02650644, 0.03449277, 0.04054744, 0.0223858 ,\n",
              "         0.02869811, 0.04428617]),\n",
              "  'std_test_score': array([0.00951635, 0.0096311 , 0.01056739, 0.01077079, 0.00978754,\n",
              "         0.00948218, 0.0092624 ])},\n",
              " {'reg_alpha': 0.9},\n",
              " 0.9086975918886934)"
            ]
          },
          "metadata": {
            "tags": []
          },
          "execution_count": 24
        }
      ]
    },
    {
      "cell_type": "code",
      "metadata": {
        "id": "uzd0ZhZx2J6W",
        "colab_type": "code",
        "colab": {}
      },
      "source": [
        "param_test4 = {\n",
        " 'subsample':[i/10.0 for i in range(6,12)],\n",
        " 'colsample_bytree':[i/10.0 for i in range(6,12)]\n",
        "}\n",
        "gsearch4 = GridSearchCV(estimator = XGBClassifier(  learning_rate =0.1, n_estimators=690, max_depth=3,\n",
        " min_child_weight=6, gamma=0.2, subsample=0.8, colsample_bytree=0.8,\n",
        " objective= 'binary:logistic', nthread=4, scale_pos_weight=1,seed=27), \n",
        "\n",
        " param_grid = param_test4, scoring='roc_auc',n_jobs=4,iid=False, cv=5)\n",
        "gsearch4.fit(X_train, Y_train)\n",
        "gsearch4.cv_results_, gsearch4.best_params_, gsearch4.best_score_"
      ],
      "execution_count": null,
      "outputs": []
    },
    {
      "cell_type": "code",
      "metadata": {
        "id": "qBZVIFyREkX-",
        "colab_type": "code",
        "colab": {}
      },
      "source": [
        ""
      ],
      "execution_count": null,
      "outputs": []
    }
  ]
}