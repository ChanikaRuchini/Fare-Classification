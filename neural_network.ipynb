{
  "nbformat": 4,
  "nbformat_minor": 0,
  "metadata": {
    "colab": {
      "name": "neural_network.ipynb",
      "provenance": []
    },
    "kernelspec": {
      "name": "python3",
      "display_name": "Python 3"
    }
  },
  "cells": [
    {
      "cell_type": "code",
      "metadata": {
        "id": "IO_VZh_7TOXK",
        "colab_type": "code",
        "colab": {
          "base_uri": "https://localhost:8080/",
          "height": 124
        },
        "outputId": "e3ad67b2-9afb-43f5-d9b6-d6753303095b"
      },
      "source": [
        "from pathlib import Path\n",
        "\n",
        "import numpy as np\n",
        "import pandas as pd\n",
        "\n",
        "\n",
        "pd.set_option(\"display.max_columns\", 100)\n",
        "\n",
        "from google.colab import drive\n",
        "drive.mount('/content/gdrive')\n",
        "DATA_PATH = \"/content/gdrive/My Drive/MLdata/\"\n",
        "\n",
        "train_df = pd.read_csv(\n",
        "    DATA_PATH + \"train.csv\", \n",
        "    index_col=\"tripid\"\n",
        ")\n",
        "test_df = pd.read_csv(\n",
        "    DATA_PATH + \"test.csv\", \n",
        "    index_col=\"tripid\"\n",
        ")\n"
      ],
      "execution_count": 1,
      "outputs": [
        {
          "output_type": "stream",
          "text": [
            "Go to this URL in a browser: https://accounts.google.com/o/oauth2/auth?client_id=947318989803-6bn6qk8qdgf4n4g3pfee6491hc0brc4i.apps.googleusercontent.com&redirect_uri=urn%3aietf%3awg%3aoauth%3a2.0%3aoob&response_type=code&scope=email%20https%3a%2f%2fwww.googleapis.com%2fauth%2fdocs.test%20https%3a%2f%2fwww.googleapis.com%2fauth%2fdrive%20https%3a%2f%2fwww.googleapis.com%2fauth%2fdrive.photos.readonly%20https%3a%2f%2fwww.googleapis.com%2fauth%2fpeopleapi.readonly\n",
            "\n",
            "Enter your authorization code:\n",
            "··········\n",
            "Mounted at /content/gdrive\n"
          ],
          "name": "stdout"
        }
      ]
    },
    {
      "cell_type": "code",
      "metadata": {
        "id": "_RrGmPdST1aA",
        "colab_type": "code",
        "colab": {}
      },
      "source": [
        "train_df[\"label\"] = train_df[\"label\"].map({\"incorrect\": 0, \"correct\":1})"
      ],
      "execution_count": 2,
      "outputs": []
    },
    {
      "cell_type": "code",
      "metadata": {
        "id": "8wfBFMh4T7sx",
        "colab_type": "code",
        "colab": {
          "base_uri": "https://localhost:8080/",
          "height": 416
        },
        "outputId": "3c8106dd-ad19-4be8-ea54-40423e7d005d"
      },
      "source": [
        "train_df[\"pickup\"] = pd.to_datetime(train_df[\"pickup_time\"])\n",
        "train_df[\"drop\"] = pd.to_datetime(train_df[\"drop_time\"])\n",
        "train_df ['difference'] = train_df[\"drop\"] - train_df[\"pickup\"]\n",
        "train_df ['difference'] = train_df ['difference']/np.timedelta64(1,'s')\n",
        "train_df['duration'] = train_df['duration'].fillna(train_df ['difference'])\n",
        "train_df.info()"
      ],
      "execution_count": 3,
      "outputs": [
        {
          "output_type": "stream",
          "text": [
            "<class 'pandas.core.frame.DataFrame'>\n",
            "Int64Index: 17176 entries, 189123628 to 213817296\n",
            "Data columns (total 16 columns):\n",
            " #   Column                     Non-Null Count  Dtype         \n",
            "---  ------                     --------------  -----         \n",
            " 0   additional_fare            16974 non-null  float64       \n",
            " 1   duration                   17176 non-null  float64       \n",
            " 2   meter_waiting              16974 non-null  float64       \n",
            " 3   meter_waiting_fare         16974 non-null  float64       \n",
            " 4   meter_waiting_till_pickup  16974 non-null  float64       \n",
            " 5   pickup_time                17176 non-null  object        \n",
            " 6   drop_time                  17176 non-null  object        \n",
            " 7   pick_lat                   17176 non-null  float64       \n",
            " 8   pick_lon                   17176 non-null  float64       \n",
            " 9   drop_lat                   17176 non-null  float64       \n",
            " 10  drop_lon                   17176 non-null  float64       \n",
            " 11  fare                       17039 non-null  float64       \n",
            " 12  label                      17176 non-null  int64         \n",
            " 13  pickup                     17176 non-null  datetime64[ns]\n",
            " 14  drop                       17176 non-null  datetime64[ns]\n",
            " 15  difference                 17176 non-null  float64       \n",
            "dtypes: datetime64[ns](2), float64(11), int64(1), object(2)\n",
            "memory usage: 2.2+ MB\n"
          ],
          "name": "stdout"
        }
      ]
    },
    {
      "cell_type": "code",
      "metadata": {
        "id": "I83gTiITUVvm",
        "colab_type": "code",
        "colab": {
          "base_uri": "https://localhost:8080/",
          "height": 426
        },
        "outputId": "ab690c5a-e8d7-45d3-ab4c-47ff55eb4bd8"
      },
      "source": [
        "train_df.head()\n",
        "train_df.isnull().sum()\n",
        "train_df.head()"
      ],
      "execution_count": 4,
      "outputs": [
        {
          "output_type": "execute_result",
          "data": {
            "text/html": [
              "<div>\n",
              "<style scoped>\n",
              "    .dataframe tbody tr th:only-of-type {\n",
              "        vertical-align: middle;\n",
              "    }\n",
              "\n",
              "    .dataframe tbody tr th {\n",
              "        vertical-align: top;\n",
              "    }\n",
              "\n",
              "    .dataframe thead th {\n",
              "        text-align: right;\n",
              "    }\n",
              "</style>\n",
              "<table border=\"1\" class=\"dataframe\">\n",
              "  <thead>\n",
              "    <tr style=\"text-align: right;\">\n",
              "      <th></th>\n",
              "      <th>additional_fare</th>\n",
              "      <th>duration</th>\n",
              "      <th>meter_waiting</th>\n",
              "      <th>meter_waiting_fare</th>\n",
              "      <th>meter_waiting_till_pickup</th>\n",
              "      <th>pickup_time</th>\n",
              "      <th>drop_time</th>\n",
              "      <th>pick_lat</th>\n",
              "      <th>pick_lon</th>\n",
              "      <th>drop_lat</th>\n",
              "      <th>drop_lon</th>\n",
              "      <th>fare</th>\n",
              "      <th>label</th>\n",
              "      <th>pickup</th>\n",
              "      <th>drop</th>\n",
              "      <th>difference</th>\n",
              "    </tr>\n",
              "    <tr>\n",
              "      <th>tripid</th>\n",
              "      <th></th>\n",
              "      <th></th>\n",
              "      <th></th>\n",
              "      <th></th>\n",
              "      <th></th>\n",
              "      <th></th>\n",
              "      <th></th>\n",
              "      <th></th>\n",
              "      <th></th>\n",
              "      <th></th>\n",
              "      <th></th>\n",
              "      <th></th>\n",
              "      <th></th>\n",
              "      <th></th>\n",
              "      <th></th>\n",
              "      <th></th>\n",
              "    </tr>\n",
              "  </thead>\n",
              "  <tbody>\n",
              "    <tr>\n",
              "      <th>189123628</th>\n",
              "      <td>10.5</td>\n",
              "      <td>834.0</td>\n",
              "      <td>56.0</td>\n",
              "      <td>0.0000</td>\n",
              "      <td>64.0</td>\n",
              "      <td>11/1/2019 0:20</td>\n",
              "      <td>11/1/2019 0:34</td>\n",
              "      <td>6.86252</td>\n",
              "      <td>79.8993</td>\n",
              "      <td>6.90330</td>\n",
              "      <td>79.8783</td>\n",
              "      <td>270.32</td>\n",
              "      <td>1</td>\n",
              "      <td>2019-11-01 00:20:00</td>\n",
              "      <td>2019-11-01 00:34:00</td>\n",
              "      <td>840.0</td>\n",
              "    </tr>\n",
              "    <tr>\n",
              "      <th>189125358</th>\n",
              "      <td>10.5</td>\n",
              "      <td>791.0</td>\n",
              "      <td>47.0</td>\n",
              "      <td>0.0000</td>\n",
              "      <td>134.0</td>\n",
              "      <td>11/1/2019 0:56</td>\n",
              "      <td>11/1/2019 1:09</td>\n",
              "      <td>6.88589</td>\n",
              "      <td>79.8984</td>\n",
              "      <td>6.91373</td>\n",
              "      <td>79.8923</td>\n",
              "      <td>197.85</td>\n",
              "      <td>1</td>\n",
              "      <td>2019-11-01 00:56:00</td>\n",
              "      <td>2019-11-01 01:09:00</td>\n",
              "      <td>780.0</td>\n",
              "    </tr>\n",
              "    <tr>\n",
              "      <th>189125719</th>\n",
              "      <td>10.5</td>\n",
              "      <td>1087.0</td>\n",
              "      <td>80.0</td>\n",
              "      <td>0.0000</td>\n",
              "      <td>61.0</td>\n",
              "      <td>11/1/2019 1:08</td>\n",
              "      <td>11/1/2019 1:26</td>\n",
              "      <td>6.90839</td>\n",
              "      <td>79.8651</td>\n",
              "      <td>6.93669</td>\n",
              "      <td>79.9146</td>\n",
              "      <td>301.64</td>\n",
              "      <td>1</td>\n",
              "      <td>2019-11-01 01:08:00</td>\n",
              "      <td>2019-11-01 01:26:00</td>\n",
              "      <td>1080.0</td>\n",
              "    </tr>\n",
              "    <tr>\n",
              "      <th>189127273</th>\n",
              "      <td>10.5</td>\n",
              "      <td>598.0</td>\n",
              "      <td>271.0</td>\n",
              "      <td>15.6638</td>\n",
              "      <td>68.0</td>\n",
              "      <td>11/1/2019 2:27</td>\n",
              "      <td>11/1/2019 2:37</td>\n",
              "      <td>6.92570</td>\n",
              "      <td>79.8895</td>\n",
              "      <td>6.92748</td>\n",
              "      <td>79.8971</td>\n",
              "      <td>82.30</td>\n",
              "      <td>1</td>\n",
              "      <td>2019-11-01 02:27:00</td>\n",
              "      <td>2019-11-01 02:37:00</td>\n",
              "      <td>600.0</td>\n",
              "    </tr>\n",
              "    <tr>\n",
              "      <th>189128020</th>\n",
              "      <td>NaN</td>\n",
              "      <td>1020.0</td>\n",
              "      <td>NaN</td>\n",
              "      <td>NaN</td>\n",
              "      <td>NaN</td>\n",
              "      <td>11/1/2019 3:34</td>\n",
              "      <td>11/1/2019 3:51</td>\n",
              "      <td>6.87441</td>\n",
              "      <td>79.8615</td>\n",
              "      <td>6.84478</td>\n",
              "      <td>79.9290</td>\n",
              "      <td>358.39</td>\n",
              "      <td>1</td>\n",
              "      <td>2019-11-01 03:34:00</td>\n",
              "      <td>2019-11-01 03:51:00</td>\n",
              "      <td>1020.0</td>\n",
              "    </tr>\n",
              "  </tbody>\n",
              "</table>\n",
              "</div>"
            ],
            "text/plain": [
              "           additional_fare  duration  meter_waiting  meter_waiting_fare  \\\n",
              "tripid                                                                    \n",
              "189123628             10.5     834.0           56.0              0.0000   \n",
              "189125358             10.5     791.0           47.0              0.0000   \n",
              "189125719             10.5    1087.0           80.0              0.0000   \n",
              "189127273             10.5     598.0          271.0             15.6638   \n",
              "189128020              NaN    1020.0            NaN                 NaN   \n",
              "\n",
              "           meter_waiting_till_pickup     pickup_time       drop_time  \\\n",
              "tripid                                                                 \n",
              "189123628                       64.0  11/1/2019 0:20  11/1/2019 0:34   \n",
              "189125358                      134.0  11/1/2019 0:56  11/1/2019 1:09   \n",
              "189125719                       61.0  11/1/2019 1:08  11/1/2019 1:26   \n",
              "189127273                       68.0  11/1/2019 2:27  11/1/2019 2:37   \n",
              "189128020                        NaN  11/1/2019 3:34  11/1/2019 3:51   \n",
              "\n",
              "           pick_lat  pick_lon  drop_lat  drop_lon    fare  label  \\\n",
              "tripid                                                             \n",
              "189123628   6.86252   79.8993   6.90330   79.8783  270.32      1   \n",
              "189125358   6.88589   79.8984   6.91373   79.8923  197.85      1   \n",
              "189125719   6.90839   79.8651   6.93669   79.9146  301.64      1   \n",
              "189127273   6.92570   79.8895   6.92748   79.8971   82.30      1   \n",
              "189128020   6.87441   79.8615   6.84478   79.9290  358.39      1   \n",
              "\n",
              "                       pickup                drop  difference  \n",
              "tripid                                                         \n",
              "189123628 2019-11-01 00:20:00 2019-11-01 00:34:00       840.0  \n",
              "189125358 2019-11-01 00:56:00 2019-11-01 01:09:00       780.0  \n",
              "189125719 2019-11-01 01:08:00 2019-11-01 01:26:00      1080.0  \n",
              "189127273 2019-11-01 02:27:00 2019-11-01 02:37:00       600.0  \n",
              "189128020 2019-11-01 03:34:00 2019-11-01 03:51:00      1020.0  "
            ]
          },
          "metadata": {
            "tags": []
          },
          "execution_count": 4
        }
      ]
    },
    {
      "cell_type": "code",
      "metadata": {
        "id": "L7W3KdRcUZkm",
        "colab_type": "code",
        "colab": {
          "base_uri": "https://localhost:8080/",
          "height": 225
        },
        "outputId": "e2b943a7-40da-484d-befd-df72381a5ae3"
      },
      "source": [
        "train_df2 = train_df.drop(['pickup_time','drop_time','pickup','drop','difference'],axis='columns')\n",
        "train_df2.isnull().sum()"
      ],
      "execution_count": 5,
      "outputs": [
        {
          "output_type": "execute_result",
          "data": {
            "text/plain": [
              "additional_fare              202\n",
              "duration                       0\n",
              "meter_waiting                202\n",
              "meter_waiting_fare           202\n",
              "meter_waiting_till_pickup    202\n",
              "pick_lat                       0\n",
              "pick_lon                       0\n",
              "drop_lat                       0\n",
              "drop_lon                       0\n",
              "fare                         137\n",
              "label                          0\n",
              "dtype: int64"
            ]
          },
          "metadata": {
            "tags": []
          },
          "execution_count": 5
        }
      ]
    },
    {
      "cell_type": "code",
      "metadata": {
        "id": "bxQp9zzwlWRT",
        "colab_type": "code",
        "colab": {
          "base_uri": "https://localhost:8080/",
          "height": 225
        },
        "outputId": "c3e8cf33-791c-43e2-d124-4dab073d171a"
      },
      "source": [
        "train_df2['additional_fare'] = train_df2['additional_fare'].fillna(train_df2.additional_fare.mean())\n",
        "train_df2['meter_waiting'] = train_df2['meter_waiting'].fillna(train_df2.meter_waiting.mean())\n",
        "train_df2['meter_waiting_fare'] = train_df2['meter_waiting_fare'].fillna(train_df2.meter_waiting_fare.mean())\n",
        "train_df2['meter_waiting_till_pickup'] = train_df2['meter_waiting_till_pickup'].fillna(train_df2.meter_waiting_till_pickup.mean())\n",
        "train_df2.isnull().sum()\n"
      ],
      "execution_count": 6,
      "outputs": [
        {
          "output_type": "execute_result",
          "data": {
            "text/plain": [
              "additional_fare                0\n",
              "duration                       0\n",
              "meter_waiting                  0\n",
              "meter_waiting_fare             0\n",
              "meter_waiting_till_pickup      0\n",
              "pick_lat                       0\n",
              "pick_lon                       0\n",
              "drop_lat                       0\n",
              "drop_lon                       0\n",
              "fare                         137\n",
              "label                          0\n",
              "dtype: int64"
            ]
          },
          "metadata": {
            "tags": []
          },
          "execution_count": 6
        }
      ]
    },
    {
      "cell_type": "code",
      "metadata": {
        "id": "GDwq6T6UllNa",
        "colab_type": "code",
        "colab": {}
      },
      "source": [
        "train_df2= train_df2.dropna()"
      ],
      "execution_count": 7,
      "outputs": []
    },
    {
      "cell_type": "code",
      "metadata": {
        "id": "RfbFI92Clopd",
        "colab_type": "code",
        "colab": {}
      },
      "source": [
        "from math import radians, cos, sin, asin, sqrt\n",
        "import numpy as np\n",
        "\n",
        "def haversine_np(lon1, lat1, lon2, lat2):\n",
        "    \"\"\"\n",
        "    Calculate the great circle distance between two points\n",
        "    on the earth (specified in decimal degrees)\n",
        "\n",
        "    All args must be of equal length.    \n",
        "\n",
        "    \"\"\"\n",
        "    lon1, lat1, lon2, lat2 = map(np.radians, [lon1, lat1, lon2, lat2])\n",
        "\n",
        "    dlon = lon2 - lon1\n",
        "    dlat = lat2 - lat1\n",
        "\n",
        "    a = np.sin(dlat/2.0)**2 + np.cos(lat1) * np.cos(lat2) * np.sin(dlon/2.0)**2\n",
        "\n",
        "    c = 2 * np.arcsin(np.sqrt(a))\n",
        "    km = 6371 * c  # 6371 is Radius of earth in kilometers. Use 3956 for miles\n",
        "    return km\n",
        "\n",
        "train_df2['distance'] = haversine_np(train_df2['pick_lat'], train_df2['pick_lon'], train_df2['drop_lat'] , train_df2['drop_lon'])"
      ],
      "execution_count": 8,
      "outputs": []
    },
    {
      "cell_type": "code",
      "metadata": {
        "id": "C-S_18culrLI",
        "colab_type": "code",
        "colab": {}
      },
      "source": [
        "clean_df = train_df2.drop(['pick_lat','pick_lon','drop_lat','drop_lon'],axis='columns')"
      ],
      "execution_count": 9,
      "outputs": []
    },
    {
      "cell_type": "code",
      "metadata": {
        "id": "dVmKN3jcltZM",
        "colab_type": "code",
        "colab": {
          "base_uri": "https://localhost:8080/",
          "height": 277
        },
        "outputId": "e8e02bee-370c-4459-ecfa-bfd7ec86074e"
      },
      "source": [
        "\n",
        "clean_df.info()"
      ],
      "execution_count": 10,
      "outputs": [
        {
          "output_type": "stream",
          "text": [
            "<class 'pandas.core.frame.DataFrame'>\n",
            "Int64Index: 17039 entries, 189123628 to 213817296\n",
            "Data columns (total 8 columns):\n",
            " #   Column                     Non-Null Count  Dtype  \n",
            "---  ------                     --------------  -----  \n",
            " 0   additional_fare            17039 non-null  float64\n",
            " 1   duration                   17039 non-null  float64\n",
            " 2   meter_waiting              17039 non-null  float64\n",
            " 3   meter_waiting_fare         17039 non-null  float64\n",
            " 4   meter_waiting_till_pickup  17039 non-null  float64\n",
            " 5   fare                       17039 non-null  float64\n",
            " 6   label                      17039 non-null  int64  \n",
            " 7   distance                   17039 non-null  float64\n",
            "dtypes: float64(7), int64(1)\n",
            "memory usage: 1.2 MB\n"
          ],
          "name": "stdout"
        }
      ]
    },
    {
      "cell_type": "code",
      "metadata": {
        "id": "4XoPrOtzlyBM",
        "colab_type": "code",
        "colab": {
          "base_uri": "https://localhost:8080/",
          "height": 233
        },
        "outputId": "d8d1b7b8-96c0-43d1-9873-ae9ce528d92b"
      },
      "source": [
        "clean_df.head()"
      ],
      "execution_count": 11,
      "outputs": [
        {
          "output_type": "execute_result",
          "data": {
            "text/html": [
              "<div>\n",
              "<style scoped>\n",
              "    .dataframe tbody tr th:only-of-type {\n",
              "        vertical-align: middle;\n",
              "    }\n",
              "\n",
              "    .dataframe tbody tr th {\n",
              "        vertical-align: top;\n",
              "    }\n",
              "\n",
              "    .dataframe thead th {\n",
              "        text-align: right;\n",
              "    }\n",
              "</style>\n",
              "<table border=\"1\" class=\"dataframe\">\n",
              "  <thead>\n",
              "    <tr style=\"text-align: right;\">\n",
              "      <th></th>\n",
              "      <th>additional_fare</th>\n",
              "      <th>duration</th>\n",
              "      <th>meter_waiting</th>\n",
              "      <th>meter_waiting_fare</th>\n",
              "      <th>meter_waiting_till_pickup</th>\n",
              "      <th>fare</th>\n",
              "      <th>label</th>\n",
              "      <th>distance</th>\n",
              "    </tr>\n",
              "    <tr>\n",
              "      <th>tripid</th>\n",
              "      <th></th>\n",
              "      <th></th>\n",
              "      <th></th>\n",
              "      <th></th>\n",
              "      <th></th>\n",
              "      <th></th>\n",
              "      <th></th>\n",
              "      <th></th>\n",
              "    </tr>\n",
              "  </thead>\n",
              "  <tbody>\n",
              "    <tr>\n",
              "      <th>189123628</th>\n",
              "      <td>10.500000</td>\n",
              "      <td>834.0</td>\n",
              "      <td>56.000000</td>\n",
              "      <td>0.000000</td>\n",
              "      <td>64.000000</td>\n",
              "      <td>270.32</td>\n",
              "      <td>1</td>\n",
              "      <td>2.467063</td>\n",
              "    </tr>\n",
              "    <tr>\n",
              "      <th>189125358</th>\n",
              "      <td>10.500000</td>\n",
              "      <td>791.0</td>\n",
              "      <td>47.000000</td>\n",
              "      <td>0.000000</td>\n",
              "      <td>134.000000</td>\n",
              "      <td>197.85</td>\n",
              "      <td>1</td>\n",
              "      <td>0.868942</td>\n",
              "    </tr>\n",
              "    <tr>\n",
              "      <th>189125719</th>\n",
              "      <td>10.500000</td>\n",
              "      <td>1087.0</td>\n",
              "      <td>80.000000</td>\n",
              "      <td>0.000000</td>\n",
              "      <td>61.000000</td>\n",
              "      <td>301.64</td>\n",
              "      <td>1</td>\n",
              "      <td>5.531798</td>\n",
              "    </tr>\n",
              "    <tr>\n",
              "      <th>189127273</th>\n",
              "      <td>10.500000</td>\n",
              "      <td>598.0</td>\n",
              "      <td>271.000000</td>\n",
              "      <td>15.663800</td>\n",
              "      <td>68.000000</td>\n",
              "      <td>82.30</td>\n",
              "      <td>1</td>\n",
              "      <td>0.845795</td>\n",
              "    </tr>\n",
              "    <tr>\n",
              "      <th>189128020</th>\n",
              "      <td>13.719651</td>\n",
              "      <td>1020.0</td>\n",
              "      <td>629.074231</td>\n",
              "      <td>32.057666</td>\n",
              "      <td>112.466832</td>\n",
              "      <td>358.39</td>\n",
              "      <td>1</td>\n",
              "      <td>7.527884</td>\n",
              "    </tr>\n",
              "  </tbody>\n",
              "</table>\n",
              "</div>"
            ],
            "text/plain": [
              "           additional_fare  duration  meter_waiting  meter_waiting_fare  \\\n",
              "tripid                                                                    \n",
              "189123628        10.500000     834.0      56.000000            0.000000   \n",
              "189125358        10.500000     791.0      47.000000            0.000000   \n",
              "189125719        10.500000    1087.0      80.000000            0.000000   \n",
              "189127273        10.500000     598.0     271.000000           15.663800   \n",
              "189128020        13.719651    1020.0     629.074231           32.057666   \n",
              "\n",
              "           meter_waiting_till_pickup    fare  label  distance  \n",
              "tripid                                                         \n",
              "189123628                  64.000000  270.32      1  2.467063  \n",
              "189125358                 134.000000  197.85      1  0.868942  \n",
              "189125719                  61.000000  301.64      1  5.531798  \n",
              "189127273                  68.000000   82.30      1  0.845795  \n",
              "189128020                 112.466832  358.39      1  7.527884  "
            ]
          },
          "metadata": {
            "tags": []
          },
          "execution_count": 11
        }
      ]
    },
    {
      "cell_type": "code",
      "metadata": {
        "id": "gVg7wmtyl1JT",
        "colab_type": "code",
        "colab": {
          "base_uri": "https://localhost:8080/",
          "height": 173
        },
        "outputId": "d3fe9e3e-f193-44ee-b01a-3efb550659ac"
      },
      "source": [
        "clean_df.isnull().sum()"
      ],
      "execution_count": 12,
      "outputs": [
        {
          "output_type": "execute_result",
          "data": {
            "text/plain": [
              "additional_fare              0\n",
              "duration                     0\n",
              "meter_waiting                0\n",
              "meter_waiting_fare           0\n",
              "meter_waiting_till_pickup    0\n",
              "fare                         0\n",
              "label                        0\n",
              "distance                     0\n",
              "dtype: int64"
            ]
          },
          "metadata": {
            "tags": []
          },
          "execution_count": 12
        }
      ]
    },
    {
      "cell_type": "code",
      "metadata": {
        "id": "ufiW_wSml3-4",
        "colab_type": "code",
        "colab": {}
      },
      "source": [
        "clean_df = clean_df.drop(['meter_waiting_till_pickup'],axis='columns')"
      ],
      "execution_count": 13,
      "outputs": []
    },
    {
      "cell_type": "markdown",
      "metadata": {
        "id": "Zlo2gRoCl67i",
        "colab_type": "text"
      },
      "source": [
        "**Training**"
      ]
    },
    {
      "cell_type": "code",
      "metadata": {
        "id": "4PudHN5KRvmP",
        "colab_type": "code",
        "colab": {
          "base_uri": "https://localhost:8080/",
          "height": 35
        },
        "outputId": "3417fb6a-5759-461f-85d0-d4cfeccd5d69"
      },
      "source": [
        "import keras\n",
        "from keras.models import Sequential\n",
        "from keras.layers import Dense,Dropout,Activation,Flatten\n",
        "from keras.layers import Convolution2D,MaxPooling2D,BatchNormalization,Convolution1D,Conv1D,MaxPooling1D\n",
        "from keras.optimizers import SGD,RMSprop\n",
        "import numpy as np\n",
        "from sklearn.preprocessing import StandardScaler\n",
        "from sklearn.metrics import f1_score"
      ],
      "execution_count": 14,
      "outputs": [
        {
          "output_type": "stream",
          "text": [
            "Using TensorFlow backend.\n"
          ],
          "name": "stderr"
        }
      ]
    },
    {
      "cell_type": "code",
      "metadata": {
        "id": "OYD6c1yWUNKY",
        "colab_type": "code",
        "colab": {
          "base_uri": "https://localhost:8080/",
          "height": 139
        },
        "outputId": "ec6b9418-539c-4d17-fca9-ac32ca628b5e"
      },
      "source": [
        "X_train = clean_df.drop(['label'],axis='columns')\n",
        "Y_train = clean_df['label']\n",
        "Y_train.head()"
      ],
      "execution_count": 15,
      "outputs": [
        {
          "output_type": "execute_result",
          "data": {
            "text/plain": [
              "tripid\n",
              "189123628    1\n",
              "189125358    1\n",
              "189125719    1\n",
              "189127273    1\n",
              "189128020    1\n",
              "Name: label, dtype: int64"
            ]
          },
          "metadata": {
            "tags": []
          },
          "execution_count": 15
        }
      ]
    },
    {
      "cell_type": "code",
      "metadata": {
        "id": "RpkJ3iPlLQt3",
        "colab_type": "code",
        "colab": {}
      },
      "source": [
        "from sklearn.model_selection import train_test_split\n",
        "x, x_test, y, y_test = train_test_split(X_train, Y_train, test_size=0.25)"
      ],
      "execution_count": 16,
      "outputs": []
    },
    {
      "cell_type": "code",
      "metadata": {
        "id": "CEqtBGwhbIYu",
        "colab_type": "code",
        "colab": {}
      },
      "source": [
        "from sklearn.preprocessing import StandardScaler\n",
        "sc = StandardScaler()\n",
        "x = sc.fit_transform(x)\n",
        "x_test = sc.transform(x_test)\n"
      ],
      "execution_count": 17,
      "outputs": []
    },
    {
      "cell_type": "code",
      "metadata": {
        "id": "hKQYgkn5PR_q",
        "colab_type": "code",
        "colab": {
          "base_uri": "https://localhost:8080/",
          "height": 1000
        },
        "outputId": "16038bfd-e808-44b1-f0f5-7c43152ec079"
      },
      "source": [
        "from keras.layers import BatchNormalization\n",
        "from keras.layers.advanced_activations import LeakyReLU\n",
        "\n",
        "import keras.backend as K\n",
        "n_col = x.shape[1]\n",
        "print(n_col)\n",
        "def rmse (y_true, y_pred):\n",
        "    return K.sqrt(K.mean(K.square(y_pred - y_true), axis=-1))\n",
        "\n",
        "def model() :   #Created a Model using Keras\n",
        "    model = Sequential()\n",
        "    model.add(Dropout(0.2,input_shape=(n_col,)))\n",
        "    model.add(BatchNormalization())\n",
        "    model.add(Dense(512,activation='relu'))#512 neurons in input layer\n",
        "    model.add(Dropout(0.2))\n",
        "    model.add(BatchNormalization())\n",
        "    model.add(Dense(256,activation='relu')) #256 neurons in hidden layer\n",
        "    model.add(BatchNormalization())\n",
        "    model.add(Dense(128,activation='relu'))  # 128 neurons in hidden layer\n",
        "    model.add(BatchNormalization())\n",
        "    model.add(Dense(64,activation='relu'))   # 64 neurons in hidden layer\n",
        "    model.add(BatchNormalization())\n",
        "    model.add(Dense(32,activation='relu'))   # 32 neurons in hidden layer\n",
        "    model.add(BatchNormalization())\n",
        "    model.add(Dense(16,activation='relu')) # 16 neurons in hidden layer\n",
        "    model.add(BatchNormalization())\n",
        "    model.add(Dense(8,activation='relu')) # 8 neurons in hidden layer\n",
        "    model.add(BatchNormalization())\n",
        "    model.add(Dense(1)) # 1 neuron in output layer\n",
        "    \n",
        "    #nadam = optimizers.Nadam(lr=0.002, beta_1=0.9, beta_2=0.999, epsilon=None, schedule_decay=0.004)\n",
        "    #adadelta =optimizers.Adadelta(lr=1.0, rho=0.95, epsilon=None, decay=0.0)\n",
        "    #adgrad = optimizers.Adagrad(lr=0.001, epsilon=None, decay=0.0)\n",
        "    #rms = optimizers.RMSprop(lr=0.001, rho=0.9, epsilon=None, decay=0.0)\n",
        "    \n",
        "    #sgd = optimizers.SGD(lr=0.01, decay=1e-6, momentum=0.9, nesterov=True,clipnorm=0.5)\n",
        "\n",
        "    model.compile(optimizer='adam',loss='mse', metrics=[rmse])\n",
        "    return model\n",
        "\n",
        "\n",
        "model = model()\n",
        "model.fit(x, y, epochs=80, batch_size=150, verbose=1, validation_data=(x_test, y_test))"
      ],
      "execution_count": 19,
      "outputs": [
        {
          "output_type": "stream",
          "text": [
            "6\n",
            "Train on 12779 samples, validate on 4260 samples\n",
            "Epoch 1/80\n",
            "12779/12779 [==============================] - 3s 221us/step - loss: 0.8654 - rmse: 0.8241 - val_loss: 0.4408 - val_rmse: 0.6545\n",
            "Epoch 2/80\n",
            "12779/12779 [==============================] - 1s 97us/step - loss: 0.3230 - rmse: 0.5391 - val_loss: 0.1852 - val_rmse: 0.4256\n",
            "Epoch 3/80\n",
            "12779/12779 [==============================] - 1s 97us/step - loss: 0.1367 - rmse: 0.3293 - val_loss: 0.0926 - val_rmse: 0.2352\n",
            "Epoch 4/80\n",
            "12779/12779 [==============================] - 1s 95us/step - loss: 0.0822 - rmse: 0.2041 - val_loss: 0.0799 - val_rmse: 0.1374\n",
            "Epoch 5/80\n",
            "12779/12779 [==============================] - 1s 97us/step - loss: 0.0748 - rmse: 0.1620 - val_loss: 0.0859 - val_rmse: 0.1218\n",
            "Epoch 6/80\n",
            "12779/12779 [==============================] - 1s 96us/step - loss: 0.0707 - rmse: 0.1489 - val_loss: 0.0880 - val_rmse: 0.1216\n",
            "Epoch 7/80\n",
            "12779/12779 [==============================] - 1s 95us/step - loss: 0.0710 - rmse: 0.1472 - val_loss: 0.0890 - val_rmse: 0.1179\n",
            "Epoch 8/80\n",
            "12779/12779 [==============================] - 1s 97us/step - loss: 0.0687 - rmse: 0.1430 - val_loss: 0.0815 - val_rmse: 0.1364\n",
            "Epoch 9/80\n",
            "12779/12779 [==============================] - 1s 95us/step - loss: 0.0697 - rmse: 0.1434 - val_loss: 0.0821 - val_rmse: 0.1190\n",
            "Epoch 10/80\n",
            "12779/12779 [==============================] - 1s 97us/step - loss: 0.0697 - rmse: 0.1432 - val_loss: 0.0797 - val_rmse: 0.1334\n",
            "Epoch 11/80\n",
            "12779/12779 [==============================] - 1s 96us/step - loss: 0.0666 - rmse: 0.1367 - val_loss: 0.0872 - val_rmse: 0.1165\n",
            "Epoch 12/80\n",
            "12779/12779 [==============================] - 1s 96us/step - loss: 0.0675 - rmse: 0.1379 - val_loss: 0.0886 - val_rmse: 0.1252\n",
            "Epoch 13/80\n",
            "12779/12779 [==============================] - 1s 96us/step - loss: 0.0679 - rmse: 0.1400 - val_loss: 0.0909 - val_rmse: 0.1119\n",
            "Epoch 14/80\n",
            "12779/12779 [==============================] - 1s 96us/step - loss: 0.0676 - rmse: 0.1382 - val_loss: 0.0865 - val_rmse: 0.1293\n",
            "Epoch 15/80\n",
            "12779/12779 [==============================] - 1s 97us/step - loss: 0.0670 - rmse: 0.1372 - val_loss: 0.0893 - val_rmse: 0.1142\n",
            "Epoch 16/80\n",
            "12779/12779 [==============================] - 1s 97us/step - loss: 0.0663 - rmse: 0.1341 - val_loss: 0.0851 - val_rmse: 0.1121\n",
            "Epoch 17/80\n",
            "12779/12779 [==============================] - 1s 96us/step - loss: 0.0668 - rmse: 0.1369 - val_loss: 0.0842 - val_rmse: 0.1140\n",
            "Epoch 18/80\n",
            "12779/12779 [==============================] - 1s 96us/step - loss: 0.0669 - rmse: 0.1348 - val_loss: 0.0854 - val_rmse: 0.1128\n",
            "Epoch 19/80\n",
            "12779/12779 [==============================] - 1s 97us/step - loss: 0.0664 - rmse: 0.1355 - val_loss: 0.0914 - val_rmse: 0.1198\n",
            "Epoch 20/80\n",
            "12779/12779 [==============================] - 1s 96us/step - loss: 0.0664 - rmse: 0.1327 - val_loss: 0.0814 - val_rmse: 0.1093\n",
            "Epoch 21/80\n",
            "12779/12779 [==============================] - 1s 96us/step - loss: 0.0658 - rmse: 0.1353 - val_loss: 0.0914 - val_rmse: 0.1110\n",
            "Epoch 22/80\n",
            "12779/12779 [==============================] - 1s 97us/step - loss: 0.0658 - rmse: 0.1351 - val_loss: 0.0905 - val_rmse: 0.1160\n",
            "Epoch 23/80\n",
            "12779/12779 [==============================] - 1s 96us/step - loss: 0.0658 - rmse: 0.1354 - val_loss: 0.0932 - val_rmse: 0.1345\n",
            "Epoch 24/80\n",
            "12779/12779 [==============================] - 1s 96us/step - loss: 0.0670 - rmse: 0.1357 - val_loss: 0.0830 - val_rmse: 0.1200\n",
            "Epoch 25/80\n",
            "12779/12779 [==============================] - 1s 97us/step - loss: 0.0650 - rmse: 0.1318 - val_loss: 0.0844 - val_rmse: 0.1295\n",
            "Epoch 26/80\n",
            "12779/12779 [==============================] - 1s 99us/step - loss: 0.0651 - rmse: 0.1329 - val_loss: 0.0837 - val_rmse: 0.1126\n",
            "Epoch 27/80\n",
            "12779/12779 [==============================] - 1s 96us/step - loss: 0.0645 - rmse: 0.1322 - val_loss: 0.0964 - val_rmse: 0.1180\n",
            "Epoch 28/80\n",
            "12779/12779 [==============================] - 1s 98us/step - loss: 0.0657 - rmse: 0.1343 - val_loss: 0.0807 - val_rmse: 0.1248\n",
            "Epoch 29/80\n",
            "12779/12779 [==============================] - 1s 100us/step - loss: 0.0641 - rmse: 0.1308 - val_loss: 0.0890 - val_rmse: 0.1079\n",
            "Epoch 30/80\n",
            "12779/12779 [==============================] - 1s 102us/step - loss: 0.0633 - rmse: 0.1295 - val_loss: 0.0771 - val_rmse: 0.1222\n",
            "Epoch 31/80\n",
            "12779/12779 [==============================] - 1s 103us/step - loss: 0.0649 - rmse: 0.1342 - val_loss: 0.0819 - val_rmse: 0.1254\n",
            "Epoch 32/80\n",
            "12779/12779 [==============================] - 1s 103us/step - loss: 0.0644 - rmse: 0.1324 - val_loss: 0.0798 - val_rmse: 0.1327\n",
            "Epoch 33/80\n",
            "12779/12779 [==============================] - 1s 102us/step - loss: 0.0637 - rmse: 0.1293 - val_loss: 0.0804 - val_rmse: 0.1110\n",
            "Epoch 34/80\n",
            "12779/12779 [==============================] - 1s 104us/step - loss: 0.0640 - rmse: 0.1307 - val_loss: 0.0803 - val_rmse: 0.1150\n",
            "Epoch 35/80\n",
            "12779/12779 [==============================] - 1s 103us/step - loss: 0.0636 - rmse: 0.1298 - val_loss: 0.0839 - val_rmse: 0.1131\n",
            "Epoch 36/80\n",
            "12779/12779 [==============================] - 1s 102us/step - loss: 0.0625 - rmse: 0.1293 - val_loss: 0.0887 - val_rmse: 0.1342\n",
            "Epoch 37/80\n",
            "12779/12779 [==============================] - 1s 101us/step - loss: 0.0633 - rmse: 0.1302 - val_loss: 0.0879 - val_rmse: 0.1136\n",
            "Epoch 38/80\n",
            "12779/12779 [==============================] - 1s 105us/step - loss: 0.0631 - rmse: 0.1287 - val_loss: 0.0849 - val_rmse: 0.1097\n",
            "Epoch 39/80\n",
            "12779/12779 [==============================] - 1s 103us/step - loss: 0.0618 - rmse: 0.1282 - val_loss: 0.0802 - val_rmse: 0.1295\n",
            "Epoch 40/80\n",
            "12779/12779 [==============================] - 1s 104us/step - loss: 0.0624 - rmse: 0.1254 - val_loss: 0.0877 - val_rmse: 0.1349\n",
            "Epoch 41/80\n",
            "12779/12779 [==============================] - 1s 102us/step - loss: 0.0621 - rmse: 0.1272 - val_loss: 0.0801 - val_rmse: 0.1134\n",
            "Epoch 42/80\n",
            "12779/12779 [==============================] - 1s 103us/step - loss: 0.0614 - rmse: 0.1252 - val_loss: 0.0888 - val_rmse: 0.1034\n",
            "Epoch 43/80\n",
            "12779/12779 [==============================] - 1s 102us/step - loss: 0.0624 - rmse: 0.1287 - val_loss: 0.0859 - val_rmse: 0.1116\n",
            "Epoch 44/80\n",
            "12779/12779 [==============================] - 1s 102us/step - loss: 0.0619 - rmse: 0.1255 - val_loss: 0.0856 - val_rmse: 0.1019\n",
            "Epoch 45/80\n",
            "12779/12779 [==============================] - 1s 102us/step - loss: 0.0616 - rmse: 0.1253 - val_loss: 0.0871 - val_rmse: 0.1186\n",
            "Epoch 46/80\n",
            "12779/12779 [==============================] - 1s 99us/step - loss: 0.0620 - rmse: 0.1268 - val_loss: 0.0821 - val_rmse: 0.1337\n",
            "Epoch 47/80\n",
            "12779/12779 [==============================] - 1s 96us/step - loss: 0.0616 - rmse: 0.1260 - val_loss: 0.0834 - val_rmse: 0.1164\n",
            "Epoch 48/80\n",
            "12779/12779 [==============================] - 1s 98us/step - loss: 0.0633 - rmse: 0.1287 - val_loss: 0.0870 - val_rmse: 0.1140\n",
            "Epoch 49/80\n",
            "12779/12779 [==============================] - 1s 99us/step - loss: 0.0636 - rmse: 0.1295 - val_loss: 0.0896 - val_rmse: 0.1293\n",
            "Epoch 50/80\n",
            "12779/12779 [==============================] - 1s 97us/step - loss: 0.0626 - rmse: 0.1253 - val_loss: 0.0904 - val_rmse: 0.1104\n",
            "Epoch 51/80\n",
            "12779/12779 [==============================] - 1s 97us/step - loss: 0.0626 - rmse: 0.1281 - val_loss: 0.0867 - val_rmse: 0.1051\n",
            "Epoch 52/80\n",
            "12779/12779 [==============================] - 1s 98us/step - loss: 0.0617 - rmse: 0.1256 - val_loss: 0.0865 - val_rmse: 0.1254\n",
            "Epoch 53/80\n",
            "12779/12779 [==============================] - 1s 98us/step - loss: 0.0622 - rmse: 0.1258 - val_loss: 0.0828 - val_rmse: 0.1179\n",
            "Epoch 54/80\n",
            "12779/12779 [==============================] - 1s 97us/step - loss: 0.0626 - rmse: 0.1262 - val_loss: 0.0868 - val_rmse: 0.1289\n",
            "Epoch 55/80\n",
            "12779/12779 [==============================] - 1s 98us/step - loss: 0.0632 - rmse: 0.1273 - val_loss: 0.0852 - val_rmse: 0.1193\n",
            "Epoch 56/80\n",
            "12779/12779 [==============================] - 1s 100us/step - loss: 0.0621 - rmse: 0.1266 - val_loss: 0.0925 - val_rmse: 0.1087\n",
            "Epoch 57/80\n",
            "12779/12779 [==============================] - 1s 98us/step - loss: 0.0612 - rmse: 0.1257 - val_loss: 0.0882 - val_rmse: 0.1160\n",
            "Epoch 58/80\n",
            "12779/12779 [==============================] - 1s 97us/step - loss: 0.0615 - rmse: 0.1252 - val_loss: 0.0855 - val_rmse: 0.1257\n",
            "Epoch 59/80\n",
            "12779/12779 [==============================] - 1s 97us/step - loss: 0.0635 - rmse: 0.1285 - val_loss: 0.0843 - val_rmse: 0.1094\n",
            "Epoch 60/80\n",
            "12779/12779 [==============================] - 1s 98us/step - loss: 0.0628 - rmse: 0.1267 - val_loss: 0.0893 - val_rmse: 0.1175\n",
            "Epoch 61/80\n",
            "12779/12779 [==============================] - 1s 98us/step - loss: 0.0618 - rmse: 0.1253 - val_loss: 0.1004 - val_rmse: 0.1103\n",
            "Epoch 62/80\n",
            "12779/12779 [==============================] - 1s 97us/step - loss: 0.0617 - rmse: 0.1239 - val_loss: 0.0914 - val_rmse: 0.1150\n",
            "Epoch 63/80\n",
            "12779/12779 [==============================] - 1s 94us/step - loss: 0.0613 - rmse: 0.1248 - val_loss: 0.0874 - val_rmse: 0.1133\n",
            "Epoch 64/80\n",
            "12779/12779 [==============================] - 1s 96us/step - loss: 0.0602 - rmse: 0.1213 - val_loss: 0.0851 - val_rmse: 0.1091\n",
            "Epoch 65/80\n",
            "12779/12779 [==============================] - 1s 97us/step - loss: 0.0599 - rmse: 0.1229 - val_loss: 0.0841 - val_rmse: 0.1338\n",
            "Epoch 66/80\n",
            "12779/12779 [==============================] - 1s 95us/step - loss: 0.0624 - rmse: 0.1269 - val_loss: 0.0954 - val_rmse: 0.1097\n",
            "Epoch 67/80\n",
            "12779/12779 [==============================] - 1s 96us/step - loss: 0.0606 - rmse: 0.1218 - val_loss: 0.0861 - val_rmse: 0.1091\n",
            "Epoch 68/80\n",
            "12779/12779 [==============================] - 1s 97us/step - loss: 0.0612 - rmse: 0.1251 - val_loss: 0.0812 - val_rmse: 0.1239\n",
            "Epoch 69/80\n",
            "12779/12779 [==============================] - 1s 96us/step - loss: 0.0601 - rmse: 0.1227 - val_loss: 0.0831 - val_rmse: 0.1168\n",
            "Epoch 70/80\n",
            "12779/12779 [==============================] - 1s 97us/step - loss: 0.0613 - rmse: 0.1250 - val_loss: 0.0856 - val_rmse: 0.1139\n",
            "Epoch 71/80\n",
            "12779/12779 [==============================] - 1s 98us/step - loss: 0.0602 - rmse: 0.1221 - val_loss: 0.0798 - val_rmse: 0.1075\n",
            "Epoch 72/80\n",
            "12779/12779 [==============================] - 1s 96us/step - loss: 0.0608 - rmse: 0.1247 - val_loss: 0.0815 - val_rmse: 0.1027\n",
            "Epoch 73/80\n",
            "12779/12779 [==============================] - 1s 99us/step - loss: 0.0606 - rmse: 0.1226 - val_loss: 0.0799 - val_rmse: 0.1162\n",
            "Epoch 74/80\n",
            "12779/12779 [==============================] - 1s 97us/step - loss: 0.0601 - rmse: 0.1213 - val_loss: 0.0835 - val_rmse: 0.1093\n",
            "Epoch 75/80\n",
            "12779/12779 [==============================] - 1s 98us/step - loss: 0.0608 - rmse: 0.1236 - val_loss: 0.0840 - val_rmse: 0.1008\n",
            "Epoch 76/80\n",
            "12779/12779 [==============================] - 1s 97us/step - loss: 0.0606 - rmse: 0.1226 - val_loss: 0.0843 - val_rmse: 0.1091\n",
            "Epoch 77/80\n",
            "12779/12779 [==============================] - 1s 97us/step - loss: 0.0619 - rmse: 0.1253 - val_loss: 0.0845 - val_rmse: 0.1161\n",
            "Epoch 78/80\n",
            "12779/12779 [==============================] - 1s 97us/step - loss: 0.0618 - rmse: 0.1247 - val_loss: 0.0824 - val_rmse: 0.1071\n",
            "Epoch 79/80\n",
            "12779/12779 [==============================] - 1s 98us/step - loss: 0.0593 - rmse: 0.1210 - val_loss: 0.0851 - val_rmse: 0.1120\n",
            "Epoch 80/80\n",
            "12779/12779 [==============================] - 1s 98us/step - loss: 0.0613 - rmse: 0.1219 - val_loss: 0.0808 - val_rmse: 0.1289\n"
          ],
          "name": "stdout"
        },
        {
          "output_type": "execute_result",
          "data": {
            "text/plain": [
              "<keras.callbacks.callbacks.History at 0x7f185c5e29e8>"
            ]
          },
          "metadata": {
            "tags": []
          },
          "execution_count": 19
        }
      ]
    },
    {
      "cell_type": "code",
      "metadata": {
        "id": "XI33NCvUR5kY",
        "colab_type": "code",
        "colab": {}
      },
      "source": [
        "# define the keras model\n",
        "model2 = Sequential()\n",
        "model2.add(Dense(256, input_dim=6, activation='relu'))\n",
        "model2.add(Dropout(0.5))\n",
        "model2.add(Dense(128, activation='relu'))\n",
        "model2.add(Dropout(0.5))\n",
        "model2.add(Dense(64, activation='relu'))\n",
        "model2.add(Dropout(0.5))\n",
        "model2.add(Dense(32, activation='relu'))\n",
        "model2.add(Dropout(0.5))\n",
        "model2.add(Dense(1, activation='sigmoid'))\n",
        "sgd=SGD(lr=0.01,momentum=0.1)\n",
        "# compile the keras model\n",
        "model2.compile(loss='binary_crossentropy', optimizer='adam', metrics=['accuracy'])\n",
        "# fit the keras model on the dataset\n",
        "model2.fit(x, y, epochs=100, batch_size=32, verbose=1, validation_data=(x_test, y_test))\n",
        "# evaluate the keras model\n",
        "_, accuracy = model2.evaluate(x_test, y_test)\n",
        "print('Accuracy: %.2f' % (accuracy*100))"
      ],
      "execution_count": null,
      "outputs": []
    },
    {
      "cell_type": "markdown",
      "metadata": {
        "id": "fltOEYKAqTeX",
        "colab_type": "text"
      },
      "source": [
        "**Predicting**"
      ]
    },
    {
      "cell_type": "code",
      "metadata": {
        "id": "OIFoSR4iqaCn",
        "colab_type": "code",
        "colab": {
          "base_uri": "https://localhost:8080/",
          "height": 243
        },
        "outputId": "f4e125e4-0e33-4c33-eb1f-8c32ea1fa86d"
      },
      "source": [
        "test_df.isnull().sum()"
      ],
      "execution_count": null,
      "outputs": [
        {
          "output_type": "execute_result",
          "data": {
            "text/plain": [
              "additional_fare              0\n",
              "duration                     0\n",
              "meter_waiting                0\n",
              "meter_waiting_fare           0\n",
              "meter_waiting_till_pickup    0\n",
              "pickup_time                  0\n",
              "drop_time                    0\n",
              "pick_lat                     0\n",
              "pick_lon                     0\n",
              "drop_lat                     0\n",
              "drop_lon                     0\n",
              "fare                         0\n",
              "dtype: int64"
            ]
          },
          "metadata": {
            "tags": []
          },
          "execution_count": 21
        }
      ]
    },
    {
      "cell_type": "code",
      "metadata": {
        "id": "AJAMZNomqdaO",
        "colab_type": "code",
        "colab": {
          "base_uri": "https://localhost:8080/",
          "height": 669
        },
        "outputId": "532184de-9d7f-4eec-c1dd-4f44aa97b3d8"
      },
      "source": [
        "test_df.info()\n",
        "test_df.head()\n",
        "test_df.isnull().sum()\n",
        "test_df.head()"
      ],
      "execution_count": null,
      "outputs": [
        {
          "output_type": "stream",
          "text": [
            "<class 'pandas.core.frame.DataFrame'>\n",
            "Int64Index: 8576 entries, 213284604 to 222860703\n",
            "Data columns (total 12 columns):\n",
            " #   Column                     Non-Null Count  Dtype  \n",
            "---  ------                     --------------  -----  \n",
            " 0   additional_fare            8576 non-null   float64\n",
            " 1   duration                   8576 non-null   int64  \n",
            " 2   meter_waiting              8576 non-null   int64  \n",
            " 3   meter_waiting_fare         8576 non-null   float64\n",
            " 4   meter_waiting_till_pickup  8576 non-null   int64  \n",
            " 5   pickup_time                8576 non-null   object \n",
            " 6   drop_time                  8576 non-null   object \n",
            " 7   pick_lat                   8576 non-null   float64\n",
            " 8   pick_lon                   8576 non-null   float64\n",
            " 9   drop_lat                   8576 non-null   float64\n",
            " 10  drop_lon                   8576 non-null   float64\n",
            " 11  fare                       8576 non-null   float64\n",
            "dtypes: float64(7), int64(3), object(2)\n",
            "memory usage: 871.0+ KB\n"
          ],
          "name": "stdout"
        },
        {
          "output_type": "execute_result",
          "data": {
            "text/html": [
              "<div>\n",
              "<style scoped>\n",
              "    .dataframe tbody tr th:only-of-type {\n",
              "        vertical-align: middle;\n",
              "    }\n",
              "\n",
              "    .dataframe tbody tr th {\n",
              "        vertical-align: top;\n",
              "    }\n",
              "\n",
              "    .dataframe thead th {\n",
              "        text-align: right;\n",
              "    }\n",
              "</style>\n",
              "<table border=\"1\" class=\"dataframe\">\n",
              "  <thead>\n",
              "    <tr style=\"text-align: right;\">\n",
              "      <th></th>\n",
              "      <th>additional_fare</th>\n",
              "      <th>duration</th>\n",
              "      <th>meter_waiting</th>\n",
              "      <th>meter_waiting_fare</th>\n",
              "      <th>meter_waiting_till_pickup</th>\n",
              "      <th>pickup_time</th>\n",
              "      <th>drop_time</th>\n",
              "      <th>pick_lat</th>\n",
              "      <th>pick_lon</th>\n",
              "      <th>drop_lat</th>\n",
              "      <th>drop_lon</th>\n",
              "      <th>fare</th>\n",
              "    </tr>\n",
              "    <tr>\n",
              "      <th>tripid</th>\n",
              "      <th></th>\n",
              "      <th></th>\n",
              "      <th></th>\n",
              "      <th></th>\n",
              "      <th></th>\n",
              "      <th></th>\n",
              "      <th></th>\n",
              "      <th></th>\n",
              "      <th></th>\n",
              "      <th></th>\n",
              "      <th></th>\n",
              "      <th></th>\n",
              "    </tr>\n",
              "  </thead>\n",
              "  <tbody>\n",
              "    <tr>\n",
              "      <th>213284604</th>\n",
              "      <td>10.5</td>\n",
              "      <td>924</td>\n",
              "      <td>42</td>\n",
              "      <td>2.4486</td>\n",
              "      <td>148</td>\n",
              "      <td>2/1/2020 0:38</td>\n",
              "      <td>2/1/2020 0:53</td>\n",
              "      <td>6.83454</td>\n",
              "      <td>79.8750</td>\n",
              "      <td>6.77490</td>\n",
              "      <td>79.8840</td>\n",
              "      <td>289.27</td>\n",
              "    </tr>\n",
              "    <tr>\n",
              "      <th>213286352</th>\n",
              "      <td>10.5</td>\n",
              "      <td>4249</td>\n",
              "      <td>20</td>\n",
              "      <td>0.0000</td>\n",
              "      <td>91</td>\n",
              "      <td>2/1/2020 1:02</td>\n",
              "      <td>2/1/2020 2:13</td>\n",
              "      <td>6.91168</td>\n",
              "      <td>79.8723</td>\n",
              "      <td>6.55091</td>\n",
              "      <td>79.9706</td>\n",
              "      <td>1912.70</td>\n",
              "    </tr>\n",
              "    <tr>\n",
              "      <th>213293973</th>\n",
              "      <td>10.5</td>\n",
              "      <td>1552</td>\n",
              "      <td>255</td>\n",
              "      <td>2.6588</td>\n",
              "      <td>23</td>\n",
              "      <td>2/1/2020 5:02</td>\n",
              "      <td>2/1/2020 5:28</td>\n",
              "      <td>6.92145</td>\n",
              "      <td>79.8478</td>\n",
              "      <td>6.90539</td>\n",
              "      <td>79.8989</td>\n",
              "      <td>394.00</td>\n",
              "    </tr>\n",
              "    <tr>\n",
              "      <th>213294622</th>\n",
              "      <td>10.5</td>\n",
              "      <td>462</td>\n",
              "      <td>16</td>\n",
              "      <td>0.0000</td>\n",
              "      <td>198</td>\n",
              "      <td>2/1/2020 5:30</td>\n",
              "      <td>2/1/2020 5:38</td>\n",
              "      <td>6.77433</td>\n",
              "      <td>79.9416</td>\n",
              "      <td>6.80401</td>\n",
              "      <td>79.9407</td>\n",
              "      <td>154.32</td>\n",
              "    </tr>\n",
              "    <tr>\n",
              "      <th>213298687</th>\n",
              "      <td>10.5</td>\n",
              "      <td>814</td>\n",
              "      <td>392</td>\n",
              "      <td>12.3692</td>\n",
              "      <td>69</td>\n",
              "      <td>2/1/2020 7:00</td>\n",
              "      <td>2/1/2020 7:14</td>\n",
              "      <td>6.97968</td>\n",
              "      <td>79.9130</td>\n",
              "      <td>6.98875</td>\n",
              "      <td>79.8914</td>\n",
              "      <td>147.47</td>\n",
              "    </tr>\n",
              "  </tbody>\n",
              "</table>\n",
              "</div>"
            ],
            "text/plain": [
              "           additional_fare  duration  meter_waiting  meter_waiting_fare  \\\n",
              "tripid                                                                    \n",
              "213284604             10.5       924             42              2.4486   \n",
              "213286352             10.5      4249             20              0.0000   \n",
              "213293973             10.5      1552            255              2.6588   \n",
              "213294622             10.5       462             16              0.0000   \n",
              "213298687             10.5       814            392             12.3692   \n",
              "\n",
              "           meter_waiting_till_pickup    pickup_time      drop_time  pick_lat  \\\n",
              "tripid                                                                         \n",
              "213284604                        148  2/1/2020 0:38  2/1/2020 0:53   6.83454   \n",
              "213286352                         91  2/1/2020 1:02  2/1/2020 2:13   6.91168   \n",
              "213293973                         23  2/1/2020 5:02  2/1/2020 5:28   6.92145   \n",
              "213294622                        198  2/1/2020 5:30  2/1/2020 5:38   6.77433   \n",
              "213298687                         69  2/1/2020 7:00  2/1/2020 7:14   6.97968   \n",
              "\n",
              "           pick_lon  drop_lat  drop_lon     fare  \n",
              "tripid                                            \n",
              "213284604   79.8750   6.77490   79.8840   289.27  \n",
              "213286352   79.8723   6.55091   79.9706  1912.70  \n",
              "213293973   79.8478   6.90539   79.8989   394.00  \n",
              "213294622   79.9416   6.80401   79.9407   154.32  \n",
              "213298687   79.9130   6.98875   79.8914   147.47  "
            ]
          },
          "metadata": {
            "tags": []
          },
          "execution_count": 22
        }
      ]
    },
    {
      "cell_type": "code",
      "metadata": {
        "id": "zHEu2vtXqd4b",
        "colab_type": "code",
        "colab": {}
      },
      "source": [
        "test_df['distance'] = haversine_np(test_df['pick_lat'], test_df['pick_lon'], test_df['drop_lat'] , test_df['drop_lon'])"
      ],
      "execution_count": null,
      "outputs": []
    },
    {
      "cell_type": "code",
      "metadata": {
        "id": "9v66LG9Oqin5",
        "colab_type": "code",
        "colab": {}
      },
      "source": [
        "test_df2 = test_df.drop(['pickup_time','drop_time','pick_lat','pick_lon','drop_lat','drop_lon'],axis='columns')\n",
        "\n",
        "test_df2.isnull().sum()"
      ],
      "execution_count": null,
      "outputs": []
    },
    {
      "cell_type": "code",
      "metadata": {
        "id": "g6_9aBpxqlOS",
        "colab_type": "code",
        "colab": {}
      },
      "source": [
        "test_df2 = test_df2.drop(['meter_waiting_till_pickup'],axis='columns')"
      ],
      "execution_count": null,
      "outputs": []
    },
    {
      "cell_type": "code",
      "metadata": {
        "id": "iuTUK-W-H2QP",
        "colab_type": "code",
        "colab": {}
      },
      "source": [
        "testdf2= sc.transform(test_df2)"
      ],
      "execution_count": null,
      "outputs": []
    },
    {
      "cell_type": "code",
      "metadata": {
        "id": "s5dv0TbQVpSG",
        "colab_type": "code",
        "colab": {}
      },
      "source": [
        "predictions = model.predict_classes(testdf2)"
      ],
      "execution_count": null,
      "outputs": []
    },
    {
      "cell_type": "code",
      "metadata": {
        "id": "VtFUG1q-qlzf",
        "colab_type": "code",
        "colab": {}
      },
      "source": [
        "test_df2['prediction'] = predictions"
      ],
      "execution_count": null,
      "outputs": []
    },
    {
      "cell_type": "code",
      "metadata": {
        "id": "sXCRsKGaqqAE",
        "colab_type": "code",
        "colab": {}
      },
      "source": [
        "final_df = test_df2.drop(['additional_fare','distance','duration','fare','meter_waiting','meter_waiting_fare'],axis='columns')\n",
        "\n",
        "final_df.head()\n",
        "final_df.info()"
      ],
      "execution_count": null,
      "outputs": []
    },
    {
      "cell_type": "code",
      "metadata": {
        "id": "iRS6693D7b9H",
        "colab_type": "code",
        "colab": {
          "base_uri": "https://localhost:8080/",
          "height": 386
        },
        "outputId": "2552d870-75f2-4652-9e6b-fb90596d6b4f"
      },
      "source": [
        "final_df.head(10)"
      ],
      "execution_count": null,
      "outputs": [
        {
          "output_type": "execute_result",
          "data": {
            "text/html": [
              "<div>\n",
              "<style scoped>\n",
              "    .dataframe tbody tr th:only-of-type {\n",
              "        vertical-align: middle;\n",
              "    }\n",
              "\n",
              "    .dataframe tbody tr th {\n",
              "        vertical-align: top;\n",
              "    }\n",
              "\n",
              "    .dataframe thead th {\n",
              "        text-align: right;\n",
              "    }\n",
              "</style>\n",
              "<table border=\"1\" class=\"dataframe\">\n",
              "  <thead>\n",
              "    <tr style=\"text-align: right;\">\n",
              "      <th></th>\n",
              "      <th>prediction</th>\n",
              "    </tr>\n",
              "    <tr>\n",
              "      <th>tripid</th>\n",
              "      <th></th>\n",
              "    </tr>\n",
              "  </thead>\n",
              "  <tbody>\n",
              "    <tr>\n",
              "      <th>213284604</th>\n",
              "      <td>1</td>\n",
              "    </tr>\n",
              "    <tr>\n",
              "      <th>213286352</th>\n",
              "      <td>1</td>\n",
              "    </tr>\n",
              "    <tr>\n",
              "      <th>213293973</th>\n",
              "      <td>1</td>\n",
              "    </tr>\n",
              "    <tr>\n",
              "      <th>213294622</th>\n",
              "      <td>1</td>\n",
              "    </tr>\n",
              "    <tr>\n",
              "      <th>213298687</th>\n",
              "      <td>1</td>\n",
              "    </tr>\n",
              "    <tr>\n",
              "      <th>213299545</th>\n",
              "      <td>1</td>\n",
              "    </tr>\n",
              "    <tr>\n",
              "      <th>213302332</th>\n",
              "      <td>1</td>\n",
              "    </tr>\n",
              "    <tr>\n",
              "      <th>213302671</th>\n",
              "      <td>1</td>\n",
              "    </tr>\n",
              "    <tr>\n",
              "      <th>213305594</th>\n",
              "      <td>1</td>\n",
              "    </tr>\n",
              "    <tr>\n",
              "      <th>213305134</th>\n",
              "      <td>1</td>\n",
              "    </tr>\n",
              "  </tbody>\n",
              "</table>\n",
              "</div>"
            ],
            "text/plain": [
              "           prediction\n",
              "tripid               \n",
              "213284604           1\n",
              "213286352           1\n",
              "213293973           1\n",
              "213294622           1\n",
              "213298687           1\n",
              "213299545           1\n",
              "213302332           1\n",
              "213302671           1\n",
              "213305594           1\n",
              "213305134           1"
            ]
          },
          "metadata": {
            "tags": []
          },
          "execution_count": 30
        }
      ]
    },
    {
      "cell_type": "code",
      "metadata": {
        "id": "CwlxXGgZqqnD",
        "colab_type": "code",
        "colab": {}
      },
      "source": [
        "final_df.to_csv(DATA_PATH+'submission_30.csv', index=True)"
      ],
      "execution_count": null,
      "outputs": []
    }
  ]
}