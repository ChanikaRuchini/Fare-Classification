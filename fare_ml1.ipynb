{
  "nbformat": 4,
  "nbformat_minor": 0,
  "metadata": {
    "kernelspec": {
      "language": "python",
      "display_name": "Python 3",
      "name": "python3"
    },
    "language_info": {
      "pygments_lexer": "ipython3",
      "nbconvert_exporter": "python",
      "version": "3.6.4",
      "file_extension": ".py",
      "codemirror_mode": {
        "name": "ipython",
        "version": 3
      },
      "name": "python",
      "mimetype": "text/x-python"
    },
    "colab": {
      "name": "fare_ml1.ipynb",
      "provenance": []
    }
  },
  "cells": [
    {
      "cell_type": "code",
      "metadata": {
        "_uuid": "8f2839f25d086af736a60e9eeb907d3b93b6e0e5",
        "_cell_guid": "b1076dfc-b9ad-4769-8c92-a6c4dae69d19",
        "trusted": true,
        "id": "KEHGqeKO0iTo",
        "colab_type": "code",
        "colab": {
          "base_uri": "https://localhost:8080/",
          "height": 35
        },
        "outputId": "ca3a9eb2-2ac1-45ab-cc37-8fb023e63028"
      },
      "source": [
        "from pathlib import Path\n",
        "\n",
        "import numpy as np\n",
        "import pandas as pd\n",
        "import numpy as np\n",
        "import pandas as pd\n",
        "from pathlib import Path\n",
        "from math import radians, cos, sin, asin, sqrt\n",
        "import datetime as dt\n",
        "from sklearn.pipeline import Pipeline\n",
        "from sklearn.impute import SimpleImputer\n",
        "from sklearn.preprocessing import StandardScaler, OneHotEncoder\n",
        "from sklearn.compose import ColumnTransformer\n",
        "from sklearn.model_selection import GridSearchCV\n",
        "from sklearn.model_selection import RandomizedSearchCV\n",
        "from sklearn.linear_model import LogisticRegression\n",
        "from sklearn.ensemble import RandomForestClassifier\n",
        "from xgboost import XGBClassifier\n",
        "from sklearn.metrics import f1_score\n",
        "from sklearn.model_selection import cross_val_score, cross_val_predict, StratifiedKFold,  KFold,train_test_split\n",
        "from sklearn.neighbors import KNeighborsClassifier\n",
        "from sklearn.preprocessing import StandardScaler\n",
        "\n",
        "\n",
        "pd.set_option(\"display.max_columns\", 100)\n",
        "\n",
        "from google.colab import drive\n",
        "drive.mount('/content/gdrive')\n",
        "DATA_PATH = \"/content/gdrive/My Drive/MLdata/\"\n",
        "\n",
        "train_df = pd.read_csv(\n",
        "    DATA_PATH + \"train.csv\", \n",
        "    index_col=\"tripid\"\n",
        ")\n",
        "test_df = pd.read_csv(\n",
        "    DATA_PATH + \"test.csv\", \n",
        "    index_col=\"tripid\"\n",
        ")\n"
      ],
      "execution_count": 123,
      "outputs": [
        {
          "output_type": "stream",
          "text": [
            "Drive already mounted at /content/gdrive; to attempt to forcibly remount, call drive.mount(\"/content/gdrive\", force_remount=True).\n"
          ],
          "name": "stdout"
        }
      ]
    },
    {
      "cell_type": "markdown",
      "metadata": {
        "id": "j6C875yQ0iTx",
        "colab_type": "text"
      },
      "source": [
        "Data Cleaning"
      ]
    },
    {
      "cell_type": "code",
      "metadata": {
        "trusted": true,
        "id": "jQLB4srC0iTy",
        "colab_type": "code",
        "colab": {}
      },
      "source": [
        "train_df[\"label\"] = train_df[\"label\"].map({\"incorrect\": 0, \"correct\":1})"
      ],
      "execution_count": 124,
      "outputs": []
    },
    {
      "cell_type": "code",
      "metadata": {
        "trusted": true,
        "id": "XLfriofn0iT1",
        "colab_type": "code",
        "colab": {
          "base_uri": "https://localhost:8080/",
          "height": 416
        },
        "outputId": "fa121c24-fb69-4ce6-8a54-654438cb1f0e"
      },
      "source": [
        "train_df[\"pickup\"] = pd.to_datetime(train_df[\"pickup_time\"])\n",
        "train_df[\"drop\"] = pd.to_datetime(train_df[\"drop_time\"])\n",
        "train_df ['difference'] = train_df[\"drop\"] - train_df[\"pickup\"]\n",
        "train_df ['difference'] = train_df ['difference']/np.timedelta64(1,'s')\n",
        "train_df['duration'] = train_df['duration'].fillna(train_df ['difference'])\n",
        "train_df.info()"
      ],
      "execution_count": 125,
      "outputs": [
        {
          "output_type": "stream",
          "text": [
            "<class 'pandas.core.frame.DataFrame'>\n",
            "Int64Index: 17176 entries, 189123628 to 213817296\n",
            "Data columns (total 16 columns):\n",
            " #   Column                     Non-Null Count  Dtype         \n",
            "---  ------                     --------------  -----         \n",
            " 0   additional_fare            16974 non-null  float64       \n",
            " 1   duration                   17176 non-null  float64       \n",
            " 2   meter_waiting              16974 non-null  float64       \n",
            " 3   meter_waiting_fare         16974 non-null  float64       \n",
            " 4   meter_waiting_till_pickup  16974 non-null  float64       \n",
            " 5   pickup_time                17176 non-null  object        \n",
            " 6   drop_time                  17176 non-null  object        \n",
            " 7   pick_lat                   17176 non-null  float64       \n",
            " 8   pick_lon                   17176 non-null  float64       \n",
            " 9   drop_lat                   17176 non-null  float64       \n",
            " 10  drop_lon                   17176 non-null  float64       \n",
            " 11  fare                       17039 non-null  float64       \n",
            " 12  label                      17176 non-null  int64         \n",
            " 13  pickup                     17176 non-null  datetime64[ns]\n",
            " 14  drop                       17176 non-null  datetime64[ns]\n",
            " 15  difference                 17176 non-null  float64       \n",
            "dtypes: datetime64[ns](2), float64(11), int64(1), object(2)\n",
            "memory usage: 2.2+ MB\n"
          ],
          "name": "stdout"
        }
      ]
    },
    {
      "cell_type": "code",
      "metadata": {
        "trusted": true,
        "id": "Khy5oxxQ0iT4",
        "colab_type": "code",
        "colab": {
          "base_uri": "https://localhost:8080/",
          "height": 426
        },
        "outputId": "e2448802-71f5-4e41-e9be-a6e59a2dad3e"
      },
      "source": [
        "train_df.head()\n",
        "\n",
        "# new_df = train_df[\"pickup_time\"]-train_df[\"drop_time\"]\n",
        "# train_df.info()\n",
        "# train_df.head()\n",
        "train_df.isnull().sum()\n",
        "train_df.head()"
      ],
      "execution_count": 126,
      "outputs": [
        {
          "output_type": "execute_result",
          "data": {
            "text/html": [
              "<div>\n",
              "<style scoped>\n",
              "    .dataframe tbody tr th:only-of-type {\n",
              "        vertical-align: middle;\n",
              "    }\n",
              "\n",
              "    .dataframe tbody tr th {\n",
              "        vertical-align: top;\n",
              "    }\n",
              "\n",
              "    .dataframe thead th {\n",
              "        text-align: right;\n",
              "    }\n",
              "</style>\n",
              "<table border=\"1\" class=\"dataframe\">\n",
              "  <thead>\n",
              "    <tr style=\"text-align: right;\">\n",
              "      <th></th>\n",
              "      <th>additional_fare</th>\n",
              "      <th>duration</th>\n",
              "      <th>meter_waiting</th>\n",
              "      <th>meter_waiting_fare</th>\n",
              "      <th>meter_waiting_till_pickup</th>\n",
              "      <th>pickup_time</th>\n",
              "      <th>drop_time</th>\n",
              "      <th>pick_lat</th>\n",
              "      <th>pick_lon</th>\n",
              "      <th>drop_lat</th>\n",
              "      <th>drop_lon</th>\n",
              "      <th>fare</th>\n",
              "      <th>label</th>\n",
              "      <th>pickup</th>\n",
              "      <th>drop</th>\n",
              "      <th>difference</th>\n",
              "    </tr>\n",
              "    <tr>\n",
              "      <th>tripid</th>\n",
              "      <th></th>\n",
              "      <th></th>\n",
              "      <th></th>\n",
              "      <th></th>\n",
              "      <th></th>\n",
              "      <th></th>\n",
              "      <th></th>\n",
              "      <th></th>\n",
              "      <th></th>\n",
              "      <th></th>\n",
              "      <th></th>\n",
              "      <th></th>\n",
              "      <th></th>\n",
              "      <th></th>\n",
              "      <th></th>\n",
              "      <th></th>\n",
              "    </tr>\n",
              "  </thead>\n",
              "  <tbody>\n",
              "    <tr>\n",
              "      <th>189123628</th>\n",
              "      <td>10.5</td>\n",
              "      <td>834.0</td>\n",
              "      <td>56.0</td>\n",
              "      <td>0.0000</td>\n",
              "      <td>64.0</td>\n",
              "      <td>11/1/2019 0:20</td>\n",
              "      <td>11/1/2019 0:34</td>\n",
              "      <td>6.86252</td>\n",
              "      <td>79.8993</td>\n",
              "      <td>6.90330</td>\n",
              "      <td>79.8783</td>\n",
              "      <td>270.32</td>\n",
              "      <td>1</td>\n",
              "      <td>2019-11-01 00:20:00</td>\n",
              "      <td>2019-11-01 00:34:00</td>\n",
              "      <td>840.0</td>\n",
              "    </tr>\n",
              "    <tr>\n",
              "      <th>189125358</th>\n",
              "      <td>10.5</td>\n",
              "      <td>791.0</td>\n",
              "      <td>47.0</td>\n",
              "      <td>0.0000</td>\n",
              "      <td>134.0</td>\n",
              "      <td>11/1/2019 0:56</td>\n",
              "      <td>11/1/2019 1:09</td>\n",
              "      <td>6.88589</td>\n",
              "      <td>79.8984</td>\n",
              "      <td>6.91373</td>\n",
              "      <td>79.8923</td>\n",
              "      <td>197.85</td>\n",
              "      <td>1</td>\n",
              "      <td>2019-11-01 00:56:00</td>\n",
              "      <td>2019-11-01 01:09:00</td>\n",
              "      <td>780.0</td>\n",
              "    </tr>\n",
              "    <tr>\n",
              "      <th>189125719</th>\n",
              "      <td>10.5</td>\n",
              "      <td>1087.0</td>\n",
              "      <td>80.0</td>\n",
              "      <td>0.0000</td>\n",
              "      <td>61.0</td>\n",
              "      <td>11/1/2019 1:08</td>\n",
              "      <td>11/1/2019 1:26</td>\n",
              "      <td>6.90839</td>\n",
              "      <td>79.8651</td>\n",
              "      <td>6.93669</td>\n",
              "      <td>79.9146</td>\n",
              "      <td>301.64</td>\n",
              "      <td>1</td>\n",
              "      <td>2019-11-01 01:08:00</td>\n",
              "      <td>2019-11-01 01:26:00</td>\n",
              "      <td>1080.0</td>\n",
              "    </tr>\n",
              "    <tr>\n",
              "      <th>189127273</th>\n",
              "      <td>10.5</td>\n",
              "      <td>598.0</td>\n",
              "      <td>271.0</td>\n",
              "      <td>15.6638</td>\n",
              "      <td>68.0</td>\n",
              "      <td>11/1/2019 2:27</td>\n",
              "      <td>11/1/2019 2:37</td>\n",
              "      <td>6.92570</td>\n",
              "      <td>79.8895</td>\n",
              "      <td>6.92748</td>\n",
              "      <td>79.8971</td>\n",
              "      <td>82.30</td>\n",
              "      <td>1</td>\n",
              "      <td>2019-11-01 02:27:00</td>\n",
              "      <td>2019-11-01 02:37:00</td>\n",
              "      <td>600.0</td>\n",
              "    </tr>\n",
              "    <tr>\n",
              "      <th>189128020</th>\n",
              "      <td>NaN</td>\n",
              "      <td>1020.0</td>\n",
              "      <td>NaN</td>\n",
              "      <td>NaN</td>\n",
              "      <td>NaN</td>\n",
              "      <td>11/1/2019 3:34</td>\n",
              "      <td>11/1/2019 3:51</td>\n",
              "      <td>6.87441</td>\n",
              "      <td>79.8615</td>\n",
              "      <td>6.84478</td>\n",
              "      <td>79.9290</td>\n",
              "      <td>358.39</td>\n",
              "      <td>1</td>\n",
              "      <td>2019-11-01 03:34:00</td>\n",
              "      <td>2019-11-01 03:51:00</td>\n",
              "      <td>1020.0</td>\n",
              "    </tr>\n",
              "  </tbody>\n",
              "</table>\n",
              "</div>"
            ],
            "text/plain": [
              "           additional_fare  duration  meter_waiting  meter_waiting_fare  \\\n",
              "tripid                                                                    \n",
              "189123628             10.5     834.0           56.0              0.0000   \n",
              "189125358             10.5     791.0           47.0              0.0000   \n",
              "189125719             10.5    1087.0           80.0              0.0000   \n",
              "189127273             10.5     598.0          271.0             15.6638   \n",
              "189128020              NaN    1020.0            NaN                 NaN   \n",
              "\n",
              "           meter_waiting_till_pickup     pickup_time       drop_time  \\\n",
              "tripid                                                                 \n",
              "189123628                       64.0  11/1/2019 0:20  11/1/2019 0:34   \n",
              "189125358                      134.0  11/1/2019 0:56  11/1/2019 1:09   \n",
              "189125719                       61.0  11/1/2019 1:08  11/1/2019 1:26   \n",
              "189127273                       68.0  11/1/2019 2:27  11/1/2019 2:37   \n",
              "189128020                        NaN  11/1/2019 3:34  11/1/2019 3:51   \n",
              "\n",
              "           pick_lat  pick_lon  drop_lat  drop_lon    fare  label  \\\n",
              "tripid                                                             \n",
              "189123628   6.86252   79.8993   6.90330   79.8783  270.32      1   \n",
              "189125358   6.88589   79.8984   6.91373   79.8923  197.85      1   \n",
              "189125719   6.90839   79.8651   6.93669   79.9146  301.64      1   \n",
              "189127273   6.92570   79.8895   6.92748   79.8971   82.30      1   \n",
              "189128020   6.87441   79.8615   6.84478   79.9290  358.39      1   \n",
              "\n",
              "                       pickup                drop  difference  \n",
              "tripid                                                         \n",
              "189123628 2019-11-01 00:20:00 2019-11-01 00:34:00       840.0  \n",
              "189125358 2019-11-01 00:56:00 2019-11-01 01:09:00       780.0  \n",
              "189125719 2019-11-01 01:08:00 2019-11-01 01:26:00      1080.0  \n",
              "189127273 2019-11-01 02:27:00 2019-11-01 02:37:00       600.0  \n",
              "189128020 2019-11-01 03:34:00 2019-11-01 03:51:00      1020.0  "
            ]
          },
          "metadata": {
            "tags": []
          },
          "execution_count": 126
        }
      ]
    },
    {
      "cell_type": "code",
      "metadata": {
        "trusted": true,
        "id": "G-sRTMvQ0iT8",
        "colab_type": "code",
        "colab": {
          "base_uri": "https://localhost:8080/",
          "height": 225
        },
        "outputId": "ed6ef3e5-af9c-4cca-fff1-b2963e11dfc1"
      },
      "source": [
        "train_df2 = train_df.drop(['pickup_time','drop_time','pickup','drop','difference'],axis='columns')\n",
        "train_df2.isnull().sum()"
      ],
      "execution_count": 127,
      "outputs": [
        {
          "output_type": "execute_result",
          "data": {
            "text/plain": [
              "additional_fare              202\n",
              "duration                       0\n",
              "meter_waiting                202\n",
              "meter_waiting_fare           202\n",
              "meter_waiting_till_pickup    202\n",
              "pick_lat                       0\n",
              "pick_lon                       0\n",
              "drop_lat                       0\n",
              "drop_lon                       0\n",
              "fare                         137\n",
              "label                          0\n",
              "dtype: int64"
            ]
          },
          "metadata": {
            "tags": []
          },
          "execution_count": 127
        }
      ]
    },
    {
      "cell_type": "code",
      "metadata": {
        "trusted": true,
        "id": "i_xH2C4n0iT_",
        "colab_type": "code",
        "colab": {}
      },
      "source": [
        "train_df2['fare'] = train_df2['fare'] .fillna(train_df2.fare.mean())"
      ],
      "execution_count": 128,
      "outputs": []
    },
    {
      "cell_type": "code",
      "metadata": {
        "trusted": true,
        "id": "EXVNVIQj0iUG",
        "colab_type": "code",
        "colab": {}
      },
      "source": [
        "train_df2['additional_fare'] = train_df2['additional_fare'].fillna(train_df2.additional_fare.mean())"
      ],
      "execution_count": 129,
      "outputs": []
    },
    {
      "cell_type": "code",
      "metadata": {
        "trusted": true,
        "id": "yNdaadod0iUK",
        "colab_type": "code",
        "colab": {}
      },
      "source": [
        "train_df2['meter_waiting'] = train_df2['meter_waiting'].fillna(train_df2.meter_waiting.mean())"
      ],
      "execution_count": 130,
      "outputs": []
    },
    {
      "cell_type": "code",
      "metadata": {
        "trusted": true,
        "id": "4QZOejqz0iUP",
        "colab_type": "code",
        "colab": {}
      },
      "source": [
        "train_df2['meter_waiting_fare'] = train_df2['meter_waiting_fare'].fillna(train_df2.meter_waiting_fare.mean())"
      ],
      "execution_count": 131,
      "outputs": []
    },
    {
      "cell_type": "code",
      "metadata": {
        "trusted": true,
        "id": "YHhoxzdn0iUS",
        "colab_type": "code",
        "colab": {}
      },
      "source": [
        "train_df2['meter_waiting_till_pickup'] = train_df2['meter_waiting_till_pickup'].fillna(train_df2.meter_waiting_till_pickup.mean())"
      ],
      "execution_count": 132,
      "outputs": []
    },
    {
      "cell_type": "code",
      "metadata": {
        "trusted": true,
        "id": "2n_mBxIN0iUV",
        "colab_type": "code",
        "colab": {
          "base_uri": "https://localhost:8080/",
          "height": 225
        },
        "outputId": "eef89368-6784-498e-e0a0-91c40cf7bd0e"
      },
      "source": [
        "train_df2.isnull().sum()"
      ],
      "execution_count": 133,
      "outputs": [
        {
          "output_type": "execute_result",
          "data": {
            "text/plain": [
              "additional_fare              0\n",
              "duration                     0\n",
              "meter_waiting                0\n",
              "meter_waiting_fare           0\n",
              "meter_waiting_till_pickup    0\n",
              "pick_lat                     0\n",
              "pick_lon                     0\n",
              "drop_lat                     0\n",
              "drop_lon                     0\n",
              "fare                         0\n",
              "label                        0\n",
              "dtype: int64"
            ]
          },
          "metadata": {
            "tags": []
          },
          "execution_count": 133
        }
      ]
    },
    {
      "cell_type": "code",
      "metadata": {
        "trusted": true,
        "id": "io2SHIsx0iUb",
        "colab_type": "code",
        "colab": {
          "base_uri": "https://localhost:8080/",
          "height": 253
        },
        "outputId": "a1a5c3d4-c2d3-4582-f265-af306323b4d5"
      },
      "source": [
        "train_df2['lat_change'] = abs(train_df2['pick_lat']- train_df2['drop_lat'])\n",
        "train_df2['lon_change'] = abs(train_df2['pick_lon']- train_df2['drop_lon'])\n",
        "train_df2.head()"
      ],
      "execution_count": 134,
      "outputs": [
        {
          "output_type": "execute_result",
          "data": {
            "text/html": [
              "<div>\n",
              "<style scoped>\n",
              "    .dataframe tbody tr th:only-of-type {\n",
              "        vertical-align: middle;\n",
              "    }\n",
              "\n",
              "    .dataframe tbody tr th {\n",
              "        vertical-align: top;\n",
              "    }\n",
              "\n",
              "    .dataframe thead th {\n",
              "        text-align: right;\n",
              "    }\n",
              "</style>\n",
              "<table border=\"1\" class=\"dataframe\">\n",
              "  <thead>\n",
              "    <tr style=\"text-align: right;\">\n",
              "      <th></th>\n",
              "      <th>additional_fare</th>\n",
              "      <th>duration</th>\n",
              "      <th>meter_waiting</th>\n",
              "      <th>meter_waiting_fare</th>\n",
              "      <th>meter_waiting_till_pickup</th>\n",
              "      <th>pick_lat</th>\n",
              "      <th>pick_lon</th>\n",
              "      <th>drop_lat</th>\n",
              "      <th>drop_lon</th>\n",
              "      <th>fare</th>\n",
              "      <th>label</th>\n",
              "      <th>lat_change</th>\n",
              "      <th>lon_change</th>\n",
              "    </tr>\n",
              "    <tr>\n",
              "      <th>tripid</th>\n",
              "      <th></th>\n",
              "      <th></th>\n",
              "      <th></th>\n",
              "      <th></th>\n",
              "      <th></th>\n",
              "      <th></th>\n",
              "      <th></th>\n",
              "      <th></th>\n",
              "      <th></th>\n",
              "      <th></th>\n",
              "      <th></th>\n",
              "      <th></th>\n",
              "      <th></th>\n",
              "    </tr>\n",
              "  </thead>\n",
              "  <tbody>\n",
              "    <tr>\n",
              "      <th>189123628</th>\n",
              "      <td>10.500000</td>\n",
              "      <td>834.0</td>\n",
              "      <td>56.000000</td>\n",
              "      <td>0.000000</td>\n",
              "      <td>64.000000</td>\n",
              "      <td>6.86252</td>\n",
              "      <td>79.8993</td>\n",
              "      <td>6.90330</td>\n",
              "      <td>79.8783</td>\n",
              "      <td>270.32</td>\n",
              "      <td>1</td>\n",
              "      <td>0.04078</td>\n",
              "      <td>0.0210</td>\n",
              "    </tr>\n",
              "    <tr>\n",
              "      <th>189125358</th>\n",
              "      <td>10.500000</td>\n",
              "      <td>791.0</td>\n",
              "      <td>47.000000</td>\n",
              "      <td>0.000000</td>\n",
              "      <td>134.000000</td>\n",
              "      <td>6.88589</td>\n",
              "      <td>79.8984</td>\n",
              "      <td>6.91373</td>\n",
              "      <td>79.8923</td>\n",
              "      <td>197.85</td>\n",
              "      <td>1</td>\n",
              "      <td>0.02784</td>\n",
              "      <td>0.0061</td>\n",
              "    </tr>\n",
              "    <tr>\n",
              "      <th>189125719</th>\n",
              "      <td>10.500000</td>\n",
              "      <td>1087.0</td>\n",
              "      <td>80.000000</td>\n",
              "      <td>0.000000</td>\n",
              "      <td>61.000000</td>\n",
              "      <td>6.90839</td>\n",
              "      <td>79.8651</td>\n",
              "      <td>6.93669</td>\n",
              "      <td>79.9146</td>\n",
              "      <td>301.64</td>\n",
              "      <td>1</td>\n",
              "      <td>0.02830</td>\n",
              "      <td>0.0495</td>\n",
              "    </tr>\n",
              "    <tr>\n",
              "      <th>189127273</th>\n",
              "      <td>10.500000</td>\n",
              "      <td>598.0</td>\n",
              "      <td>271.000000</td>\n",
              "      <td>15.663800</td>\n",
              "      <td>68.000000</td>\n",
              "      <td>6.92570</td>\n",
              "      <td>79.8895</td>\n",
              "      <td>6.92748</td>\n",
              "      <td>79.8971</td>\n",
              "      <td>82.30</td>\n",
              "      <td>1</td>\n",
              "      <td>0.00178</td>\n",
              "      <td>0.0076</td>\n",
              "    </tr>\n",
              "    <tr>\n",
              "      <th>189128020</th>\n",
              "      <td>13.719651</td>\n",
              "      <td>1020.0</td>\n",
              "      <td>629.074231</td>\n",
              "      <td>32.057666</td>\n",
              "      <td>112.466832</td>\n",
              "      <td>6.87441</td>\n",
              "      <td>79.8615</td>\n",
              "      <td>6.84478</td>\n",
              "      <td>79.9290</td>\n",
              "      <td>358.39</td>\n",
              "      <td>1</td>\n",
              "      <td>0.02963</td>\n",
              "      <td>0.0675</td>\n",
              "    </tr>\n",
              "  </tbody>\n",
              "</table>\n",
              "</div>"
            ],
            "text/plain": [
              "           additional_fare  duration  meter_waiting  meter_waiting_fare  \\\n",
              "tripid                                                                    \n",
              "189123628        10.500000     834.0      56.000000            0.000000   \n",
              "189125358        10.500000     791.0      47.000000            0.000000   \n",
              "189125719        10.500000    1087.0      80.000000            0.000000   \n",
              "189127273        10.500000     598.0     271.000000           15.663800   \n",
              "189128020        13.719651    1020.0     629.074231           32.057666   \n",
              "\n",
              "           meter_waiting_till_pickup  pick_lat  pick_lon  drop_lat  drop_lon  \\\n",
              "tripid                                                                         \n",
              "189123628                  64.000000   6.86252   79.8993   6.90330   79.8783   \n",
              "189125358                 134.000000   6.88589   79.8984   6.91373   79.8923   \n",
              "189125719                  61.000000   6.90839   79.8651   6.93669   79.9146   \n",
              "189127273                  68.000000   6.92570   79.8895   6.92748   79.8971   \n",
              "189128020                 112.466832   6.87441   79.8615   6.84478   79.9290   \n",
              "\n",
              "             fare  label  lat_change  lon_change  \n",
              "tripid                                            \n",
              "189123628  270.32      1     0.04078      0.0210  \n",
              "189125358  197.85      1     0.02784      0.0061  \n",
              "189125719  301.64      1     0.02830      0.0495  \n",
              "189127273   82.30      1     0.00178      0.0076  \n",
              "189128020  358.39      1     0.02963      0.0675  "
            ]
          },
          "metadata": {
            "tags": []
          },
          "execution_count": 134
        }
      ]
    },
    {
      "cell_type": "code",
      "metadata": {
        "id": "ELSjw5pD37Bs",
        "colab_type": "code",
        "colab": {}
      },
      "source": [
        "from math import radians, cos, sin, asin, sqrt\n",
        "import numpy as np\n",
        "\n",
        "def haversine_np(lon1, lat1, lon2, lat2):\n",
        "    \"\"\"\n",
        "    Calculate the great circle distance between two points\n",
        "    on the earth (specified in decimal degrees)\n",
        "\n",
        "    All args must be of equal length.    \n",
        "\n",
        "    \"\"\"\n",
        "    lon1, lat1, lon2, lat2 = map(np.radians, [lon1, lat1, lon2, lat2])\n",
        "\n",
        "    dlon = lon2 - lon1\n",
        "    dlat = lat2 - lat1\n",
        "\n",
        "    a = np.sin(dlat/2.0)**2 + np.cos(lat1) * np.cos(lat2) * np.sin(dlon/2.0)**2\n",
        "\n",
        "    c = 2 * np.arcsin(np.sqrt(a))\n",
        "    km = 6371 * c  # 6371 is Radius of earth in kilometers. Use 3956 for miles\n",
        "    return km\n",
        "\n",
        "train_df2['distance'] = haversine_np(train_df2['pick_lat'], train_df2['pick_lon'], train_df2['drop_lat'] , train_df2['drop_lon'])"
      ],
      "execution_count": 137,
      "outputs": []
    },
    {
      "cell_type": "code",
      "metadata": {
        "id": "NedY1a2h4AM5",
        "colab_type": "code",
        "colab": {}
      },
      "source": [
        "clean_df = train_df2.drop(['pick_lat','pick_lon','drop_lat','drop_lon'],axis='columns')"
      ],
      "execution_count": 138,
      "outputs": []
    },
    {
      "cell_type": "code",
      "metadata": {
        "trusted": true,
        "id": "RraQSQlQ0iUi",
        "colab_type": "code",
        "colab": {
          "base_uri": "https://localhost:8080/",
          "height": 312
        },
        "outputId": "c989df8a-5668-4560-9195-734da1580001"
      },
      "source": [
        "clean_df.info()"
      ],
      "execution_count": 139,
      "outputs": [
        {
          "output_type": "stream",
          "text": [
            "<class 'pandas.core.frame.DataFrame'>\n",
            "Int64Index: 17176 entries, 189123628 to 213817296\n",
            "Data columns (total 10 columns):\n",
            " #   Column                     Non-Null Count  Dtype  \n",
            "---  ------                     --------------  -----  \n",
            " 0   additional_fare            17176 non-null  float64\n",
            " 1   duration                   17176 non-null  float64\n",
            " 2   meter_waiting              17176 non-null  float64\n",
            " 3   meter_waiting_fare         17176 non-null  float64\n",
            " 4   meter_waiting_till_pickup  17176 non-null  float64\n",
            " 5   fare                       17176 non-null  float64\n",
            " 6   label                      17176 non-null  int64  \n",
            " 7   lat_change                 17176 non-null  float64\n",
            " 8   lon_change                 17176 non-null  float64\n",
            " 9   distance                   17176 non-null  float64\n",
            "dtypes: float64(9), int64(1)\n",
            "memory usage: 1.4 MB\n"
          ],
          "name": "stdout"
        }
      ]
    },
    {
      "cell_type": "code",
      "metadata": {
        "trusted": true,
        "id": "LgVj5F3s0iUk",
        "colab_type": "code",
        "colab": {
          "base_uri": "https://localhost:8080/",
          "height": 233
        },
        "outputId": "12d2ca0d-2586-4fd5-c844-6097450f1c1f"
      },
      "source": [
        "clean_df.head()"
      ],
      "execution_count": 140,
      "outputs": [
        {
          "output_type": "execute_result",
          "data": {
            "text/html": [
              "<div>\n",
              "<style scoped>\n",
              "    .dataframe tbody tr th:only-of-type {\n",
              "        vertical-align: middle;\n",
              "    }\n",
              "\n",
              "    .dataframe tbody tr th {\n",
              "        vertical-align: top;\n",
              "    }\n",
              "\n",
              "    .dataframe thead th {\n",
              "        text-align: right;\n",
              "    }\n",
              "</style>\n",
              "<table border=\"1\" class=\"dataframe\">\n",
              "  <thead>\n",
              "    <tr style=\"text-align: right;\">\n",
              "      <th></th>\n",
              "      <th>additional_fare</th>\n",
              "      <th>duration</th>\n",
              "      <th>meter_waiting</th>\n",
              "      <th>meter_waiting_fare</th>\n",
              "      <th>meter_waiting_till_pickup</th>\n",
              "      <th>fare</th>\n",
              "      <th>label</th>\n",
              "      <th>lat_change</th>\n",
              "      <th>lon_change</th>\n",
              "      <th>distance</th>\n",
              "    </tr>\n",
              "    <tr>\n",
              "      <th>tripid</th>\n",
              "      <th></th>\n",
              "      <th></th>\n",
              "      <th></th>\n",
              "      <th></th>\n",
              "      <th></th>\n",
              "      <th></th>\n",
              "      <th></th>\n",
              "      <th></th>\n",
              "      <th></th>\n",
              "      <th></th>\n",
              "    </tr>\n",
              "  </thead>\n",
              "  <tbody>\n",
              "    <tr>\n",
              "      <th>189123628</th>\n",
              "      <td>10.500000</td>\n",
              "      <td>834.0</td>\n",
              "      <td>56.000000</td>\n",
              "      <td>0.000000</td>\n",
              "      <td>64.000000</td>\n",
              "      <td>270.32</td>\n",
              "      <td>1</td>\n",
              "      <td>0.04078</td>\n",
              "      <td>0.0210</td>\n",
              "      <td>2.467063</td>\n",
              "    </tr>\n",
              "    <tr>\n",
              "      <th>189125358</th>\n",
              "      <td>10.500000</td>\n",
              "      <td>791.0</td>\n",
              "      <td>47.000000</td>\n",
              "      <td>0.000000</td>\n",
              "      <td>134.000000</td>\n",
              "      <td>197.85</td>\n",
              "      <td>1</td>\n",
              "      <td>0.02784</td>\n",
              "      <td>0.0061</td>\n",
              "      <td>0.868942</td>\n",
              "    </tr>\n",
              "    <tr>\n",
              "      <th>189125719</th>\n",
              "      <td>10.500000</td>\n",
              "      <td>1087.0</td>\n",
              "      <td>80.000000</td>\n",
              "      <td>0.000000</td>\n",
              "      <td>61.000000</td>\n",
              "      <td>301.64</td>\n",
              "      <td>1</td>\n",
              "      <td>0.02830</td>\n",
              "      <td>0.0495</td>\n",
              "      <td>5.531798</td>\n",
              "    </tr>\n",
              "    <tr>\n",
              "      <th>189127273</th>\n",
              "      <td>10.500000</td>\n",
              "      <td>598.0</td>\n",
              "      <td>271.000000</td>\n",
              "      <td>15.663800</td>\n",
              "      <td>68.000000</td>\n",
              "      <td>82.30</td>\n",
              "      <td>1</td>\n",
              "      <td>0.00178</td>\n",
              "      <td>0.0076</td>\n",
              "      <td>0.845795</td>\n",
              "    </tr>\n",
              "    <tr>\n",
              "      <th>189128020</th>\n",
              "      <td>13.719651</td>\n",
              "      <td>1020.0</td>\n",
              "      <td>629.074231</td>\n",
              "      <td>32.057666</td>\n",
              "      <td>112.466832</td>\n",
              "      <td>358.39</td>\n",
              "      <td>1</td>\n",
              "      <td>0.02963</td>\n",
              "      <td>0.0675</td>\n",
              "      <td>7.527884</td>\n",
              "    </tr>\n",
              "  </tbody>\n",
              "</table>\n",
              "</div>"
            ],
            "text/plain": [
              "           additional_fare  duration  meter_waiting  meter_waiting_fare  \\\n",
              "tripid                                                                    \n",
              "189123628        10.500000     834.0      56.000000            0.000000   \n",
              "189125358        10.500000     791.0      47.000000            0.000000   \n",
              "189125719        10.500000    1087.0      80.000000            0.000000   \n",
              "189127273        10.500000     598.0     271.000000           15.663800   \n",
              "189128020        13.719651    1020.0     629.074231           32.057666   \n",
              "\n",
              "           meter_waiting_till_pickup    fare  label  lat_change  lon_change  \\\n",
              "tripid                                                                        \n",
              "189123628                  64.000000  270.32      1     0.04078      0.0210   \n",
              "189125358                 134.000000  197.85      1     0.02784      0.0061   \n",
              "189125719                  61.000000  301.64      1     0.02830      0.0495   \n",
              "189127273                  68.000000   82.30      1     0.00178      0.0076   \n",
              "189128020                 112.466832  358.39      1     0.02963      0.0675   \n",
              "\n",
              "           distance  \n",
              "tripid               \n",
              "189123628  2.467063  \n",
              "189125358  0.868942  \n",
              "189125719  5.531798  \n",
              "189127273  0.845795  \n",
              "189128020  7.527884  "
            ]
          },
          "metadata": {
            "tags": []
          },
          "execution_count": 140
        }
      ]
    },
    {
      "cell_type": "markdown",
      "metadata": {
        "id": "mR6BHJLx0iUo",
        "colab_type": "text"
      },
      "source": [
        "Training"
      ]
    },
    {
      "cell_type": "code",
      "metadata": {
        "trusted": true,
        "id": "f_filI0I0iUo",
        "colab_type": "code",
        "colab": {
          "base_uri": "https://localhost:8080/",
          "height": 139
        },
        "outputId": "21edd189-f31c-4949-8c03-b85fc4aa3c06"
      },
      "source": [
        "X_train = clean_df.drop(['label'],axis='columns')\n",
        "Y_train = clean_df['label']\n",
        "Y_train.head()"
      ],
      "execution_count": 141,
      "outputs": [
        {
          "output_type": "execute_result",
          "data": {
            "text/plain": [
              "tripid\n",
              "189123628    1\n",
              "189125358    1\n",
              "189125719    1\n",
              "189127273    1\n",
              "189128020    1\n",
              "Name: label, dtype: int64"
            ]
          },
          "metadata": {
            "tags": []
          },
          "execution_count": 141
        }
      ]
    },
    {
      "cell_type": "code",
      "metadata": {
        "id": "rRE70bp14Z9S",
        "colab_type": "code",
        "colab": {}
      },
      "source": [
        "numeric_transformer = Pipeline(steps=[\n",
        "    ('imputer', SimpleImputer(strategy='mean')),\n",
        "    ('scaler', StandardScaler())])\n",
        "categorical_transformer = Pipeline(steps=[\n",
        "    ('imputer', SimpleImputer(strategy='constant', fill_value='missing')),\n",
        "    ('onehot', OneHotEncoder(handle_unknown='ignore'))])\n",
        "numeric_features = clean_df.select_dtypes(include=['int64', 'float64']).drop(['label'], axis=1).columns\n",
        "categorical_features = clean_df.select_dtypes(include=['object']).columns\n",
        "from sklearn.compose import ColumnTransformer\n",
        "preprocessor = ColumnTransformer(\n",
        "    transformers=[\n",
        "        ('num', numeric_transformer, numeric_features),\n",
        "        ('cat', categorical_transformer, categorical_features)])"
      ],
      "execution_count": 142,
      "outputs": []
    },
    {
      "cell_type": "code",
      "metadata": {
        "id": "-Fcnibp_4fAM",
        "colab_type": "code",
        "colab": {}
      },
      "source": [
        "#test with different classifiers\n",
        "knn = KNeighborsClassifier(n_neighbors=10, p=2,metric='euclidean')\n",
        "rft = RandomForestClassifier(n_jobs=2,random_state=0)\n",
        "LR = LogisticRegression(random_state = 2)\n",
        "xgb= XGBClassifier( learning_rate =0.1, n_estimators=500)"
      ],
      "execution_count": 119,
      "outputs": []
    },
    {
      "cell_type": "code",
      "metadata": {
        "trusted": true,
        "id": "JsScHEA50iUv",
        "colab_type": "code",
        "colab": {}
      },
      "source": [
        "kfold = StratifiedKFold(n_splits=10)"
      ],
      "execution_count": 46,
      "outputs": []
    },
    {
      "cell_type": "code",
      "metadata": {
        "trusted": true,
        "id": "ykKi22zA0iUz",
        "colab_type": "code",
        "colab": {}
      },
      "source": [
        "random_state = 2"
      ],
      "execution_count": 47,
      "outputs": []
    },
    {
      "cell_type": "code",
      "metadata": {
        "trusted": true,
        "id": "hGTucn2z0iU2",
        "colab_type": "code",
        "colab": {
          "base_uri": "https://localhost:8080/",
          "height": 35
        },
        "outputId": "787b261f-86d5-4e6c-ff9d-a4d7c0072b27"
      },
      "source": [
        "c_results = []\n",
        "c_results.append(cross_val_score(rft, X_train, y = Y_train, scoring = 'f1', cv = kfold, n_jobs=4)) \n",
        "\n",
        "c_means = 0\n",
        "c_std = 0\n",
        "for c_result in c_results:\n",
        "    c_means = c_result.mean()\n",
        "    c_std  = c_result.std()\n",
        "\n",
        "c_means"
      ],
      "execution_count": 71,
      "outputs": [
        {
          "output_type": "execute_result",
          "data": {
            "text/plain": [
              "0.9711730543729032"
            ]
          },
          "metadata": {
            "tags": []
          },
          "execution_count": 71
        }
      ]
    },
    {
      "cell_type": "code",
      "metadata": {
        "trusted": true,
        "id": "q7CfMhw20iU6",
        "colab_type": "code",
        "colab": {}
      },
      "source": [
        "pipeline = Pipeline(steps=[('preprocessor', preprocessor),\n",
        "                      ('classifier', rft)])"
      ],
      "execution_count": 143,
      "outputs": []
    },
    {
      "cell_type": "code",
      "metadata": {
        "id": "flG-SCiKApfI",
        "colab_type": "code",
        "colab": {}
      },
      "source": [
        "x_train, x_eval, y_eval, y_eval = train_test_split(X_train, Y_train, test_size=0.25,stratify=Y_train)"
      ],
      "execution_count": 145,
      "outputs": []
    },
    {
      "cell_type": "code",
      "metadata": {
        "id": "WaJHc_wzAsKz",
        "colab_type": "code",
        "colab": {}
      },
      "source": [
        "pipeline.fit(x_eval, y_eval)\n",
        "y_pred = pipeline.predict(x_eval)"
      ],
      "execution_count": 148,
      "outputs": []
    },
    {
      "cell_type": "code",
      "metadata": {
        "id": "2OSJ_Rb-Az4K",
        "colab_type": "code",
        "colab": {
          "base_uri": "https://localhost:8080/",
          "height": 35
        },
        "outputId": "d59a311d-0581-4164-d146-1359a7fb7bde"
      },
      "source": [
        "f1_score(y_eval, y_pred,average='weighted')"
      ],
      "execution_count": 149,
      "outputs": [
        {
          "output_type": "execute_result",
          "data": {
            "text/plain": [
              "1.0"
            ]
          },
          "metadata": {
            "tags": []
          },
          "execution_count": 149
        }
      ]
    },
    {
      "cell_type": "code",
      "metadata": {
        "id": "vD8z60Yz8byA",
        "colab_type": "code",
        "colab": {
          "base_uri": "https://localhost:8080/",
          "height": 520
        },
        "outputId": "02277786-13e3-4ae3-cd96-7d1c5d827eda"
      },
      "source": [
        "pipeline.fit(X_train,Y_train)"
      ],
      "execution_count": 144,
      "outputs": [
        {
          "output_type": "execute_result",
          "data": {
            "text/plain": [
              "Pipeline(memory=None,\n",
              "         steps=[('preprocessor',\n",
              "                 ColumnTransformer(n_jobs=None, remainder='drop',\n",
              "                                   sparse_threshold=0.3,\n",
              "                                   transformer_weights=None,\n",
              "                                   transformers=[('num',\n",
              "                                                  Pipeline(memory=None,\n",
              "                                                           steps=[('imputer',\n",
              "                                                                   SimpleImputer(add_indicator=False,\n",
              "                                                                                 copy=True,\n",
              "                                                                                 fill_value=None,\n",
              "                                                                                 missing_values=nan,\n",
              "                                                                                 strategy='mean',\n",
              "                                                                                 verbose=0)),\n",
              "                                                                  ('scaler',\n",
              "                                                                   StandardScaler(copy=True,\n",
              "                                                                                  with_mean=T...\n",
              "                 RandomForestClassifier(bootstrap=True, ccp_alpha=0.0,\n",
              "                                        class_weight=None, criterion='gini',\n",
              "                                        max_depth=None, max_features='auto',\n",
              "                                        max_leaf_nodes=None, max_samples=None,\n",
              "                                        min_impurity_decrease=0.0,\n",
              "                                        min_impurity_split=None,\n",
              "                                        min_samples_leaf=1, min_samples_split=2,\n",
              "                                        min_weight_fraction_leaf=0.0,\n",
              "                                        n_estimators=100, n_jobs=2,\n",
              "                                        oob_score=False, random_state=0,\n",
              "                                        verbose=0, warm_start=False))],\n",
              "         verbose=False)"
            ]
          },
          "metadata": {
            "tags": []
          },
          "execution_count": 144
        }
      ]
    },
    {
      "cell_type": "markdown",
      "metadata": {
        "id": "yjb-9fOF0iU9",
        "colab_type": "text"
      },
      "source": [
        "Predicting"
      ]
    },
    {
      "cell_type": "code",
      "metadata": {
        "trusted": true,
        "id": "Rej_1C610iU9",
        "colab_type": "code",
        "colab": {
          "base_uri": "https://localhost:8080/",
          "height": 243
        },
        "outputId": "240483aa-ab8e-46f9-92a1-f993bdcfbb2e"
      },
      "source": [
        "test_df.isnull().sum()"
      ],
      "execution_count": 150,
      "outputs": [
        {
          "output_type": "execute_result",
          "data": {
            "text/plain": [
              "additional_fare              0\n",
              "duration                     0\n",
              "meter_waiting                0\n",
              "meter_waiting_fare           0\n",
              "meter_waiting_till_pickup    0\n",
              "pickup_time                  0\n",
              "drop_time                    0\n",
              "pick_lat                     0\n",
              "pick_lon                     0\n",
              "drop_lat                     0\n",
              "drop_lon                     0\n",
              "fare                         0\n",
              "dtype: int64"
            ]
          },
          "metadata": {
            "tags": []
          },
          "execution_count": 150
        }
      ]
    },
    {
      "cell_type": "code",
      "metadata": {
        "trusted": true,
        "id": "p1XfcJtY0iU_",
        "colab_type": "code",
        "colab": {
          "base_uri": "https://localhost:8080/",
          "height": 669
        },
        "outputId": "e7db244a-4799-4c97-8723-209e4630cb57"
      },
      "source": [
        "test_df.info()\n",
        "test_df.head()\n",
        "test_df.isnull().sum()\n",
        "test_df.head()"
      ],
      "execution_count": 151,
      "outputs": [
        {
          "output_type": "stream",
          "text": [
            "<class 'pandas.core.frame.DataFrame'>\n",
            "Int64Index: 8576 entries, 213284604 to 222860703\n",
            "Data columns (total 12 columns):\n",
            " #   Column                     Non-Null Count  Dtype  \n",
            "---  ------                     --------------  -----  \n",
            " 0   additional_fare            8576 non-null   float64\n",
            " 1   duration                   8576 non-null   int64  \n",
            " 2   meter_waiting              8576 non-null   int64  \n",
            " 3   meter_waiting_fare         8576 non-null   float64\n",
            " 4   meter_waiting_till_pickup  8576 non-null   int64  \n",
            " 5   pickup_time                8576 non-null   object \n",
            " 6   drop_time                  8576 non-null   object \n",
            " 7   pick_lat                   8576 non-null   float64\n",
            " 8   pick_lon                   8576 non-null   float64\n",
            " 9   drop_lat                   8576 non-null   float64\n",
            " 10  drop_lon                   8576 non-null   float64\n",
            " 11  fare                       8576 non-null   float64\n",
            "dtypes: float64(7), int64(3), object(2)\n",
            "memory usage: 871.0+ KB\n"
          ],
          "name": "stdout"
        },
        {
          "output_type": "execute_result",
          "data": {
            "text/html": [
              "<div>\n",
              "<style scoped>\n",
              "    .dataframe tbody tr th:only-of-type {\n",
              "        vertical-align: middle;\n",
              "    }\n",
              "\n",
              "    .dataframe tbody tr th {\n",
              "        vertical-align: top;\n",
              "    }\n",
              "\n",
              "    .dataframe thead th {\n",
              "        text-align: right;\n",
              "    }\n",
              "</style>\n",
              "<table border=\"1\" class=\"dataframe\">\n",
              "  <thead>\n",
              "    <tr style=\"text-align: right;\">\n",
              "      <th></th>\n",
              "      <th>additional_fare</th>\n",
              "      <th>duration</th>\n",
              "      <th>meter_waiting</th>\n",
              "      <th>meter_waiting_fare</th>\n",
              "      <th>meter_waiting_till_pickup</th>\n",
              "      <th>pickup_time</th>\n",
              "      <th>drop_time</th>\n",
              "      <th>pick_lat</th>\n",
              "      <th>pick_lon</th>\n",
              "      <th>drop_lat</th>\n",
              "      <th>drop_lon</th>\n",
              "      <th>fare</th>\n",
              "    </tr>\n",
              "    <tr>\n",
              "      <th>tripid</th>\n",
              "      <th></th>\n",
              "      <th></th>\n",
              "      <th></th>\n",
              "      <th></th>\n",
              "      <th></th>\n",
              "      <th></th>\n",
              "      <th></th>\n",
              "      <th></th>\n",
              "      <th></th>\n",
              "      <th></th>\n",
              "      <th></th>\n",
              "      <th></th>\n",
              "    </tr>\n",
              "  </thead>\n",
              "  <tbody>\n",
              "    <tr>\n",
              "      <th>213284604</th>\n",
              "      <td>10.5</td>\n",
              "      <td>924</td>\n",
              "      <td>42</td>\n",
              "      <td>2.4486</td>\n",
              "      <td>148</td>\n",
              "      <td>2/1/2020 0:38</td>\n",
              "      <td>2/1/2020 0:53</td>\n",
              "      <td>6.83454</td>\n",
              "      <td>79.8750</td>\n",
              "      <td>6.77490</td>\n",
              "      <td>79.8840</td>\n",
              "      <td>289.27</td>\n",
              "    </tr>\n",
              "    <tr>\n",
              "      <th>213286352</th>\n",
              "      <td>10.5</td>\n",
              "      <td>4249</td>\n",
              "      <td>20</td>\n",
              "      <td>0.0000</td>\n",
              "      <td>91</td>\n",
              "      <td>2/1/2020 1:02</td>\n",
              "      <td>2/1/2020 2:13</td>\n",
              "      <td>6.91168</td>\n",
              "      <td>79.8723</td>\n",
              "      <td>6.55091</td>\n",
              "      <td>79.9706</td>\n",
              "      <td>1912.70</td>\n",
              "    </tr>\n",
              "    <tr>\n",
              "      <th>213293973</th>\n",
              "      <td>10.5</td>\n",
              "      <td>1552</td>\n",
              "      <td>255</td>\n",
              "      <td>2.6588</td>\n",
              "      <td>23</td>\n",
              "      <td>2/1/2020 5:02</td>\n",
              "      <td>2/1/2020 5:28</td>\n",
              "      <td>6.92145</td>\n",
              "      <td>79.8478</td>\n",
              "      <td>6.90539</td>\n",
              "      <td>79.8989</td>\n",
              "      <td>394.00</td>\n",
              "    </tr>\n",
              "    <tr>\n",
              "      <th>213294622</th>\n",
              "      <td>10.5</td>\n",
              "      <td>462</td>\n",
              "      <td>16</td>\n",
              "      <td>0.0000</td>\n",
              "      <td>198</td>\n",
              "      <td>2/1/2020 5:30</td>\n",
              "      <td>2/1/2020 5:38</td>\n",
              "      <td>6.77433</td>\n",
              "      <td>79.9416</td>\n",
              "      <td>6.80401</td>\n",
              "      <td>79.9407</td>\n",
              "      <td>154.32</td>\n",
              "    </tr>\n",
              "    <tr>\n",
              "      <th>213298687</th>\n",
              "      <td>10.5</td>\n",
              "      <td>814</td>\n",
              "      <td>392</td>\n",
              "      <td>12.3692</td>\n",
              "      <td>69</td>\n",
              "      <td>2/1/2020 7:00</td>\n",
              "      <td>2/1/2020 7:14</td>\n",
              "      <td>6.97968</td>\n",
              "      <td>79.9130</td>\n",
              "      <td>6.98875</td>\n",
              "      <td>79.8914</td>\n",
              "      <td>147.47</td>\n",
              "    </tr>\n",
              "  </tbody>\n",
              "</table>\n",
              "</div>"
            ],
            "text/plain": [
              "           additional_fare  duration  meter_waiting  meter_waiting_fare  \\\n",
              "tripid                                                                    \n",
              "213284604             10.5       924             42              2.4486   \n",
              "213286352             10.5      4249             20              0.0000   \n",
              "213293973             10.5      1552            255              2.6588   \n",
              "213294622             10.5       462             16              0.0000   \n",
              "213298687             10.5       814            392             12.3692   \n",
              "\n",
              "           meter_waiting_till_pickup    pickup_time      drop_time  pick_lat  \\\n",
              "tripid                                                                         \n",
              "213284604                        148  2/1/2020 0:38  2/1/2020 0:53   6.83454   \n",
              "213286352                         91  2/1/2020 1:02  2/1/2020 2:13   6.91168   \n",
              "213293973                         23  2/1/2020 5:02  2/1/2020 5:28   6.92145   \n",
              "213294622                        198  2/1/2020 5:30  2/1/2020 5:38   6.77433   \n",
              "213298687                         69  2/1/2020 7:00  2/1/2020 7:14   6.97968   \n",
              "\n",
              "           pick_lon  drop_lat  drop_lon     fare  \n",
              "tripid                                            \n",
              "213284604   79.8750   6.77490   79.8840   289.27  \n",
              "213286352   79.8723   6.55091   79.9706  1912.70  \n",
              "213293973   79.8478   6.90539   79.8989   394.00  \n",
              "213294622   79.9416   6.80401   79.9407   154.32  \n",
              "213298687   79.9130   6.98875   79.8914   147.47  "
            ]
          },
          "metadata": {
            "tags": []
          },
          "execution_count": 151
        }
      ]
    },
    {
      "cell_type": "code",
      "metadata": {
        "trusted": true,
        "id": "DUV0r6Kc0iVC",
        "colab_type": "code",
        "colab": {
          "base_uri": "https://localhost:8080/",
          "height": 339
        },
        "outputId": "6a7db4cd-bd85-4b16-b743-ec704b29ad8e"
      },
      "source": [
        "test_df['lat_change'] = abs(test_df['pick_lat']- test_df['drop_lat'])\n",
        "test_df['lon_change'] = abs(test_df['pick_lon']- test_df['drop_lon'])\n",
        "test_df.head()"
      ],
      "execution_count": 152,
      "outputs": [
        {
          "output_type": "execute_result",
          "data": {
            "text/html": [
              "<div>\n",
              "<style scoped>\n",
              "    .dataframe tbody tr th:only-of-type {\n",
              "        vertical-align: middle;\n",
              "    }\n",
              "\n",
              "    .dataframe tbody tr th {\n",
              "        vertical-align: top;\n",
              "    }\n",
              "\n",
              "    .dataframe thead th {\n",
              "        text-align: right;\n",
              "    }\n",
              "</style>\n",
              "<table border=\"1\" class=\"dataframe\">\n",
              "  <thead>\n",
              "    <tr style=\"text-align: right;\">\n",
              "      <th></th>\n",
              "      <th>additional_fare</th>\n",
              "      <th>duration</th>\n",
              "      <th>meter_waiting</th>\n",
              "      <th>meter_waiting_fare</th>\n",
              "      <th>meter_waiting_till_pickup</th>\n",
              "      <th>pickup_time</th>\n",
              "      <th>drop_time</th>\n",
              "      <th>pick_lat</th>\n",
              "      <th>pick_lon</th>\n",
              "      <th>drop_lat</th>\n",
              "      <th>drop_lon</th>\n",
              "      <th>fare</th>\n",
              "      <th>lat_change</th>\n",
              "      <th>lon_change</th>\n",
              "    </tr>\n",
              "    <tr>\n",
              "      <th>tripid</th>\n",
              "      <th></th>\n",
              "      <th></th>\n",
              "      <th></th>\n",
              "      <th></th>\n",
              "      <th></th>\n",
              "      <th></th>\n",
              "      <th></th>\n",
              "      <th></th>\n",
              "      <th></th>\n",
              "      <th></th>\n",
              "      <th></th>\n",
              "      <th></th>\n",
              "      <th></th>\n",
              "      <th></th>\n",
              "    </tr>\n",
              "  </thead>\n",
              "  <tbody>\n",
              "    <tr>\n",
              "      <th>213284604</th>\n",
              "      <td>10.5</td>\n",
              "      <td>924</td>\n",
              "      <td>42</td>\n",
              "      <td>2.4486</td>\n",
              "      <td>148</td>\n",
              "      <td>2/1/2020 0:38</td>\n",
              "      <td>2/1/2020 0:53</td>\n",
              "      <td>6.83454</td>\n",
              "      <td>79.8750</td>\n",
              "      <td>6.77490</td>\n",
              "      <td>79.8840</td>\n",
              "      <td>289.27</td>\n",
              "      <td>0.05964</td>\n",
              "      <td>0.0090</td>\n",
              "    </tr>\n",
              "    <tr>\n",
              "      <th>213286352</th>\n",
              "      <td>10.5</td>\n",
              "      <td>4249</td>\n",
              "      <td>20</td>\n",
              "      <td>0.0000</td>\n",
              "      <td>91</td>\n",
              "      <td>2/1/2020 1:02</td>\n",
              "      <td>2/1/2020 2:13</td>\n",
              "      <td>6.91168</td>\n",
              "      <td>79.8723</td>\n",
              "      <td>6.55091</td>\n",
              "      <td>79.9706</td>\n",
              "      <td>1912.70</td>\n",
              "      <td>0.36077</td>\n",
              "      <td>0.0983</td>\n",
              "    </tr>\n",
              "    <tr>\n",
              "      <th>213293973</th>\n",
              "      <td>10.5</td>\n",
              "      <td>1552</td>\n",
              "      <td>255</td>\n",
              "      <td>2.6588</td>\n",
              "      <td>23</td>\n",
              "      <td>2/1/2020 5:02</td>\n",
              "      <td>2/1/2020 5:28</td>\n",
              "      <td>6.92145</td>\n",
              "      <td>79.8478</td>\n",
              "      <td>6.90539</td>\n",
              "      <td>79.8989</td>\n",
              "      <td>394.00</td>\n",
              "      <td>0.01606</td>\n",
              "      <td>0.0511</td>\n",
              "    </tr>\n",
              "    <tr>\n",
              "      <th>213294622</th>\n",
              "      <td>10.5</td>\n",
              "      <td>462</td>\n",
              "      <td>16</td>\n",
              "      <td>0.0000</td>\n",
              "      <td>198</td>\n",
              "      <td>2/1/2020 5:30</td>\n",
              "      <td>2/1/2020 5:38</td>\n",
              "      <td>6.77433</td>\n",
              "      <td>79.9416</td>\n",
              "      <td>6.80401</td>\n",
              "      <td>79.9407</td>\n",
              "      <td>154.32</td>\n",
              "      <td>0.02968</td>\n",
              "      <td>0.0009</td>\n",
              "    </tr>\n",
              "    <tr>\n",
              "      <th>213298687</th>\n",
              "      <td>10.5</td>\n",
              "      <td>814</td>\n",
              "      <td>392</td>\n",
              "      <td>12.3692</td>\n",
              "      <td>69</td>\n",
              "      <td>2/1/2020 7:00</td>\n",
              "      <td>2/1/2020 7:14</td>\n",
              "      <td>6.97968</td>\n",
              "      <td>79.9130</td>\n",
              "      <td>6.98875</td>\n",
              "      <td>79.8914</td>\n",
              "      <td>147.47</td>\n",
              "      <td>0.00907</td>\n",
              "      <td>0.0216</td>\n",
              "    </tr>\n",
              "  </tbody>\n",
              "</table>\n",
              "</div>"
            ],
            "text/plain": [
              "           additional_fare  duration  meter_waiting  meter_waiting_fare  \\\n",
              "tripid                                                                    \n",
              "213284604             10.5       924             42              2.4486   \n",
              "213286352             10.5      4249             20              0.0000   \n",
              "213293973             10.5      1552            255              2.6588   \n",
              "213294622             10.5       462             16              0.0000   \n",
              "213298687             10.5       814            392             12.3692   \n",
              "\n",
              "           meter_waiting_till_pickup    pickup_time      drop_time  pick_lat  \\\n",
              "tripid                                                                         \n",
              "213284604                        148  2/1/2020 0:38  2/1/2020 0:53   6.83454   \n",
              "213286352                         91  2/1/2020 1:02  2/1/2020 2:13   6.91168   \n",
              "213293973                         23  2/1/2020 5:02  2/1/2020 5:28   6.92145   \n",
              "213294622                        198  2/1/2020 5:30  2/1/2020 5:38   6.77433   \n",
              "213298687                         69  2/1/2020 7:00  2/1/2020 7:14   6.97968   \n",
              "\n",
              "           pick_lon  drop_lat  drop_lon     fare  lat_change  lon_change  \n",
              "tripid                                                                    \n",
              "213284604   79.8750   6.77490   79.8840   289.27     0.05964      0.0090  \n",
              "213286352   79.8723   6.55091   79.9706  1912.70     0.36077      0.0983  \n",
              "213293973   79.8478   6.90539   79.8989   394.00     0.01606      0.0511  \n",
              "213294622   79.9416   6.80401   79.9407   154.32     0.02968      0.0009  \n",
              "213298687   79.9130   6.98875   79.8914   147.47     0.00907      0.0216  "
            ]
          },
          "metadata": {
            "tags": []
          },
          "execution_count": 152
        }
      ]
    },
    {
      "cell_type": "code",
      "metadata": {
        "id": "9wusaw2E6WMw",
        "colab_type": "code",
        "colab": {}
      },
      "source": [
        "test_df['distance'] = haversine_np(test_df['pick_lat'], test_df['pick_lon'], test_df['drop_lat'] , test_df['drop_lon'])"
      ],
      "execution_count": 153,
      "outputs": []
    },
    {
      "cell_type": "code",
      "metadata": {
        "trusted": true,
        "id": "-nOZP2hK0iVF",
        "colab_type": "code",
        "colab": {
          "base_uri": "https://localhost:8080/",
          "height": 191
        },
        "outputId": "c5199321-f578-4278-f5fc-35cf32b94b27"
      },
      "source": [
        "test_df2 = test_df.drop(['pickup_time','drop_time','pick_lat','pick_lon','drop_lat','drop_lon'],axis='columns')\n",
        "\n",
        "test_df2.isnull().sum()"
      ],
      "execution_count": 154,
      "outputs": [
        {
          "output_type": "execute_result",
          "data": {
            "text/plain": [
              "additional_fare              0\n",
              "duration                     0\n",
              "meter_waiting                0\n",
              "meter_waiting_fare           0\n",
              "meter_waiting_till_pickup    0\n",
              "fare                         0\n",
              "lat_change                   0\n",
              "lon_change                   0\n",
              "distance                     0\n",
              "dtype: int64"
            ]
          },
          "metadata": {
            "tags": []
          },
          "execution_count": 154
        }
      ]
    },
    {
      "cell_type": "code",
      "metadata": {
        "trusted": true,
        "id": "wf-qO8Ra0iVK",
        "colab_type": "code",
        "colab": {}
      },
      "source": [
        "result = pipeline.predict(test_df2)\n",
        "test_df2['prediction'] = result"
      ],
      "execution_count": 156,
      "outputs": []
    },
    {
      "cell_type": "code",
      "metadata": {
        "trusted": true,
        "id": "EHHz4Bun0iVM",
        "colab_type": "code",
        "colab": {
          "base_uri": "https://localhost:8080/",
          "height": 173
        },
        "outputId": "4dd5a206-7e2d-4977-ea7d-44d053f16c77"
      },
      "source": [
        "final_df = test_df2.drop(['additional_fare','duration','meter_waiting_till_pickup','fare','lat_change','lon_change','meter_waiting','meter_waiting_fare'],axis='columns')\n",
        "\n",
        "final_df.head()\n",
        "final_df.info()"
      ],
      "execution_count": 157,
      "outputs": [
        {
          "output_type": "stream",
          "text": [
            "<class 'pandas.core.frame.DataFrame'>\n",
            "Int64Index: 8576 entries, 213284604 to 222860703\n",
            "Data columns (total 2 columns):\n",
            " #   Column      Non-Null Count  Dtype  \n",
            "---  ------      --------------  -----  \n",
            " 0   distance    8576 non-null   float64\n",
            " 1   prediction  8576 non-null   int64  \n",
            "dtypes: float64(1), int64(1)\n",
            "memory usage: 201.0 KB\n"
          ],
          "name": "stdout"
        }
      ]
    },
    {
      "cell_type": "code",
      "metadata": {
        "trusted": true,
        "id": "uehAXwMt0iVS",
        "colab_type": "code",
        "colab": {}
      },
      "source": [
        "final_df.to_csv('submission.csv', index=True)"
      ],
      "execution_count": null,
      "outputs": []
    }
  ]
}