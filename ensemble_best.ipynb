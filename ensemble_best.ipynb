{
  "nbformat": 4,
  "nbformat_minor": 0,
  "metadata": {
    "colab": {
      "name": "ensemble_best.ipynb",
      "provenance": []
    },
    "kernelspec": {
      "name": "python3",
      "display_name": "Python 3"
    }
  },
  "cells": [
    {
      "cell_type": "code",
      "metadata": {
        "id": "IO_VZh_7TOXK",
        "colab_type": "code",
        "colab": {
          "base_uri": "https://localhost:8080/",
          "height": 124
        },
        "outputId": "b042b277-461e-4cf1-af6c-5b98c202b561"
      },
      "source": [
        "from pathlib import Path\n",
        "\n",
        "import numpy as np\n",
        "import pandas as pd\n",
        "\n",
        "\n",
        "pd.set_option(\"display.max_columns\", 100)\n",
        "\n",
        "from google.colab import drive\n",
        "drive.mount('/content/gdrive')\n",
        "DATA_PATH = \"/content/gdrive/My Drive/MLdata/\"\n",
        "\n",
        "train_df = pd.read_csv(\n",
        "    DATA_PATH + \"train.csv\", \n",
        "    index_col=\"tripid\"\n",
        ")\n",
        "test_df = pd.read_csv(\n",
        "    DATA_PATH + \"test.csv\", \n",
        "    index_col=\"tripid\"\n",
        ")\n"
      ],
      "execution_count": 1,
      "outputs": [
        {
          "output_type": "stream",
          "text": [
            "Go to this URL in a browser: https://accounts.google.com/o/oauth2/auth?client_id=947318989803-6bn6qk8qdgf4n4g3pfee6491hc0brc4i.apps.googleusercontent.com&redirect_uri=urn%3aietf%3awg%3aoauth%3a2.0%3aoob&response_type=code&scope=email%20https%3a%2f%2fwww.googleapis.com%2fauth%2fdocs.test%20https%3a%2f%2fwww.googleapis.com%2fauth%2fdrive%20https%3a%2f%2fwww.googleapis.com%2fauth%2fdrive.photos.readonly%20https%3a%2f%2fwww.googleapis.com%2fauth%2fpeopleapi.readonly\n",
            "\n",
            "Enter your authorization code:\n",
            "··········\n",
            "Mounted at /content/gdrive\n"
          ],
          "name": "stdout"
        }
      ]
    },
    {
      "cell_type": "code",
      "metadata": {
        "id": "_RrGmPdST1aA",
        "colab_type": "code",
        "colab": {}
      },
      "source": [
        "train_df[\"label\"] = train_df[\"label\"].map({\"incorrect\": 0, \"correct\":1})"
      ],
      "execution_count": 2,
      "outputs": []
    },
    {
      "cell_type": "code",
      "metadata": {
        "id": "8wfBFMh4T7sx",
        "colab_type": "code",
        "colab": {
          "base_uri": "https://localhost:8080/",
          "height": 416
        },
        "outputId": "151020cb-0aa0-471f-f4fe-3b9b3256d85d"
      },
      "source": [
        "train_df[\"pickup\"] = pd.to_datetime(train_df[\"pickup_time\"])\n",
        "train_df[\"drop\"] = pd.to_datetime(train_df[\"drop_time\"])\n",
        "train_df ['difference'] = train_df[\"drop\"] - train_df[\"pickup\"]\n",
        "train_df ['difference'] = train_df ['difference']/np.timedelta64(1,'s')\n",
        "train_df['duration'] = train_df['duration'].fillna(train_df ['difference'])\n",
        "train_df.info()"
      ],
      "execution_count": 3,
      "outputs": [
        {
          "output_type": "stream",
          "text": [
            "<class 'pandas.core.frame.DataFrame'>\n",
            "Int64Index: 17176 entries, 189123628 to 213817296\n",
            "Data columns (total 16 columns):\n",
            " #   Column                     Non-Null Count  Dtype         \n",
            "---  ------                     --------------  -----         \n",
            " 0   additional_fare            16974 non-null  float64       \n",
            " 1   duration                   17176 non-null  float64       \n",
            " 2   meter_waiting              16974 non-null  float64       \n",
            " 3   meter_waiting_fare         16974 non-null  float64       \n",
            " 4   meter_waiting_till_pickup  16974 non-null  float64       \n",
            " 5   pickup_time                17176 non-null  object        \n",
            " 6   drop_time                  17176 non-null  object        \n",
            " 7   pick_lat                   17176 non-null  float64       \n",
            " 8   pick_lon                   17176 non-null  float64       \n",
            " 9   drop_lat                   17176 non-null  float64       \n",
            " 10  drop_lon                   17176 non-null  float64       \n",
            " 11  fare                       17039 non-null  float64       \n",
            " 12  label                      17176 non-null  int64         \n",
            " 13  pickup                     17176 non-null  datetime64[ns]\n",
            " 14  drop                       17176 non-null  datetime64[ns]\n",
            " 15  difference                 17176 non-null  float64       \n",
            "dtypes: datetime64[ns](2), float64(11), int64(1), object(2)\n",
            "memory usage: 2.2+ MB\n"
          ],
          "name": "stdout"
        }
      ]
    },
    {
      "cell_type": "code",
      "metadata": {
        "id": "I83gTiITUVvm",
        "colab_type": "code",
        "colab": {
          "base_uri": "https://localhost:8080/",
          "height": 426
        },
        "outputId": "57aa32f6-13f2-4ae8-96f4-d7838aef1421"
      },
      "source": [
        "train_df.head()\n",
        "\n",
        "# new_df = train_df[\"pickup_time\"]-train_df[\"drop_time\"]\n",
        "# train_df.info()\n",
        "# train_df.head()\n",
        "train_df.isnull().sum()\n",
        "train_df.head()"
      ],
      "execution_count": 4,
      "outputs": [
        {
          "output_type": "execute_result",
          "data": {
            "text/html": [
              "<div>\n",
              "<style scoped>\n",
              "    .dataframe tbody tr th:only-of-type {\n",
              "        vertical-align: middle;\n",
              "    }\n",
              "\n",
              "    .dataframe tbody tr th {\n",
              "        vertical-align: top;\n",
              "    }\n",
              "\n",
              "    .dataframe thead th {\n",
              "        text-align: right;\n",
              "    }\n",
              "</style>\n",
              "<table border=\"1\" class=\"dataframe\">\n",
              "  <thead>\n",
              "    <tr style=\"text-align: right;\">\n",
              "      <th></th>\n",
              "      <th>additional_fare</th>\n",
              "      <th>duration</th>\n",
              "      <th>meter_waiting</th>\n",
              "      <th>meter_waiting_fare</th>\n",
              "      <th>meter_waiting_till_pickup</th>\n",
              "      <th>pickup_time</th>\n",
              "      <th>drop_time</th>\n",
              "      <th>pick_lat</th>\n",
              "      <th>pick_lon</th>\n",
              "      <th>drop_lat</th>\n",
              "      <th>drop_lon</th>\n",
              "      <th>fare</th>\n",
              "      <th>label</th>\n",
              "      <th>pickup</th>\n",
              "      <th>drop</th>\n",
              "      <th>difference</th>\n",
              "    </tr>\n",
              "    <tr>\n",
              "      <th>tripid</th>\n",
              "      <th></th>\n",
              "      <th></th>\n",
              "      <th></th>\n",
              "      <th></th>\n",
              "      <th></th>\n",
              "      <th></th>\n",
              "      <th></th>\n",
              "      <th></th>\n",
              "      <th></th>\n",
              "      <th></th>\n",
              "      <th></th>\n",
              "      <th></th>\n",
              "      <th></th>\n",
              "      <th></th>\n",
              "      <th></th>\n",
              "      <th></th>\n",
              "    </tr>\n",
              "  </thead>\n",
              "  <tbody>\n",
              "    <tr>\n",
              "      <th>189123628</th>\n",
              "      <td>10.5</td>\n",
              "      <td>834.0</td>\n",
              "      <td>56.0</td>\n",
              "      <td>0.0000</td>\n",
              "      <td>64.0</td>\n",
              "      <td>11/1/2019 0:20</td>\n",
              "      <td>11/1/2019 0:34</td>\n",
              "      <td>6.86252</td>\n",
              "      <td>79.8993</td>\n",
              "      <td>6.90330</td>\n",
              "      <td>79.8783</td>\n",
              "      <td>270.32</td>\n",
              "      <td>1</td>\n",
              "      <td>2019-11-01 00:20:00</td>\n",
              "      <td>2019-11-01 00:34:00</td>\n",
              "      <td>840.0</td>\n",
              "    </tr>\n",
              "    <tr>\n",
              "      <th>189125358</th>\n",
              "      <td>10.5</td>\n",
              "      <td>791.0</td>\n",
              "      <td>47.0</td>\n",
              "      <td>0.0000</td>\n",
              "      <td>134.0</td>\n",
              "      <td>11/1/2019 0:56</td>\n",
              "      <td>11/1/2019 1:09</td>\n",
              "      <td>6.88589</td>\n",
              "      <td>79.8984</td>\n",
              "      <td>6.91373</td>\n",
              "      <td>79.8923</td>\n",
              "      <td>197.85</td>\n",
              "      <td>1</td>\n",
              "      <td>2019-11-01 00:56:00</td>\n",
              "      <td>2019-11-01 01:09:00</td>\n",
              "      <td>780.0</td>\n",
              "    </tr>\n",
              "    <tr>\n",
              "      <th>189125719</th>\n",
              "      <td>10.5</td>\n",
              "      <td>1087.0</td>\n",
              "      <td>80.0</td>\n",
              "      <td>0.0000</td>\n",
              "      <td>61.0</td>\n",
              "      <td>11/1/2019 1:08</td>\n",
              "      <td>11/1/2019 1:26</td>\n",
              "      <td>6.90839</td>\n",
              "      <td>79.8651</td>\n",
              "      <td>6.93669</td>\n",
              "      <td>79.9146</td>\n",
              "      <td>301.64</td>\n",
              "      <td>1</td>\n",
              "      <td>2019-11-01 01:08:00</td>\n",
              "      <td>2019-11-01 01:26:00</td>\n",
              "      <td>1080.0</td>\n",
              "    </tr>\n",
              "    <tr>\n",
              "      <th>189127273</th>\n",
              "      <td>10.5</td>\n",
              "      <td>598.0</td>\n",
              "      <td>271.0</td>\n",
              "      <td>15.6638</td>\n",
              "      <td>68.0</td>\n",
              "      <td>11/1/2019 2:27</td>\n",
              "      <td>11/1/2019 2:37</td>\n",
              "      <td>6.92570</td>\n",
              "      <td>79.8895</td>\n",
              "      <td>6.92748</td>\n",
              "      <td>79.8971</td>\n",
              "      <td>82.30</td>\n",
              "      <td>1</td>\n",
              "      <td>2019-11-01 02:27:00</td>\n",
              "      <td>2019-11-01 02:37:00</td>\n",
              "      <td>600.0</td>\n",
              "    </tr>\n",
              "    <tr>\n",
              "      <th>189128020</th>\n",
              "      <td>NaN</td>\n",
              "      <td>1020.0</td>\n",
              "      <td>NaN</td>\n",
              "      <td>NaN</td>\n",
              "      <td>NaN</td>\n",
              "      <td>11/1/2019 3:34</td>\n",
              "      <td>11/1/2019 3:51</td>\n",
              "      <td>6.87441</td>\n",
              "      <td>79.8615</td>\n",
              "      <td>6.84478</td>\n",
              "      <td>79.9290</td>\n",
              "      <td>358.39</td>\n",
              "      <td>1</td>\n",
              "      <td>2019-11-01 03:34:00</td>\n",
              "      <td>2019-11-01 03:51:00</td>\n",
              "      <td>1020.0</td>\n",
              "    </tr>\n",
              "  </tbody>\n",
              "</table>\n",
              "</div>"
            ],
            "text/plain": [
              "           additional_fare  duration  meter_waiting  meter_waiting_fare  \\\n",
              "tripid                                                                    \n",
              "189123628             10.5     834.0           56.0              0.0000   \n",
              "189125358             10.5     791.0           47.0              0.0000   \n",
              "189125719             10.5    1087.0           80.0              0.0000   \n",
              "189127273             10.5     598.0          271.0             15.6638   \n",
              "189128020              NaN    1020.0            NaN                 NaN   \n",
              "\n",
              "           meter_waiting_till_pickup     pickup_time       drop_time  \\\n",
              "tripid                                                                 \n",
              "189123628                       64.0  11/1/2019 0:20  11/1/2019 0:34   \n",
              "189125358                      134.0  11/1/2019 0:56  11/1/2019 1:09   \n",
              "189125719                       61.0  11/1/2019 1:08  11/1/2019 1:26   \n",
              "189127273                       68.0  11/1/2019 2:27  11/1/2019 2:37   \n",
              "189128020                        NaN  11/1/2019 3:34  11/1/2019 3:51   \n",
              "\n",
              "           pick_lat  pick_lon  drop_lat  drop_lon    fare  label  \\\n",
              "tripid                                                             \n",
              "189123628   6.86252   79.8993   6.90330   79.8783  270.32      1   \n",
              "189125358   6.88589   79.8984   6.91373   79.8923  197.85      1   \n",
              "189125719   6.90839   79.8651   6.93669   79.9146  301.64      1   \n",
              "189127273   6.92570   79.8895   6.92748   79.8971   82.30      1   \n",
              "189128020   6.87441   79.8615   6.84478   79.9290  358.39      1   \n",
              "\n",
              "                       pickup                drop  difference  \n",
              "tripid                                                         \n",
              "189123628 2019-11-01 00:20:00 2019-11-01 00:34:00       840.0  \n",
              "189125358 2019-11-01 00:56:00 2019-11-01 01:09:00       780.0  \n",
              "189125719 2019-11-01 01:08:00 2019-11-01 01:26:00      1080.0  \n",
              "189127273 2019-11-01 02:27:00 2019-11-01 02:37:00       600.0  \n",
              "189128020 2019-11-01 03:34:00 2019-11-01 03:51:00      1020.0  "
            ]
          },
          "metadata": {
            "tags": []
          },
          "execution_count": 4
        }
      ]
    },
    {
      "cell_type": "code",
      "metadata": {
        "id": "L7W3KdRcUZkm",
        "colab_type": "code",
        "colab": {
          "base_uri": "https://localhost:8080/",
          "height": 225
        },
        "outputId": "707d9427-b8ec-406e-b7a6-ca1a14b60d7a"
      },
      "source": [
        "train_df2 = train_df.drop(['pickup_time','drop_time','pickup','drop','difference'],axis='columns')\n",
        "train_df2.isnull().sum()"
      ],
      "execution_count": 5,
      "outputs": [
        {
          "output_type": "execute_result",
          "data": {
            "text/plain": [
              "additional_fare              202\n",
              "duration                       0\n",
              "meter_waiting                202\n",
              "meter_waiting_fare           202\n",
              "meter_waiting_till_pickup    202\n",
              "pick_lat                       0\n",
              "pick_lon                       0\n",
              "drop_lat                       0\n",
              "drop_lon                       0\n",
              "fare                         137\n",
              "label                          0\n",
              "dtype: int64"
            ]
          },
          "metadata": {
            "tags": []
          },
          "execution_count": 5
        }
      ]
    },
    {
      "cell_type": "code",
      "metadata": {
        "id": "GDwq6T6UllNa",
        "colab_type": "code",
        "colab": {}
      },
      "source": [
        "train_df2= train_df2.dropna()"
      ],
      "execution_count": null,
      "outputs": []
    },
    {
      "cell_type": "code",
      "metadata": {
        "id": "RfbFI92Clopd",
        "colab_type": "code",
        "colab": {}
      },
      "source": [
        "from math import radians, cos, sin, asin, sqrt\n",
        "import numpy as np\n",
        "\n",
        "def haversine_np(lon1, lat1, lon2, lat2):\n",
        "    \"\"\"\n",
        "    Calculate the great circle distance between two points\n",
        "    on the earth (specified in decimal degrees)\n",
        "\n",
        "    All args must be of equal length.    \n",
        "\n",
        "    \"\"\"\n",
        "    lon1, lat1, lon2, lat2 = map(np.radians, [lon1, lat1, lon2, lat2])\n",
        "\n",
        "    dlon = lon2 - lon1\n",
        "    dlat = lat2 - lat1\n",
        "\n",
        "    a = np.sin(dlat/2.0)**2 + np.cos(lat1) * np.cos(lat2) * np.sin(dlon/2.0)**2\n",
        "\n",
        "    c = 2 * np.arcsin(np.sqrt(a))\n",
        "    km = 6371 * c  # 6371 is Radius of earth in kilometers. Use 3956 for miles\n",
        "    return km\n",
        "\n",
        "train_df2['distance'] = haversine_np(train_df2['pick_lat'], train_df2['pick_lon'], train_df2['drop_lat'] , train_df2['drop_lon'])"
      ],
      "execution_count": 6,
      "outputs": []
    },
    {
      "cell_type": "code",
      "metadata": {
        "id": "oyvToP4DCDEJ",
        "colab_type": "code",
        "colab": {}
      },
      "source": [
        "train_df2['distance_per_fare'] = train_df2['distance']/train_df2['fare']\n",
        "train_df2.loc[~np.isfinite(train_df2['distance_per_fare'] ), 'distance_per_fare'] = 0"
      ],
      "execution_count": 8,
      "outputs": []
    },
    {
      "cell_type": "code",
      "metadata": {
        "id": "hIfjWAydJyiR",
        "colab_type": "code",
        "colab": {}
      },
      "source": [
        "train_df2['absoluteduration_per_fare'] = (train_df2['duration']- train_df2['meter_waiting'])/train_df2['fare']\n",
        "train_df2.loc[~np.isfinite(train_df2['absoluteduration_per_fare'] ), 'absoluteduration_per_fare'] = 0"
      ],
      "execution_count": 9,
      "outputs": []
    },
    {
      "cell_type": "code",
      "metadata": {
        "id": "C-S_18culrLI",
        "colab_type": "code",
        "colab": {}
      },
      "source": [
        "clean_df = train_df2.drop(['pick_lat','pick_lon','drop_lat','drop_lon'],axis='columns')"
      ],
      "execution_count": 10,
      "outputs": []
    },
    {
      "cell_type": "code",
      "metadata": {
        "id": "dVmKN3jcltZM",
        "colab_type": "code",
        "colab": {
          "base_uri": "https://localhost:8080/",
          "height": 329
        },
        "outputId": "674c3559-b2f1-4ccf-b4f2-d27e950ce351"
      },
      "source": [
        "\n",
        "clean_df.info()"
      ],
      "execution_count": 11,
      "outputs": [
        {
          "output_type": "stream",
          "text": [
            "<class 'pandas.core.frame.DataFrame'>\n",
            "Int64Index: 17176 entries, 189123628 to 213817296\n",
            "Data columns (total 11 columns):\n",
            " #   Column                     Non-Null Count  Dtype  \n",
            "---  ------                     --------------  -----  \n",
            " 0   additional_fare            16974 non-null  float64\n",
            " 1   duration                   17176 non-null  float64\n",
            " 2   meter_waiting              16974 non-null  float64\n",
            " 3   meter_waiting_fare         16974 non-null  float64\n",
            " 4   meter_waiting_till_pickup  16974 non-null  float64\n",
            " 5   fare                       17039 non-null  float64\n",
            " 6   label                      17176 non-null  int64  \n",
            " 7   distance                   17176 non-null  float64\n",
            " 8   feature1                   17176 non-null  float64\n",
            " 9   distance_per_fare          17176 non-null  float64\n",
            " 10  absoluteduration_per_fare  17176 non-null  float64\n",
            "dtypes: float64(10), int64(1)\n",
            "memory usage: 1.6 MB\n"
          ],
          "name": "stdout"
        }
      ]
    },
    {
      "cell_type": "code",
      "metadata": {
        "id": "4XoPrOtzlyBM",
        "colab_type": "code",
        "colab": {
          "base_uri": "https://localhost:8080/",
          "height": 253
        },
        "outputId": "d46ca10a-9227-4450-d9a0-f9beeda209d7"
      },
      "source": [
        "clean_df.head()"
      ],
      "execution_count": 12,
      "outputs": [
        {
          "output_type": "execute_result",
          "data": {
            "text/html": [
              "<div>\n",
              "<style scoped>\n",
              "    .dataframe tbody tr th:only-of-type {\n",
              "        vertical-align: middle;\n",
              "    }\n",
              "\n",
              "    .dataframe tbody tr th {\n",
              "        vertical-align: top;\n",
              "    }\n",
              "\n",
              "    .dataframe thead th {\n",
              "        text-align: right;\n",
              "    }\n",
              "</style>\n",
              "<table border=\"1\" class=\"dataframe\">\n",
              "  <thead>\n",
              "    <tr style=\"text-align: right;\">\n",
              "      <th></th>\n",
              "      <th>additional_fare</th>\n",
              "      <th>duration</th>\n",
              "      <th>meter_waiting</th>\n",
              "      <th>meter_waiting_fare</th>\n",
              "      <th>meter_waiting_till_pickup</th>\n",
              "      <th>fare</th>\n",
              "      <th>label</th>\n",
              "      <th>distance</th>\n",
              "      <th>feature1</th>\n",
              "      <th>distance_per_fare</th>\n",
              "      <th>absoluteduration_per_fare</th>\n",
              "    </tr>\n",
              "    <tr>\n",
              "      <th>tripid</th>\n",
              "      <th></th>\n",
              "      <th></th>\n",
              "      <th></th>\n",
              "      <th></th>\n",
              "      <th></th>\n",
              "      <th></th>\n",
              "      <th></th>\n",
              "      <th></th>\n",
              "      <th></th>\n",
              "      <th></th>\n",
              "      <th></th>\n",
              "    </tr>\n",
              "  </thead>\n",
              "  <tbody>\n",
              "    <tr>\n",
              "      <th>189123628</th>\n",
              "      <td>10.5</td>\n",
              "      <td>834.0</td>\n",
              "      <td>56.0</td>\n",
              "      <td>0.0000</td>\n",
              "      <td>64.0</td>\n",
              "      <td>270.32</td>\n",
              "      <td>1</td>\n",
              "      <td>2.467063</td>\n",
              "      <td>0.009126</td>\n",
              "      <td>0.009126</td>\n",
              "      <td>2.878070</td>\n",
              "    </tr>\n",
              "    <tr>\n",
              "      <th>189125358</th>\n",
              "      <td>10.5</td>\n",
              "      <td>791.0</td>\n",
              "      <td>47.0</td>\n",
              "      <td>0.0000</td>\n",
              "      <td>134.0</td>\n",
              "      <td>197.85</td>\n",
              "      <td>1</td>\n",
              "      <td>0.868942</td>\n",
              "      <td>0.004392</td>\n",
              "      <td>0.004392</td>\n",
              "      <td>3.760425</td>\n",
              "    </tr>\n",
              "    <tr>\n",
              "      <th>189125719</th>\n",
              "      <td>10.5</td>\n",
              "      <td>1087.0</td>\n",
              "      <td>80.0</td>\n",
              "      <td>0.0000</td>\n",
              "      <td>61.0</td>\n",
              "      <td>301.64</td>\n",
              "      <td>1</td>\n",
              "      <td>5.531798</td>\n",
              "      <td>0.018339</td>\n",
              "      <td>0.018339</td>\n",
              "      <td>3.338417</td>\n",
              "    </tr>\n",
              "    <tr>\n",
              "      <th>189127273</th>\n",
              "      <td>10.5</td>\n",
              "      <td>598.0</td>\n",
              "      <td>271.0</td>\n",
              "      <td>15.6638</td>\n",
              "      <td>68.0</td>\n",
              "      <td>82.30</td>\n",
              "      <td>1</td>\n",
              "      <td>0.845795</td>\n",
              "      <td>0.010277</td>\n",
              "      <td>0.010277</td>\n",
              "      <td>3.973269</td>\n",
              "    </tr>\n",
              "    <tr>\n",
              "      <th>189128020</th>\n",
              "      <td>NaN</td>\n",
              "      <td>1020.0</td>\n",
              "      <td>NaN</td>\n",
              "      <td>NaN</td>\n",
              "      <td>NaN</td>\n",
              "      <td>358.39</td>\n",
              "      <td>1</td>\n",
              "      <td>7.527884</td>\n",
              "      <td>0.021005</td>\n",
              "      <td>0.021005</td>\n",
              "      <td>0.000000</td>\n",
              "    </tr>\n",
              "  </tbody>\n",
              "</table>\n",
              "</div>"
            ],
            "text/plain": [
              "           additional_fare  duration  meter_waiting  meter_waiting_fare  \\\n",
              "tripid                                                                    \n",
              "189123628             10.5     834.0           56.0              0.0000   \n",
              "189125358             10.5     791.0           47.0              0.0000   \n",
              "189125719             10.5    1087.0           80.0              0.0000   \n",
              "189127273             10.5     598.0          271.0             15.6638   \n",
              "189128020              NaN    1020.0            NaN                 NaN   \n",
              "\n",
              "           meter_waiting_till_pickup    fare  label  distance  feature1  \\\n",
              "tripid                                                                    \n",
              "189123628                       64.0  270.32      1  2.467063  0.009126   \n",
              "189125358                      134.0  197.85      1  0.868942  0.004392   \n",
              "189125719                       61.0  301.64      1  5.531798  0.018339   \n",
              "189127273                       68.0   82.30      1  0.845795  0.010277   \n",
              "189128020                        NaN  358.39      1  7.527884  0.021005   \n",
              "\n",
              "           distance_per_fare  absoluteduration_per_fare  \n",
              "tripid                                                   \n",
              "189123628           0.009126                   2.878070  \n",
              "189125358           0.004392                   3.760425  \n",
              "189125719           0.018339                   3.338417  \n",
              "189127273           0.010277                   3.973269  \n",
              "189128020           0.021005                   0.000000  "
            ]
          },
          "metadata": {
            "tags": []
          },
          "execution_count": 12
        }
      ]
    },
    {
      "cell_type": "code",
      "metadata": {
        "id": "ufiW_wSml3-4",
        "colab_type": "code",
        "colab": {}
      },
      "source": [
        "clean_df = clean_df.drop(['meter_waiting_till_pickup','meter_waiting'],axis='columns')"
      ],
      "execution_count": 13,
      "outputs": []
    },
    {
      "cell_type": "code",
      "metadata": {
        "id": "GMODYL2YJaMS",
        "colab_type": "code",
        "colab": {
          "base_uri": "https://localhost:8080/",
          "height": 693
        },
        "outputId": "0ca11179-d067-4fca-c946-c3fb69f28e3c"
      },
      "source": [
        "clean_df.head(20)"
      ],
      "execution_count": 14,
      "outputs": [
        {
          "output_type": "execute_result",
          "data": {
            "text/html": [
              "<div>\n",
              "<style scoped>\n",
              "    .dataframe tbody tr th:only-of-type {\n",
              "        vertical-align: middle;\n",
              "    }\n",
              "\n",
              "    .dataframe tbody tr th {\n",
              "        vertical-align: top;\n",
              "    }\n",
              "\n",
              "    .dataframe thead th {\n",
              "        text-align: right;\n",
              "    }\n",
              "</style>\n",
              "<table border=\"1\" class=\"dataframe\">\n",
              "  <thead>\n",
              "    <tr style=\"text-align: right;\">\n",
              "      <th></th>\n",
              "      <th>additional_fare</th>\n",
              "      <th>duration</th>\n",
              "      <th>meter_waiting_fare</th>\n",
              "      <th>fare</th>\n",
              "      <th>label</th>\n",
              "      <th>distance</th>\n",
              "      <th>feature1</th>\n",
              "      <th>distance_per_fare</th>\n",
              "      <th>absoluteduration_per_fare</th>\n",
              "    </tr>\n",
              "    <tr>\n",
              "      <th>tripid</th>\n",
              "      <th></th>\n",
              "      <th></th>\n",
              "      <th></th>\n",
              "      <th></th>\n",
              "      <th></th>\n",
              "      <th></th>\n",
              "      <th></th>\n",
              "      <th></th>\n",
              "      <th></th>\n",
              "    </tr>\n",
              "  </thead>\n",
              "  <tbody>\n",
              "    <tr>\n",
              "      <th>189123628</th>\n",
              "      <td>10.5</td>\n",
              "      <td>834.0</td>\n",
              "      <td>0.000000</td>\n",
              "      <td>270.32</td>\n",
              "      <td>1</td>\n",
              "      <td>2.467063</td>\n",
              "      <td>0.009126</td>\n",
              "      <td>0.009126</td>\n",
              "      <td>2.878070</td>\n",
              "    </tr>\n",
              "    <tr>\n",
              "      <th>189125358</th>\n",
              "      <td>10.5</td>\n",
              "      <td>791.0</td>\n",
              "      <td>0.000000</td>\n",
              "      <td>197.85</td>\n",
              "      <td>1</td>\n",
              "      <td>0.868942</td>\n",
              "      <td>0.004392</td>\n",
              "      <td>0.004392</td>\n",
              "      <td>3.760425</td>\n",
              "    </tr>\n",
              "    <tr>\n",
              "      <th>189125719</th>\n",
              "      <td>10.5</td>\n",
              "      <td>1087.0</td>\n",
              "      <td>0.000000</td>\n",
              "      <td>301.64</td>\n",
              "      <td>1</td>\n",
              "      <td>5.531798</td>\n",
              "      <td>0.018339</td>\n",
              "      <td>0.018339</td>\n",
              "      <td>3.338417</td>\n",
              "    </tr>\n",
              "    <tr>\n",
              "      <th>189127273</th>\n",
              "      <td>10.5</td>\n",
              "      <td>598.0</td>\n",
              "      <td>15.663800</td>\n",
              "      <td>82.30</td>\n",
              "      <td>1</td>\n",
              "      <td>0.845795</td>\n",
              "      <td>0.010277</td>\n",
              "      <td>0.010277</td>\n",
              "      <td>3.973269</td>\n",
              "    </tr>\n",
              "    <tr>\n",
              "      <th>189128020</th>\n",
              "      <td>NaN</td>\n",
              "      <td>1020.0</td>\n",
              "      <td>NaN</td>\n",
              "      <td>358.39</td>\n",
              "      <td>1</td>\n",
              "      <td>7.527884</td>\n",
              "      <td>0.021005</td>\n",
              "      <td>0.021005</td>\n",
              "      <td>0.000000</td>\n",
              "    </tr>\n",
              "    <tr>\n",
              "      <th>189129552</th>\n",
              "      <td>10.5</td>\n",
              "      <td>3407.0</td>\n",
              "      <td>0.000000</td>\n",
              "      <td>1065.02</td>\n",
              "      <td>1</td>\n",
              "      <td>5.510397</td>\n",
              "      <td>0.005174</td>\n",
              "      <td>0.005174</td>\n",
              "      <td>3.028112</td>\n",
              "    </tr>\n",
              "    <tr>\n",
              "      <th>189132829</th>\n",
              "      <td>10.5</td>\n",
              "      <td>1246.0</td>\n",
              "      <td>0.000000</td>\n",
              "      <td>266.62</td>\n",
              "      <td>1</td>\n",
              "      <td>4.749980</td>\n",
              "      <td>0.017816</td>\n",
              "      <td>0.017816</td>\n",
              "      <td>2.846748</td>\n",
              "    </tr>\n",
              "    <tr>\n",
              "      <th>189135103</th>\n",
              "      <td>10.5</td>\n",
              "      <td>1333.0</td>\n",
              "      <td>17.198500</td>\n",
              "      <td>318.05</td>\n",
              "      <td>1</td>\n",
              "      <td>5.359651</td>\n",
              "      <td>0.016852</td>\n",
              "      <td>0.016852</td>\n",
              "      <td>3.263638</td>\n",
              "    </tr>\n",
              "    <tr>\n",
              "      <th>189139296</th>\n",
              "      <td>10.5</td>\n",
              "      <td>360.0</td>\n",
              "      <td>4.664000</td>\n",
              "      <td>100.32</td>\n",
              "      <td>1</td>\n",
              "      <td>0.679699</td>\n",
              "      <td>0.006775</td>\n",
              "      <td>0.006775</td>\n",
              "      <td>2.791069</td>\n",
              "    </tr>\n",
              "    <tr>\n",
              "      <th>189138671</th>\n",
              "      <td>10.5</td>\n",
              "      <td>1539.0</td>\n",
              "      <td>33.986400</td>\n",
              "      <td>257.89</td>\n",
              "      <td>1</td>\n",
              "      <td>2.925253</td>\n",
              "      <td>0.011343</td>\n",
              "      <td>0.011343</td>\n",
              "      <td>3.687619</td>\n",
              "    </tr>\n",
              "    <tr>\n",
              "      <th>189135814</th>\n",
              "      <td>10.5</td>\n",
              "      <td>26.0</td>\n",
              "      <td>0.000000</td>\n",
              "      <td>694.37</td>\n",
              "      <td>0</td>\n",
              "      <td>2.582168</td>\n",
              "      <td>0.003719</td>\n",
              "      <td>0.003719</td>\n",
              "      <td>0.010081</td>\n",
              "    </tr>\n",
              "    <tr>\n",
              "      <th>189140969</th>\n",
              "      <td>10.5</td>\n",
              "      <td>31.0</td>\n",
              "      <td>0.000000</td>\n",
              "      <td>235.59</td>\n",
              "      <td>0</td>\n",
              "      <td>4.515559</td>\n",
              "      <td>0.019167</td>\n",
              "      <td>0.019167</td>\n",
              "      <td>0.046691</td>\n",
              "    </tr>\n",
              "    <tr>\n",
              "      <th>189144528</th>\n",
              "      <td>10.5</td>\n",
              "      <td>2011.0</td>\n",
              "      <td>0.000000</td>\n",
              "      <td>452.39</td>\n",
              "      <td>1</td>\n",
              "      <td>7.755095</td>\n",
              "      <td>0.017142</td>\n",
              "      <td>0.017142</td>\n",
              "      <td>4.005394</td>\n",
              "    </tr>\n",
              "    <tr>\n",
              "      <th>189147041</th>\n",
              "      <td>10.5</td>\n",
              "      <td>1260.0</td>\n",
              "      <td>0.000000</td>\n",
              "      <td>111.21</td>\n",
              "      <td>0</td>\n",
              "      <td>1.446996</td>\n",
              "      <td>0.013011</td>\n",
              "      <td>0.013011</td>\n",
              "      <td>11.060156</td>\n",
              "    </tr>\n",
              "    <tr>\n",
              "      <th>189145904</th>\n",
              "      <td>10.5</td>\n",
              "      <td>335.0</td>\n",
              "      <td>0.583000</td>\n",
              "      <td>126.87</td>\n",
              "      <td>1</td>\n",
              "      <td>0.271923</td>\n",
              "      <td>0.002143</td>\n",
              "      <td>0.002143</td>\n",
              "      <td>2.561677</td>\n",
              "    </tr>\n",
              "    <tr>\n",
              "      <th>189146174</th>\n",
              "      <td>10.5</td>\n",
              "      <td>4221.0</td>\n",
              "      <td>84.214600</td>\n",
              "      <td>672.87</td>\n",
              "      <td>1</td>\n",
              "      <td>12.650333</td>\n",
              "      <td>0.018801</td>\n",
              "      <td>0.018801</td>\n",
              "      <td>3.883365</td>\n",
              "    </tr>\n",
              "    <tr>\n",
              "      <th>189150541</th>\n",
              "      <td>10.5</td>\n",
              "      <td>1472.0</td>\n",
              "      <td>12.699976</td>\n",
              "      <td>305.22</td>\n",
              "      <td>1</td>\n",
              "      <td>5.030132</td>\n",
              "      <td>0.016480</td>\n",
              "      <td>0.016480</td>\n",
              "      <td>4.105236</td>\n",
              "    </tr>\n",
              "    <tr>\n",
              "      <th>189153229</th>\n",
              "      <td>10.5</td>\n",
              "      <td>284.0</td>\n",
              "      <td>0.000000</td>\n",
              "      <td>95.31</td>\n",
              "      <td>1</td>\n",
              "      <td>1.213708</td>\n",
              "      <td>0.012734</td>\n",
              "      <td>0.012734</td>\n",
              "      <td>2.979750</td>\n",
              "    </tr>\n",
              "    <tr>\n",
              "      <th>189151585</th>\n",
              "      <td>10.5</td>\n",
              "      <td>2435.0</td>\n",
              "      <td>0.000000</td>\n",
              "      <td>461.25</td>\n",
              "      <td>1</td>\n",
              "      <td>3.247704</td>\n",
              "      <td>0.007041</td>\n",
              "      <td>0.007041</td>\n",
              "      <td>4.453117</td>\n",
              "    </tr>\n",
              "    <tr>\n",
              "      <th>189157464</th>\n",
              "      <td>10.5</td>\n",
              "      <td>891.0</td>\n",
              "      <td>0.000000</td>\n",
              "      <td>226.54</td>\n",
              "      <td>1</td>\n",
              "      <td>0.744850</td>\n",
              "      <td>0.003288</td>\n",
              "      <td>0.003288</td>\n",
              "      <td>3.182661</td>\n",
              "    </tr>\n",
              "  </tbody>\n",
              "</table>\n",
              "</div>"
            ],
            "text/plain": [
              "           additional_fare  duration  meter_waiting_fare     fare  label  \\\n",
              "tripid                                                                     \n",
              "189123628             10.5     834.0            0.000000   270.32      1   \n",
              "189125358             10.5     791.0            0.000000   197.85      1   \n",
              "189125719             10.5    1087.0            0.000000   301.64      1   \n",
              "189127273             10.5     598.0           15.663800    82.30      1   \n",
              "189128020              NaN    1020.0                 NaN   358.39      1   \n",
              "189129552             10.5    3407.0            0.000000  1065.02      1   \n",
              "189132829             10.5    1246.0            0.000000   266.62      1   \n",
              "189135103             10.5    1333.0           17.198500   318.05      1   \n",
              "189139296             10.5     360.0            4.664000   100.32      1   \n",
              "189138671             10.5    1539.0           33.986400   257.89      1   \n",
              "189135814             10.5      26.0            0.000000   694.37      0   \n",
              "189140969             10.5      31.0            0.000000   235.59      0   \n",
              "189144528             10.5    2011.0            0.000000   452.39      1   \n",
              "189147041             10.5    1260.0            0.000000   111.21      0   \n",
              "189145904             10.5     335.0            0.583000   126.87      1   \n",
              "189146174             10.5    4221.0           84.214600   672.87      1   \n",
              "189150541             10.5    1472.0           12.699976   305.22      1   \n",
              "189153229             10.5     284.0            0.000000    95.31      1   \n",
              "189151585             10.5    2435.0            0.000000   461.25      1   \n",
              "189157464             10.5     891.0            0.000000   226.54      1   \n",
              "\n",
              "            distance  feature1  distance_per_fare  absoluteduration_per_fare  \n",
              "tripid                                                                        \n",
              "189123628   2.467063  0.009126           0.009126                   2.878070  \n",
              "189125358   0.868942  0.004392           0.004392                   3.760425  \n",
              "189125719   5.531798  0.018339           0.018339                   3.338417  \n",
              "189127273   0.845795  0.010277           0.010277                   3.973269  \n",
              "189128020   7.527884  0.021005           0.021005                   0.000000  \n",
              "189129552   5.510397  0.005174           0.005174                   3.028112  \n",
              "189132829   4.749980  0.017816           0.017816                   2.846748  \n",
              "189135103   5.359651  0.016852           0.016852                   3.263638  \n",
              "189139296   0.679699  0.006775           0.006775                   2.791069  \n",
              "189138671   2.925253  0.011343           0.011343                   3.687619  \n",
              "189135814   2.582168  0.003719           0.003719                   0.010081  \n",
              "189140969   4.515559  0.019167           0.019167                   0.046691  \n",
              "189144528   7.755095  0.017142           0.017142                   4.005394  \n",
              "189147041   1.446996  0.013011           0.013011                  11.060156  \n",
              "189145904   0.271923  0.002143           0.002143                   2.561677  \n",
              "189146174  12.650333  0.018801           0.018801                   3.883365  \n",
              "189150541   5.030132  0.016480           0.016480                   4.105236  \n",
              "189153229   1.213708  0.012734           0.012734                   2.979750  \n",
              "189151585   3.247704  0.007041           0.007041                   4.453117  \n",
              "189157464   0.744850  0.003288           0.003288                   3.182661  "
            ]
          },
          "metadata": {
            "tags": []
          },
          "execution_count": 14
        }
      ]
    },
    {
      "cell_type": "markdown",
      "metadata": {
        "id": "Zlo2gRoCl67i",
        "colab_type": "text"
      },
      "source": [
        "**Training**"
      ]
    },
    {
      "cell_type": "code",
      "metadata": {
        "id": "pkOqECQEl6IQ",
        "colab_type": "code",
        "colab": {
          "base_uri": "https://localhost:8080/",
          "height": 139
        },
        "outputId": "b0320289-8842-477c-f121-223f30d7d17d"
      },
      "source": [
        "\n",
        "X_train = clean_df.drop(['label'],axis='columns')\n",
        "Y_train = clean_df['label']\n",
        "Y_train.head()"
      ],
      "execution_count": 15,
      "outputs": [
        {
          "output_type": "execute_result",
          "data": {
            "text/plain": [
              "tripid\n",
              "189123628    1\n",
              "189125358    1\n",
              "189125719    1\n",
              "189127273    1\n",
              "189128020    1\n",
              "Name: label, dtype: int64"
            ]
          },
          "metadata": {
            "tags": []
          },
          "execution_count": 15
        }
      ]
    },
    {
      "cell_type": "code",
      "metadata": {
        "id": "fXcAerSq7h6Y",
        "colab_type": "code",
        "colab": {}
      },
      "source": [
        "from pathlib import Path\n",
        "from math import radians, cos, sin, asin, sqrt\n",
        "import datetime as dt\n",
        "from sklearn.pipeline import Pipeline\n",
        "from sklearn.impute import SimpleImputer\n",
        "from sklearn.preprocessing import StandardScaler, OneHotEncoder\n",
        "from sklearn.compose import ColumnTransformer\n",
        "from sklearn.neural_network import MLPClassifier\n",
        "from sklearn.linear_model import LogisticRegression\n",
        "from sklearn.ensemble import RandomForestClassifier\n",
        "from xgboost import XGBClassifier\n",
        "from sklearn.ensemble import StackingClassifier\n"
      ],
      "execution_count": 16,
      "outputs": []
    },
    {
      "cell_type": "code",
      "metadata": {
        "id": "9rmrq68v7SLf",
        "colab_type": "code",
        "colab": {}
      },
      "source": [
        "numeric_transformer = Pipeline(steps=[\n",
        "    ('imputer', SimpleImputer(strategy='mean')),\n",
        "    ('scaler', StandardScaler())])\n",
        "\n",
        "categorical_transformer = Pipeline(steps=[\n",
        "    ('imputer', SimpleImputer(strategy='constant', fill_value='missing')),\n",
        "    ('onehot', OneHotEncoder(handle_unknown='ignore'))])\n",
        "\n",
        "numeric_features = clean_df.select_dtypes(include=['int64', 'float64']).drop(['label'], axis=1).columns\n",
        "\n",
        "categorical_features = clean_df.select_dtypes(include=['object']).columns\n",
        "\n",
        "preprocessor = ColumnTransformer(\n",
        "    transformers=[\n",
        "        ('num', numeric_transformer, numeric_features),\n",
        "        ('cat', categorical_transformer, categorical_features)])\n",
        "\n",
        "# get the models to evaluate\n",
        "level0 = list()\n",
        "level0.append(('xg',XGBClassifier(random_state=2, max_depth=4,n_estimators=300,gamma=0.3,learning_rate=0.2,max_delta_step=1))) \n",
        "level0.append(('mlp',MLPClassifier(hidden_layer_sizes=(50,100,50), max_iter=1000)))\n",
        "level0.append(('dt', RandomForestClassifier(n_estimators = 100,max_features = 'log2')))\n",
        "\n",
        "# define meta learner model\n",
        "level1 = LogisticRegression(penalty=\"l2\", C=3)\n",
        " \n",
        "estimator = StackingClassifier(estimators=level0, final_estimator=level1, cv=10)\n",
        "\n",
        "fullPipe = Pipeline([\n",
        "    ('preprocessor', preprocessor),\n",
        "    ('model', estimator)])"
      ],
      "execution_count": 17,
      "outputs": []
    },
    {
      "cell_type": "code",
      "metadata": {
        "id": "H1nxJQvD_LtP",
        "colab_type": "code",
        "colab": {}
      },
      "source": [
        "from sklearn.model_selection import train_test_split\n",
        "x_train, x_eval, y_train, y_eval = train_test_split(X_train, Y_train, test_size=0.33, shuffle=True, stratify=Y_train, random_state=6)\n"
      ],
      "execution_count": 19,
      "outputs": []
    },
    {
      "cell_type": "code",
      "metadata": {
        "id": "GZZBjuIJ7sEf",
        "colab_type": "code",
        "colab": {
          "base_uri": "https://localhost:8080/",
          "height": 35
        },
        "outputId": "823dd30b-3995-4ec0-e086-0c5b6deadc95"
      },
      "source": [
        "\n",
        "# Train model\n",
        "fullPipe.fit(x_train, np.ravel(y_train))\n",
        "\n",
        "preds = fullPipe.predict(x_eval)\n",
        "y_preds = pd.DataFrame({\"label\": preds},index = y_eval.index)\n",
        "\n",
        "from sklearn.metrics import f1_score\n",
        "print(f1_score(y_eval, y_preds))"
      ],
      "execution_count": 20,
      "outputs": [
        {
          "output_type": "stream",
          "text": [
            "0.9749228395061729\n"
          ],
          "name": "stdout"
        }
      ]
    },
    {
      "cell_type": "code",
      "metadata": {
        "id": "HBAywRPqDKYa",
        "colab_type": "code",
        "colab": {
          "base_uri": "https://localhost:8080/",
          "height": 35
        },
        "outputId": "3355c539-160f-4e94-b50a-f9bedf478cc6"
      },
      "source": [
        "from sklearn.metrics import roc_curve, auc\n",
        "false_positive_rate, true_positive_rate, thresholds = roc_curve(y_eval, y_preds)\n",
        "roc_auc = auc(false_positive_rate, true_positive_rate)\n",
        "roc_auc"
      ],
      "execution_count": 21,
      "outputs": [
        {
          "output_type": "execute_result",
          "data": {
            "text/plain": [
              "0.813953570308674"
            ]
          },
          "metadata": {
            "tags": []
          },
          "execution_count": 21
        }
      ]
    },
    {
      "cell_type": "code",
      "metadata": {
        "id": "LLM42qFv-A7D",
        "colab_type": "code",
        "colab": {
          "base_uri": "https://localhost:8080/",
          "height": 659
        },
        "outputId": "8b310584-1a31-44c2-941d-058a4ea11194"
      },
      "source": [
        "fullPipe.fit(X_train, np.ravel(Y_train))"
      ],
      "execution_count": null,
      "outputs": [
        {
          "output_type": "execute_result",
          "data": {
            "text/plain": [
              "Pipeline(memory=None,\n",
              "         steps=[('preprocessor',\n",
              "                 ColumnTransformer(n_jobs=None, remainder='drop',\n",
              "                                   sparse_threshold=0.3,\n",
              "                                   transformer_weights=None,\n",
              "                                   transformers=[('num',\n",
              "                                                  Pipeline(memory=None,\n",
              "                                                           steps=[('imputer',\n",
              "                                                                   SimpleImputer(add_indicator=False,\n",
              "                                                                                 copy=True,\n",
              "                                                                                 fill_value=None,\n",
              "                                                                                 missing_values=nan,\n",
              "                                                                                 strategy='mean',\n",
              "                                                                                 verbose=0)),\n",
              "                                                                  ('scaler',\n",
              "                                                                   StandardScaler(copy=True,\n",
              "                                                                                  with_mean=T...\n",
              "                                                                        verbose=0,\n",
              "                                                                        warm_start=False))],\n",
              "                                    final_estimator=LogisticRegression(C=3,\n",
              "                                                                       class_weight=None,\n",
              "                                                                       dual=False,\n",
              "                                                                       fit_intercept=True,\n",
              "                                                                       intercept_scaling=1,\n",
              "                                                                       l1_ratio=None,\n",
              "                                                                       max_iter=100,\n",
              "                                                                       multi_class='auto',\n",
              "                                                                       n_jobs=None,\n",
              "                                                                       penalty='l2',\n",
              "                                                                       random_state=None,\n",
              "                                                                       solver='lbfgs',\n",
              "                                                                       tol=0.0001,\n",
              "                                                                       verbose=0,\n",
              "                                                                       warm_start=False),\n",
              "                                    n_jobs=None, passthrough=False,\n",
              "                                    stack_method='auto', verbose=0))],\n",
              "         verbose=False)"
            ]
          },
          "metadata": {
            "tags": []
          },
          "execution_count": 106
        }
      ]
    },
    {
      "cell_type": "markdown",
      "metadata": {
        "id": "fltOEYKAqTeX",
        "colab_type": "text"
      },
      "source": [
        "**Predicting**"
      ]
    },
    {
      "cell_type": "code",
      "metadata": {
        "id": "fncF6lEGaiUi",
        "colab_type": "code",
        "colab": {
          "base_uri": "https://localhost:8080/",
          "height": 243
        },
        "outputId": "2138d07f-c101-4065-f008-73732d6dec77"
      },
      "source": [
        "test_df.isnull().sum()"
      ],
      "execution_count": null,
      "outputs": [
        {
          "output_type": "execute_result",
          "data": {
            "text/plain": [
              "additional_fare              0\n",
              "duration                     0\n",
              "meter_waiting                0\n",
              "meter_waiting_fare           0\n",
              "meter_waiting_till_pickup    0\n",
              "pickup_time                  0\n",
              "drop_time                    0\n",
              "pick_lat                     0\n",
              "pick_lon                     0\n",
              "drop_lat                     0\n",
              "drop_lon                     0\n",
              "fare                         0\n",
              "dtype: int64"
            ]
          },
          "metadata": {
            "tags": []
          },
          "execution_count": 107
        }
      ]
    },
    {
      "cell_type": "code",
      "metadata": {
        "id": "Ck-CwiXWakwg",
        "colab_type": "code",
        "colab": {
          "base_uri": "https://localhost:8080/",
          "height": 669
        },
        "outputId": "256da7bf-c46b-4301-c0fc-fc5a9293ed83"
      },
      "source": [
        "\n",
        "test_df.info()\n",
        "test_df.head()\n",
        "test_df.isnull().sum()\n",
        "test_df.head()"
      ],
      "execution_count": null,
      "outputs": [
        {
          "output_type": "stream",
          "text": [
            "<class 'pandas.core.frame.DataFrame'>\n",
            "Int64Index: 8576 entries, 213284604 to 222860703\n",
            "Data columns (total 12 columns):\n",
            " #   Column                     Non-Null Count  Dtype  \n",
            "---  ------                     --------------  -----  \n",
            " 0   additional_fare            8576 non-null   float64\n",
            " 1   duration                   8576 non-null   int64  \n",
            " 2   meter_waiting              8576 non-null   int64  \n",
            " 3   meter_waiting_fare         8576 non-null   float64\n",
            " 4   meter_waiting_till_pickup  8576 non-null   int64  \n",
            " 5   pickup_time                8576 non-null   object \n",
            " 6   drop_time                  8576 non-null   object \n",
            " 7   pick_lat                   8576 non-null   float64\n",
            " 8   pick_lon                   8576 non-null   float64\n",
            " 9   drop_lat                   8576 non-null   float64\n",
            " 10  drop_lon                   8576 non-null   float64\n",
            " 11  fare                       8576 non-null   float64\n",
            "dtypes: float64(7), int64(3), object(2)\n",
            "memory usage: 871.0+ KB\n"
          ],
          "name": "stdout"
        },
        {
          "output_type": "execute_result",
          "data": {
            "text/html": [
              "<div>\n",
              "<style scoped>\n",
              "    .dataframe tbody tr th:only-of-type {\n",
              "        vertical-align: middle;\n",
              "    }\n",
              "\n",
              "    .dataframe tbody tr th {\n",
              "        vertical-align: top;\n",
              "    }\n",
              "\n",
              "    .dataframe thead th {\n",
              "        text-align: right;\n",
              "    }\n",
              "</style>\n",
              "<table border=\"1\" class=\"dataframe\">\n",
              "  <thead>\n",
              "    <tr style=\"text-align: right;\">\n",
              "      <th></th>\n",
              "      <th>additional_fare</th>\n",
              "      <th>duration</th>\n",
              "      <th>meter_waiting</th>\n",
              "      <th>meter_waiting_fare</th>\n",
              "      <th>meter_waiting_till_pickup</th>\n",
              "      <th>pickup_time</th>\n",
              "      <th>drop_time</th>\n",
              "      <th>pick_lat</th>\n",
              "      <th>pick_lon</th>\n",
              "      <th>drop_lat</th>\n",
              "      <th>drop_lon</th>\n",
              "      <th>fare</th>\n",
              "    </tr>\n",
              "    <tr>\n",
              "      <th>tripid</th>\n",
              "      <th></th>\n",
              "      <th></th>\n",
              "      <th></th>\n",
              "      <th></th>\n",
              "      <th></th>\n",
              "      <th></th>\n",
              "      <th></th>\n",
              "      <th></th>\n",
              "      <th></th>\n",
              "      <th></th>\n",
              "      <th></th>\n",
              "      <th></th>\n",
              "    </tr>\n",
              "  </thead>\n",
              "  <tbody>\n",
              "    <tr>\n",
              "      <th>213284604</th>\n",
              "      <td>10.5</td>\n",
              "      <td>924</td>\n",
              "      <td>42</td>\n",
              "      <td>2.4486</td>\n",
              "      <td>148</td>\n",
              "      <td>2/1/2020 0:38</td>\n",
              "      <td>2/1/2020 0:53</td>\n",
              "      <td>6.83454</td>\n",
              "      <td>79.8750</td>\n",
              "      <td>6.77490</td>\n",
              "      <td>79.8840</td>\n",
              "      <td>289.27</td>\n",
              "    </tr>\n",
              "    <tr>\n",
              "      <th>213286352</th>\n",
              "      <td>10.5</td>\n",
              "      <td>4249</td>\n",
              "      <td>20</td>\n",
              "      <td>0.0000</td>\n",
              "      <td>91</td>\n",
              "      <td>2/1/2020 1:02</td>\n",
              "      <td>2/1/2020 2:13</td>\n",
              "      <td>6.91168</td>\n",
              "      <td>79.8723</td>\n",
              "      <td>6.55091</td>\n",
              "      <td>79.9706</td>\n",
              "      <td>1912.70</td>\n",
              "    </tr>\n",
              "    <tr>\n",
              "      <th>213293973</th>\n",
              "      <td>10.5</td>\n",
              "      <td>1552</td>\n",
              "      <td>255</td>\n",
              "      <td>2.6588</td>\n",
              "      <td>23</td>\n",
              "      <td>2/1/2020 5:02</td>\n",
              "      <td>2/1/2020 5:28</td>\n",
              "      <td>6.92145</td>\n",
              "      <td>79.8478</td>\n",
              "      <td>6.90539</td>\n",
              "      <td>79.8989</td>\n",
              "      <td>394.00</td>\n",
              "    </tr>\n",
              "    <tr>\n",
              "      <th>213294622</th>\n",
              "      <td>10.5</td>\n",
              "      <td>462</td>\n",
              "      <td>16</td>\n",
              "      <td>0.0000</td>\n",
              "      <td>198</td>\n",
              "      <td>2/1/2020 5:30</td>\n",
              "      <td>2/1/2020 5:38</td>\n",
              "      <td>6.77433</td>\n",
              "      <td>79.9416</td>\n",
              "      <td>6.80401</td>\n",
              "      <td>79.9407</td>\n",
              "      <td>154.32</td>\n",
              "    </tr>\n",
              "    <tr>\n",
              "      <th>213298687</th>\n",
              "      <td>10.5</td>\n",
              "      <td>814</td>\n",
              "      <td>392</td>\n",
              "      <td>12.3692</td>\n",
              "      <td>69</td>\n",
              "      <td>2/1/2020 7:00</td>\n",
              "      <td>2/1/2020 7:14</td>\n",
              "      <td>6.97968</td>\n",
              "      <td>79.9130</td>\n",
              "      <td>6.98875</td>\n",
              "      <td>79.8914</td>\n",
              "      <td>147.47</td>\n",
              "    </tr>\n",
              "  </tbody>\n",
              "</table>\n",
              "</div>"
            ],
            "text/plain": [
              "           additional_fare  duration  meter_waiting  meter_waiting_fare  \\\n",
              "tripid                                                                    \n",
              "213284604             10.5       924             42              2.4486   \n",
              "213286352             10.5      4249             20              0.0000   \n",
              "213293973             10.5      1552            255              2.6588   \n",
              "213294622             10.5       462             16              0.0000   \n",
              "213298687             10.5       814            392             12.3692   \n",
              "\n",
              "           meter_waiting_till_pickup    pickup_time      drop_time  pick_lat  \\\n",
              "tripid                                                                         \n",
              "213284604                        148  2/1/2020 0:38  2/1/2020 0:53   6.83454   \n",
              "213286352                         91  2/1/2020 1:02  2/1/2020 2:13   6.91168   \n",
              "213293973                         23  2/1/2020 5:02  2/1/2020 5:28   6.92145   \n",
              "213294622                        198  2/1/2020 5:30  2/1/2020 5:38   6.77433   \n",
              "213298687                         69  2/1/2020 7:00  2/1/2020 7:14   6.97968   \n",
              "\n",
              "           pick_lon  drop_lat  drop_lon     fare  \n",
              "tripid                                            \n",
              "213284604   79.8750   6.77490   79.8840   289.27  \n",
              "213286352   79.8723   6.55091   79.9706  1912.70  \n",
              "213293973   79.8478   6.90539   79.8989   394.00  \n",
              "213294622   79.9416   6.80401   79.9407   154.32  \n",
              "213298687   79.9130   6.98875   79.8914   147.47  "
            ]
          },
          "metadata": {
            "tags": []
          },
          "execution_count": 108
        }
      ]
    },
    {
      "cell_type": "code",
      "metadata": {
        "id": "npLcNkxTamk9",
        "colab_type": "code",
        "colab": {
          "base_uri": "https://localhost:8080/",
          "height": 156
        },
        "outputId": "2a7ad07f-3c93-4072-eea7-850b0ac2c7c9"
      },
      "source": [
        "test_df['distance'] = haversine_np(test_df['pick_lat'], test_df['pick_lon'], test_df['drop_lat'] , test_df['drop_lon'])\n",
        "test_df2 = test_df.drop(['pickup_time','drop_time','pick_lat','pick_lon','drop_lat','drop_lon'],axis='columns')\n",
        "\n",
        "test_df2.isnull().sum()"
      ],
      "execution_count": null,
      "outputs": [
        {
          "output_type": "execute_result",
          "data": {
            "text/plain": [
              "additional_fare              0\n",
              "duration                     0\n",
              "meter_waiting                0\n",
              "meter_waiting_fare           0\n",
              "meter_waiting_till_pickup    0\n",
              "fare                         0\n",
              "distance                     0\n",
              "dtype: int64"
            ]
          },
          "metadata": {
            "tags": []
          },
          "execution_count": 109
        }
      ]
    },
    {
      "cell_type": "code",
      "metadata": {
        "id": "ZUZm3KIgatOk",
        "colab_type": "code",
        "colab": {}
      },
      "source": [
        "test_df2['distance_per_fare'] = test_df2['distance']/test_df2['fare']\n",
        "test_df2.loc[~np.isfinite(test_df2['distance_per_fare'] ), 'distance_per_fare'] = 0\n",
        "\n",
        "test_df2['absoluteduration_per_fare'] = (test_df2['duration']- test_df2['meter_waiting'])/test_df2['fare']\n",
        "test_df2.loc[~np.isfinite(test_df2['absoluteduration_per_fare'] ), 'absoluteduration_per_fare'] = 0\n",
        "\n",
        "test_df2 = test_df2.drop(['meter_waiting_till_pickup','meter_waiting'],axis='columns')"
      ],
      "execution_count": null,
      "outputs": []
    },
    {
      "cell_type": "code",
      "metadata": {
        "id": "VtFUG1q-qlzf",
        "colab_type": "code",
        "colab": {}
      },
      "source": [
        "result = fullPipe.predict(test_df2)\n",
        "test_df2['prediction'] = result"
      ],
      "execution_count": null,
      "outputs": []
    },
    {
      "cell_type": "code",
      "metadata": {
        "id": "pcqg2rrYWahm",
        "colab_type": "code",
        "colab": {
          "base_uri": "https://localhost:8080/",
          "height": 35
        },
        "outputId": "e9693e86-767c-4083-e6d6-1f29be670148"
      },
      "source": [
        "result"
      ],
      "execution_count": null,
      "outputs": [
        {
          "output_type": "execute_result",
          "data": {
            "text/plain": [
              "array([1, 1, 1, ..., 1, 1, 1])"
            ]
          },
          "metadata": {
            "tags": []
          },
          "execution_count": 112
        }
      ]
    },
    {
      "cell_type": "code",
      "metadata": {
        "id": "sXCRsKGaqqAE",
        "colab_type": "code",
        "colab": {
          "base_uri": "https://localhost:8080/",
          "height": 156
        },
        "outputId": "d77c7e22-0991-4b78-be4f-0667ebbb37a3"
      },
      "source": [
        "final_df = test_df2.drop(['additional_fare','distance','duration','fare','feature2','feature1','meter_waiting_fare'],axis='columns')\n",
        "\n",
        "final_df.head()\n",
        "final_df.info()"
      ],
      "execution_count": null,
      "outputs": [
        {
          "output_type": "stream",
          "text": [
            "<class 'pandas.core.frame.DataFrame'>\n",
            "Int64Index: 8576 entries, 213284604 to 222860703\n",
            "Data columns (total 1 columns):\n",
            " #   Column      Non-Null Count  Dtype\n",
            "---  ------      --------------  -----\n",
            " 0   prediction  8576 non-null   int64\n",
            "dtypes: int64(1)\n",
            "memory usage: 134.0 KB\n"
          ],
          "name": "stdout"
        }
      ]
    },
    {
      "cell_type": "code",
      "metadata": {
        "id": "xds3euJbXD2m",
        "colab_type": "code",
        "colab": {
          "base_uri": "https://localhost:8080/",
          "height": 446
        },
        "outputId": "dc1928c3-c797-4ee6-e948-c1a6f2e29783"
      },
      "source": [
        "final_df"
      ],
      "execution_count": null,
      "outputs": [
        {
          "output_type": "execute_result",
          "data": {
            "text/html": [
              "<div>\n",
              "<style scoped>\n",
              "    .dataframe tbody tr th:only-of-type {\n",
              "        vertical-align: middle;\n",
              "    }\n",
              "\n",
              "    .dataframe tbody tr th {\n",
              "        vertical-align: top;\n",
              "    }\n",
              "\n",
              "    .dataframe thead th {\n",
              "        text-align: right;\n",
              "    }\n",
              "</style>\n",
              "<table border=\"1\" class=\"dataframe\">\n",
              "  <thead>\n",
              "    <tr style=\"text-align: right;\">\n",
              "      <th></th>\n",
              "      <th>prediction</th>\n",
              "    </tr>\n",
              "    <tr>\n",
              "      <th>tripid</th>\n",
              "      <th></th>\n",
              "    </tr>\n",
              "  </thead>\n",
              "  <tbody>\n",
              "    <tr>\n",
              "      <th>213284604</th>\n",
              "      <td>1</td>\n",
              "    </tr>\n",
              "    <tr>\n",
              "      <th>213286352</th>\n",
              "      <td>1</td>\n",
              "    </tr>\n",
              "    <tr>\n",
              "      <th>213293973</th>\n",
              "      <td>1</td>\n",
              "    </tr>\n",
              "    <tr>\n",
              "      <th>213294622</th>\n",
              "      <td>1</td>\n",
              "    </tr>\n",
              "    <tr>\n",
              "      <th>213298687</th>\n",
              "      <td>1</td>\n",
              "    </tr>\n",
              "    <tr>\n",
              "      <th>...</th>\n",
              "      <td>...</td>\n",
              "    </tr>\n",
              "    <tr>\n",
              "      <th>222856243</th>\n",
              "      <td>1</td>\n",
              "    </tr>\n",
              "    <tr>\n",
              "      <th>222857785</th>\n",
              "      <td>1</td>\n",
              "    </tr>\n",
              "    <tr>\n",
              "      <th>222858416</th>\n",
              "      <td>1</td>\n",
              "    </tr>\n",
              "    <tr>\n",
              "      <th>222858691</th>\n",
              "      <td>1</td>\n",
              "    </tr>\n",
              "    <tr>\n",
              "      <th>222860703</th>\n",
              "      <td>1</td>\n",
              "    </tr>\n",
              "  </tbody>\n",
              "</table>\n",
              "<p>8576 rows × 1 columns</p>\n",
              "</div>"
            ],
            "text/plain": [
              "           prediction\n",
              "tripid               \n",
              "213284604           1\n",
              "213286352           1\n",
              "213293973           1\n",
              "213294622           1\n",
              "213298687           1\n",
              "...               ...\n",
              "222856243           1\n",
              "222857785           1\n",
              "222858416           1\n",
              "222858691           1\n",
              "222860703           1\n",
              "\n",
              "[8576 rows x 1 columns]"
            ]
          },
          "metadata": {
            "tags": []
          },
          "execution_count": 114
        }
      ]
    },
    {
      "cell_type": "code",
      "metadata": {
        "id": "CwlxXGgZqqnD",
        "colab_type": "code",
        "colab": {}
      },
      "source": [
        "final_df.to_csv(DATA_PATH+'submission_emsemble.csv', index=True)"
      ],
      "execution_count": null,
      "outputs": []
    },
    {
      "cell_type": "code",
      "metadata": {
        "id": "2pq79B8fHQCt",
        "colab_type": "code",
        "colab": {}
      },
      "source": [
        ""
      ],
      "execution_count": null,
      "outputs": []
    }
  ]
}